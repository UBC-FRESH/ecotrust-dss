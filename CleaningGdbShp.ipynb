{
 "cells": [
  {
   "cell_type": "markdown",
   "metadata": {
    "tags": []
   },
   "source": [
    "# Initialize environment"
   ]
  },
  {
   "cell_type": "code",
   "execution_count": 1,
   "metadata": {
    "tags": []
   },
   "outputs": [],
   "source": [
    "import os\n",
    "import fiona"
   ]
  },
  {
   "cell_type": "code",
   "execution_count": 2,
   "metadata": {
    "tags": []
   },
   "outputs": [],
   "source": [
    "scenario_name = 'base'"
   ]
  },
  {
   "cell_type": "code",
   "execution_count": 3,
   "metadata": {
    "tags": []
   },
   "outputs": [
    {
     "ename": "FileNotFoundError",
     "evalue": "[Errno 2] No such file or directory: './data/p_slashburn.csv'",
     "output_type": "error",
     "traceback": [
      "\u001b[0;31m---------------------------------------------------------------------------\u001b[0m",
      "\u001b[0;31mFileNotFoundError\u001b[0m                         Traceback (most recent call last)",
      "File \u001b[0;32m/media/data/project/sghotb/ecotrust-dss-/deg_params.py:81\u001b[0m\n\u001b[1;32m     79\u001b[0m hdt_path \u001b[38;5;241m=\u001b[39m \u001b[38;5;124m'\u001b[39m\u001b[38;5;132;01m%s\u001b[39;00m\u001b[38;5;124m/hdt\u001b[39m\u001b[38;5;124m'\u001b[39m \u001b[38;5;241m%\u001b[39m dat_path\n\u001b[1;32m     80\u001b[0m coast_bn \u001b[38;5;241m=\u001b[39m [\u001b[38;5;124m'\u001b[39m\u001b[38;5;124mtsa01\u001b[39m\u001b[38;5;124m'\u001b[39m, \u001b[38;5;124m'\u001b[39m\u001b[38;5;124mtsa02\u001b[39m\u001b[38;5;124m'\u001b[39m, \u001b[38;5;124m'\u001b[39m\u001b[38;5;124mtsa03\u001b[39m\u001b[38;5;124m'\u001b[39m] \u001b[38;5;66;03m# FIX ME: totally bogus (check GIS data for real coast TSA codes) \u001b[39;00m\n\u001b[0;32m---> 81\u001b[0m _p_slashburn \u001b[38;5;241m=\u001b[39m \u001b[43mread_pslashburn\u001b[49m\u001b[43m(\u001b[49m\u001b[38;5;124;43m'\u001b[39;49m\u001b[38;5;132;43;01m%s\u001b[39;49;00m\u001b[38;5;124;43m/p_slashburn.csv\u001b[39;49m\u001b[38;5;124;43m'\u001b[39;49m\u001b[43m \u001b[49m\u001b[38;5;241;43m%\u001b[39;49m\u001b[43m \u001b[49m\u001b[43mdat_path\u001b[49m\u001b[43m)\u001b[49m\n\u001b[1;32m     82\u001b[0m p_slashburn \u001b[38;5;241m=\u001b[39m \u001b[38;5;28;01mlambda\u001b[39;00m bn: _p_slashburn[bn]\n\u001b[1;32m     83\u001b[0m \u001b[38;5;66;03m# oe = operability expression\u001b[39;00m\n\u001b[1;32m     84\u001b[0m \u001b[38;5;66;03m# ogi = old growth index\u001b[39;00m\n",
      "File \u001b[0;32m/media/data/project/sghotb/ecotrust-dss-/deg.py:188\u001b[0m, in \u001b[0;36mread_pslashburn\u001b[0;34m(path)\u001b[0m\n\u001b[1;32m    186\u001b[0m \u001b[38;5;28;01mdef\u001b[39;00m \u001b[38;5;21mread_pslashburn\u001b[39m(path):\n\u001b[1;32m    187\u001b[0m     result \u001b[38;5;241m=\u001b[39m {}\n\u001b[0;32m--> 188\u001b[0m     \u001b[38;5;28;01mfor\u001b[39;00m line \u001b[38;5;129;01min\u001b[39;00m \u001b[38;5;28;43mopen\u001b[39;49m\u001b[43m(\u001b[49m\u001b[43mpath\u001b[49m\u001b[43m,\u001b[49m\u001b[43m \u001b[49m\u001b[38;5;124;43m'\u001b[39;49m\u001b[38;5;124;43mr\u001b[39;49m\u001b[38;5;124;43m'\u001b[39;49m\u001b[43m)\u001b[49m:\n\u001b[1;32m    189\u001b[0m         \u001b[38;5;28;01mif\u001b[39;00m line\u001b[38;5;241m.\u001b[39mstrip()\u001b[38;5;241m.\u001b[39mstartswith(\u001b[38;5;124m'\u001b[39m\u001b[38;5;124m#\u001b[39m\u001b[38;5;124m'\u001b[39m): \u001b[38;5;28;01mcontinue\u001b[39;00m\n\u001b[1;32m    190\u001b[0m         k, v \u001b[38;5;241m=\u001b[39m line\u001b[38;5;241m.\u001b[39mlower()\u001b[38;5;241m.\u001b[39mstrip()\u001b[38;5;241m.\u001b[39msplit(\u001b[38;5;124m'\u001b[39m\u001b[38;5;124m,\u001b[39m\u001b[38;5;124m'\u001b[39m)\n",
      "\u001b[0;31mFileNotFoundError\u001b[0m: [Errno 2] No such file or directory: './data/p_slashburn.csv'"
     ]
    }
   ],
   "source": [
    "%matplotlib inline\n",
    "%reload_ext autoreload\n",
    "%reload_ext line_profiler\n",
    "%run -i deg\n",
    "%run -i deg_params\n",
    "%aimport ws3\n",
    "%aimport deg\n",
    "%autoreload 2"
   ]
  },
  {
   "cell_type": "raw",
   "metadata": {},
   "source": [
    "Code for unziping tar -xzvf tsa22.gdb.tar.gz"
   ]
  },
  {
   "cell_type": "code",
   "execution_count": null,
   "metadata": {},
   "outputs": [],
   "source": [
    "gdb_path = \"./data/gdb_files/tsa01.gdb\"\n",
    "# shp_path = \"project/ecotrust_dss/data/shp_files\"\n",
    "shp_path = \"./data\""
   ]
  },
  {
   "cell_type": "code",
   "execution_count": null,
   "metadata": {
    "tags": []
   },
   "outputs": [],
   "source": [
    "basenames = ['tsa01'] # Dry Forest\n",
    "# ['tsa17'] # Robson Valley "
   ]
  },
  {
   "cell_type": "code",
   "execution_count": null,
   "metadata": {
    "tags": []
   },
   "outputs": [],
   "source": [
    "# From deg.py\n",
    "def clean_shapefiles():\n",
    "    for bn in basenames:\n",
    "        print('cleaning GDB', gdb_path, shp_path)\n",
    "        if not Path(shp_path).exists(): \n",
    "            Path(shp_path).mkdir()\n",
    "        snk1_path, snk2_path = clean_vector_data(gdb_path, shp_path, '_stands', prop_names, clean=True,\n",
    "                                                 tolerance=tolerance, max_records=None, \n",
    "                                                 theme0=bn, prop_types= None, driver = 'ESRI Shapefile', dst_epsg=None)\n",
    "        with fiona.open(gdb_path) as src0, fiona.open(snk1_path) as src1, fiona.open(snk2_path) as src2:\n",
    "            print('Polygons in original dataset', len(src0))\n",
    "            print('Polygons in clean dataset', len(src1))\n",
    "            print('Uncleanable polygons', len(src2))\n",
    "        reproject_vector_data(shp_path)+'/_stands.shp', shp_path+'/stands.shp', snk_epsg\n",
    "        _path = '%s/shp/%s.shp' % (dat_path, bn)\n",
    "        for f in [f for f in listdir(_path) if isfile(join(_path, f)) and f.startswith('_stands')]: \n",
    "            os.remove('%s/%s' % (_path, f))\n",
    "            "
   ]
  },
  {
   "cell_type": "code",
   "execution_count": null,
   "metadata": {
    "tags": []
   },
   "outputs": [],
   "source": [
    "for i, bn in enumerate(basenames[:]):\n",
    "    print(i,bn)\n",
    "    clean_shapefiles()"
   ]
  },
  {
   "cell_type": "code",
   "execution_count": null,
   "metadata": {},
   "outputs": [],
   "source": []
  }
 ],
 "metadata": {
  "kernelspec": {
   "display_name": "Python 3 (venv:foo)",
   "language": "python",
   "name": "foo"
  },
  "language_info": {
   "codemirror_mode": {
    "name": "ipython",
    "version": 3
   },
   "file_extension": ".py",
   "mimetype": "text/x-python",
   "name": "python",
   "nbconvert_exporter": "python",
   "pygments_lexer": "ipython3",
   "version": "3.10.12"
  }
 },
 "nbformat": 4,
 "nbformat_minor": 4
}
