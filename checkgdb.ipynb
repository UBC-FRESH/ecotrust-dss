{
 "cells": [
  {
   "cell_type": "code",
   "execution_count": 1,
   "id": "144e44da-f2f2-4025-be72-78e517f513a8",
   "metadata": {
    "tags": []
   },
   "outputs": [
    {
     "name": "stderr",
     "output_type": "stream",
     "text": [
      "/media/data/home/eghasemi/.virtualenvs/foo/lib/python3.10/site-packages/pacal/interpolation.py:52: UserWarning: Compiled interpolation routine not available\n",
      "  warnings.warn(\"Compiled interpolation routine not available\")\n"
     ]
    },
    {
     "name": "stdout",
     "output_type": "stream",
     "text": [
      "Compiled sparse grid routine not available\n"
     ]
    }
   ],
   "source": [
    "import fiona\n",
    "import logging\n",
    "import sys\n",
    "from shapely.geometry import mapping, shape\n",
    "import fiona\n",
    "from collections import OrderedDict\n",
    "from ws3.common import  reproject_vector_data\n",
    "import os\n",
    "from os import listdir\n",
    "from os.path import isfile, join\n",
    "from fiona.crs import CRS\n",
    "from shapely.geometry import MultiPolygon\n"
   ]
  },
  {
   "cell_type": "raw",
   "id": "c3296dc5-182f-402e-a2a2-1208071a5171",
   "metadata": {
    "tags": []
   },
   "source": [
    "gdb_path = lambda bn: '%s/gdb/%s.gdb' % (dat_path, bn)\n",
    "shp_path = lambda bn: '%s/shp/%s.shp' % (dat_path, bn)"
   ]
  },
  {
   "cell_type": "code",
   "execution_count": 2,
   "id": "ea0c85f0-f321-4d50-a575-5d45c34efd7e",
   "metadata": {
    "tags": []
   },
   "outputs": [],
   "source": [
    "dat_path = '../dat'\n",
    "gdb_path = '../dat/gdb/tsa17.gdb'\n",
    "shp_path = '../dat/shp/tsa17.shp'\n",
    "dst_path = shp_path\n",
    "src_path = gdb_path"
   ]
  },
  {
   "cell_type": "code",
   "execution_count": 3,
   "id": "64927664-75ce-4850-9006-c30541642613",
   "metadata": {
    "tags": []
   },
   "outputs": [],
   "source": [
    "logfn='clean_stand_shapefile.log'"
   ]
  },
  {
   "cell_type": "code",
   "execution_count": 4,
   "id": "ead4fb08-d5ff-402d-8e55-540c1c8dbe9f",
   "metadata": {
    "tags": []
   },
   "outputs": [],
   "source": [
    "dst_name = '_stands'"
   ]
  },
  {
   "cell_type": "code",
   "execution_count": 5,
   "id": "2e41f888-8c08-48c7-afd8-6d79fabcdd2e",
   "metadata": {
    "tags": []
   },
   "outputs": [],
   "source": [
    "snk1_path = '%s/%s.shp' % (dst_path, dst_name) \n",
    "snk2_path = '%s/%s_error.shp' % (dst_path, dst_name) "
   ]
  },
  {
   "cell_type": "code",
   "execution_count": 6,
   "id": "835de597-050e-4245-8aeb-916c3c34556c",
   "metadata": {
    "tags": []
   },
   "outputs": [],
   "source": [
    "driver='ESRI Shapefile'"
   ]
  },
  {
   "cell_type": "code",
   "execution_count": 7,
   "id": "03b741f2-f5b9-4bac-be86-7a22463bebda",
   "metadata": {
    "tags": []
   },
   "outputs": [],
   "source": [
    "dst_epsg=None\n",
    "# prop_types=None\n",
    "prop_names = [u'THLB', u'AU', u'LdSpp', u'Age2015', u'Shape_Area']\n",
    "prop_types = [(u'theme0', 'str:10'),\n",
    "              (u'theme1', 'str:1'),\n",
    "              (u'theme2', 'str:5'), \n",
    "              (u'theme3', 'str:50'), \n",
    "              (u'age', 'int:5'), \n",
    "              (u'area', 'float:10.1')]\n",
    "basenames = ['tsa17']\n",
    "theme0 = basenames\n",
    "bn = basenames\n",
    "max_records=None\n",
    "snk_epsg = 3005 # ESPG:3005 corresponds to NAD83/BC Albers"
   ]
  },
  {
   "cell_type": "code",
   "execution_count": 8,
   "id": "e8ac2ca1-fb61-4f3b-b678-79d08daa66d3",
   "metadata": {},
   "outputs": [
    {
     "name": "stdout",
     "output_type": "stream",
     "text": [
      "Polygons in original dataset 45891\n",
      "Polygons in clean dataset 45891\n",
      "Uncleanable polygons 0\n"
     ]
    },
    {
     "name": "stderr",
     "output_type": "stream",
     "text": [
      "/tmp/ipykernel_543399/1878822016.py:60: FionaDeprecationWarning: This function will be removed in version 2.0. Please use CRS.from_epsg() instead.\n",
      "  reproject_vector_data(shp_path+'/_stands.shp', shp_path +'/stands.shp', snk_epsg)\n"
     ]
    }
   ],
   "source": [
    "with fiona.open(src_path, 'r') as src:\n",
    "    kwds1 = src.meta.copy()\n",
    "    kwds2 = src.meta.copy()\n",
    "    kwds1.update(driver=driver)\n",
    "    kwds2.update(driver=driver)\n",
    "    if dst_epsg:\n",
    "        dst_crs = from_epsg(dst_epsg)\n",
    "        kwds1.update(crs=dst_crs, crs_wkt=None)\n",
    "    if not prop_types:\n",
    "        prop_types = [('theme0', 'str:10')] if theme0 else []\n",
    "        prop_types = prop_types + [(pn.lower(), src.schema['properties'][pn]) for pn in prop_names]\n",
    "    kwds1['schema']['properties'] = OrderedDict(prop_types)\n",
    "    kwds2['schema']['properties'] = OrderedDict(prop_types)\n",
    "    kwds1['schema']['geometry'] = 'Polygon'  \n",
    "    kwds2['schema']['geometry'] = 'Polygon'  \n",
    "\n",
    "    # Assuming snk1_path and snk2_path are the paths to your output datasets\n",
    "    with fiona.open(snk1_path, 'w', **kwds1) as snk1, fiona.open(snk2_path, 'w', **kwds2) as snk2:\n",
    "        n = len(src) if not max_records else max_records\n",
    "        # print(n)\n",
    "        for f in src[:n]:\n",
    "            # print(f)\n",
    "            prop_data = [('theme0', theme0)] if theme0 else []\n",
    "            if prop_types:\n",
    "                prop_data = prop_data + [(prop_types[i + len(prop_data)][0], f['properties'][pn])\n",
    "                                         for i, pn in enumerate(prop_names)]\n",
    "            else:\n",
    "                prop_data = prop_data + [(pn.lower(), f['properties'][pn]) for pn in prop_names]\n",
    "\n",
    "            # Convert list property values to strings before writing\n",
    "            for key, value in prop_data:\n",
    "                if isinstance(value, list):\n",
    "                    prop_data[prop_data.index((key, value))] = (key, ', '.join(map(str, value)))\n",
    "\n",
    "            try:\n",
    "                g = shape(f['geometry'])\n",
    "                # print(g)\n",
    "                # if g.geom_type == 'Polygon':\n",
    "                #     g = MultiPolygon([g]) \n",
    "                if not g.is_valid:\n",
    "                    _g = g.buffer(0)\n",
    "                    assert _g.is_valid\n",
    "                    assert _g.geom_type == 'Polygon'\n",
    "                    g = _g\n",
    "\n",
    "                new_f = {'properties': OrderedDict(prop_data),\n",
    "                         'geometry': mapping(g)\n",
    "                         }\n",
    "                if dst_epsg:\n",
    "                    new_f = reproject(new_f, src.crs, dst_crs)\n",
    "                snk1.write(new_f)\n",
    "            except Exception as e:  # log exception and write uncleanable feature a separate shapefile\n",
    "                logging.exception(\"Error cleaning feature %s:\", f['id'])\n",
    "                snk2.write(new_f)\n",
    "\n",
    "with fiona.open(gdb_path) as src0, fiona.open(snk1_path) as src1, fiona.open(snk2_path) as src2:\n",
    "    print('Polygons in original dataset', len(src0))\n",
    "    print('Polygons in clean dataset', len(src1))\n",
    "    print('Uncleanable polygons', len(src2))\n",
    "reproject_vector_data(shp_path+'/_stands.shp', shp_path +'/stands.shp', snk_epsg)\n",
    "_path = '%s/shp/%s.shp' % (dat_path, 'tsa17')\n",
    "for f in [f for f in listdir(_path) if isfile(join(_path, f)) and f.startswith('_stands')]: \n",
    "            os.remove('%s/%s' % (_path, f))\n"
   ]
  },
  {
   "cell_type": "code",
   "execution_count": null,
   "id": "d6a1c4dd-9208-4d99-a24e-5c1ea76f6623",
   "metadata": {},
   "outputs": [],
   "source": []
  }
 ],
 "metadata": {
  "kernelspec": {
   "display_name": "Python 3 (venv:foo)",
   "language": "python",
   "name": "foo"
  },
  "language_info": {
   "codemirror_mode": {
    "name": "ipython",
    "version": 3
   },
   "file_extension": ".py",
   "mimetype": "text/x-python",
   "name": "python",
   "nbconvert_exporter": "python",
   "pygments_lexer": "ipython3",
   "version": "3.10.12"
  }
 },
 "nbformat": 4,
 "nbformat_minor": 5
}
