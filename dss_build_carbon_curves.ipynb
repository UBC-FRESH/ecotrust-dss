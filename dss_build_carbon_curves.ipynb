{
 "cells": [
  {
   "cell_type": "markdown",
   "id": "1a5d44a5-2160-4043-aff7-eecad3db2ce0",
   "metadata": {
    "tags": []
   },
   "source": [
    "In this notebook we generate the carbon curves for each case and compare the results obtained from ws3 with libCBM"
   ]
  },
  {
   "cell_type": "markdown",
   "id": "4fa10e90-f214-4741-8e50-4c0ec0d96d54",
   "metadata": {},
   "source": [
    "# Set up environment for each case study"
   ]
  },
  {
   "cell_type": "code",
   "execution_count": null,
   "id": "b3d9153b-9b91-4fcf-bf20-ec33df6d5049",
   "metadata": {},
   "outputs": [],
   "source": [
    "import numpy as np\n",
    "import math\n",
    "import matplotlib.pyplot as plt\n",
    "import pandas as pd\n",
    "import ipywidgets as widgets\n",
    "from IPython.display import display\n",
    "import ws3.forest\n",
    "import time\n",
    "import gurobipy as grb\n",
    "import pickle\n",
    "import os\n",
    "from util import compile_scenario_maxstock, plot_scenario_maxstock, run_cbm_emissionstock, cbm_report, plugin_c_curves, compare_ws3_cbm, compile_events, plugin_c_curves_both, cbm_report_both, compare_ws3_cbm_both"
   ]
  },
  {
   "cell_type": "raw",
   "id": "8d0ccd79-0d2a-4511-b4d9-4267b034e757",
   "metadata": {},
   "source": [
    "def select_case_study(case_study):\n",
    "    print(f\"Selected scenario: {case_study}\")\n",
    "case_study_dropdown = widgets.Dropdown(\n",
    "    options=['redchris', 'goldenbear', 'equitysilver', 'test'],\n",
    "    value='test',\n",
    "    description='Case Study:'\n",
    ")\n",
    "display(case_study_dropdown)\n",
    "case_study_dropdown.observe(lambda change: select_case_study(change['new']), names='value')"
   ]
  },
  {
   "cell_type": "raw",
   "id": "e6c46b5b-17fe-4055-8648-145c11ead45c",
   "metadata": {},
   "source": [
    "case_study = case_study_dropdown.value"
   ]
  },
  {
   "cell_type": "raw",
   "id": "ee4aa758-f5a0-4b3c-be86-0f0a24dad5b4",
   "metadata": {},
   "source": [
    "#Start Calculating the Running Time\n",
    "Start = time.time()"
   ]
  },
  {
   "cell_type": "code",
   "execution_count": null,
   "id": "21b61334-7f24-4002-9dc9-d9d79eedb8b2",
   "metadata": {},
   "outputs": [],
   "source": [
    "base_year = 2020\n",
    "horizon = 10\n",
    "period_length = 10\n",
    "max_age = 1000\n",
    "n_steps = 100\n",
    "tvy_name = 'totvol'"
   ]
  },
  {
   "cell_type": "raw",
   "id": "c7e07c96-c9ab-4ae0-a494-db37c9e8e63b",
   "metadata": {},
   "source": [
    "# Define case study mappings\n",
    "case_study_options = {\n",
    "    'redchris': {\n",
    "        'model_name': 'redchris',\n",
    "        'model_path': './data/woodstock_model_files_redchris'\n",
    "    },\n",
    "    'goldenbear': {\n",
    "        'model_name': 'goldenbear',\n",
    "        'model_path': './data/woodstock_model_files_goldenbear'\n",
    "    },\n",
    "    'equitysilver': {\n",
    "        'model_name': 'equitysilver',\n",
    "        'model_path': './data/woodstock_model_files_equitysilver'\n",
    "    },\n",
    "    'test': {\n",
    "        'model_name': 'redchris',\n",
    "        'model_path': './data/woodstock_model_files_redchris_test'\n",
    "    }\n",
    "}\n",
    "\n",
    "# Retrieve model details based on case study\n",
    "model_info = case_study_options.get(case_study)\n",
    "\n",
    "if model_info:\n",
    "    model_name = model_info['model_name']\n",
    "    model_path = model_info['model_path']\n",
    "else:\n",
    "    print('The case study name is not valid')\n"
   ]
  },
  {
   "cell_type": "markdown",
   "id": "84d286e1-4f32-408d-831d-ff751dee88a9",
   "metadata": {
    "tags": []
   },
   "source": [
    "## Create and Run `ForestModel` instance"
   ]
  },
  {
   "cell_type": "raw",
   "id": "bc445d64-0b75-488f-8153-f6e62cf41fad",
   "metadata": {
    "tags": []
   },
   "source": [
    "fm = ws3.forest.ForestModel(model_name='ecotrust',\n",
    "                            model_path='./data/woodstock_model_files_ecotrust',\n",
    "                            base_year=base_year,\n",
    "                            horizon=horizon,\n",
    "                            period_length=period_length,\n",
    "                            max_age=max_age)\n",
    "\n",
    "fm.import_landscape_section()\n",
    "fm.import_areas_section()\n",
    "fm.import_yields_section()\n",
    "fm.import_actions_section()\n",
    "fm.import_transitions_section()\n",
    "fm.initialize_areas()\n",
    "fm.add_null_action()\n",
    "fm.reset_actions()\n",
    "fm.grow()"
   ]
  },
  {
   "cell_type": "code",
   "execution_count": null,
   "id": "9401e81e-4561-42fe-8593-715d881f913c",
   "metadata": {
    "tags": []
   },
   "outputs": [],
   "source": [
    "fm = ws3.forest.ForestModel(model_name='ecotrust',\n",
    "                            model_path='data/woodstock_model_files_ecotrust',\n",
    "                            base_year=base_year,\n",
    "                            horizon=horizon,\n",
    "                            period_length=period_length,\n",
    "                            max_age=max_age)\n",
    "fm.import_landscape_section()\n",
    "fm.import_areas_section()\n",
    "fm.import_yields_section()\n",
    "fm.import_actions_section()\n",
    "fm.import_transitions_section()\n",
    "fm.initialize_areas()\n",
    "fm.add_null_action()\n",
    "fm.reset_actions()\n",
    "fm.grow()"
   ]
  },
  {
   "cell_type": "code",
   "execution_count": null,
   "id": "a77b8fb2-0f0b-4782-8edb-3fe18bba40fc",
   "metadata": {},
   "outputs": [],
   "source": [
    "len(list(fm.dtypes))"
   ]
  },
  {
   "cell_type": "code",
   "execution_count": null,
   "id": "30d092be-07ec-469b-839a-3410d0923ebd",
   "metadata": {},
   "outputs": [],
   "source": [
    "list(fm.dtypes)"
   ]
  },
  {
   "cell_type": "raw",
   "id": "146a6d67-4594-4a94-b4ca-f3e73e6817bf",
   "metadata": {
    "tags": []
   },
   "source": [
    "# Check the Forest Inventory of the Forest Model\n",
    "df = compile_scenario_maxstock(fm)\n",
    "plot_scenario_maxstock(df)"
   ]
  },
  {
   "cell_type": "markdown",
   "id": "9597ca3e-2d50-4fc5-86d7-d65110ac0105",
   "metadata": {
    "tags": []
   },
   "source": [
    "## Hard-link `ForestModel` to `libcbm`"
   ]
  },
  {
   "cell_type": "markdown",
   "id": "3d758cb0-7bba-4bb2-b6a6-cd078d9a3602",
   "metadata": {},
   "source": [
    "Prepare CBM input files"
   ]
  },
  {
   "cell_type": "code",
   "execution_count": null,
   "id": "1a3238c3-ef1e-4aab-aac1-20c951520bc5",
   "metadata": {
    "tags": []
   },
   "outputs": [],
   "source": [
    "# Define Disturance Types\n",
    "disturbance_type_mapping = [{'user_dist_type': 'harvest', 'default_dist_type': 'Clearcut harvesting without salvage'},\n",
    "                            {'user_dist_type': 'fire', 'default_dist_type': 'Wildfire'}]\n",
    "for dtype_key in fm.dtypes:\n",
    "    fm.dt(dtype_key).last_pass_disturbance = 'fire' if dtype_key[2] == dtype_key[4] else 'harvest'"
   ]
  },
  {
   "cell_type": "markdown",
   "id": "aa26a5b6-9c12-4653-9fa8-d9b46e71fee2",
   "metadata": {},
   "source": [
    "Here are other two ways to generate sit tables. But they are only suitbale for small forest model since they take too much running time and memory"
   ]
  },
  {
   "cell_type": "code",
   "execution_count": null,
   "id": "06d83d28-1b1f-4731-85d7-5f27903e39c7",
   "metadata": {},
   "outputs": [],
   "source": [
    "sit_config, sit_tables = fm.to_cbm_sit(softwood_volume_yname='swdvol', \n",
    "                                       hardwood_volume_yname='hwdvol', \n",
    "                                       admin_boundary='British Columbia', \n",
    "                                       eco_boundary='Montane Cordillera',\n",
    "                                       disturbance_type_mapping=disturbance_type_mapping,\n",
    "                                       include_empty_dtypes=True)"
   ]
  },
  {
   "cell_type": "code",
   "execution_count": null,
   "id": "fc9fb2f7-6913-4fb1-b756-edea6e1237c3",
   "metadata": {},
   "outputs": [],
   "source": [
    "sit_tables['sit_transitions']"
   ]
  },
  {
   "cell_type": "code",
   "execution_count": null,
   "id": "c4ae7e3e-22b9-465d-8a66-0d63af54baf3",
   "metadata": {},
   "outputs": [],
   "source": [
    "len(list(fm.dtypes))"
   ]
  },
  {
   "cell_type": "code",
   "execution_count": null,
   "id": "6d2ee6a6-4a89-4a06-8326-7a821608e9a6",
   "metadata": {},
   "outputs": [],
   "source": [
    "list(fm.dtypes)"
   ]
  },
  {
   "cell_type": "raw",
   "id": "2e3f9218-0385-4ade-9c7a-9294798a4011",
   "metadata": {},
   "source": [
    "from libcbm.input.sit import sit_reader\n",
    "from libcbm.input.sit import sit_cbm_factory \n",
    "from libcbm.model.cbm.cbm_output import CBMOutput\n",
    "from libcbm.storage.backends import BackendType\n",
    "from libcbm.model.cbm import cbm_simulator\n",
    "sit_data = sit_reader.parse(sit_classifiers=sit_tables['sit_classifiers'],\n",
    "                            sit_disturbance_types=sit_tables['sit_disturbance_types'],\n",
    "                            sit_age_classes=sit_tables['sit_age_classes'],\n",
    "                            sit_inventory=sit_tables['sit_inventory'],\n",
    "                            sit_yield=sit_tables['sit_yield'],\n",
    "                            sit_events=sit_tables['sit_events'],\n",
    "                            sit_transitions=sit_tables['sit_transitions'],\n",
    "                            sit_eligibilities=None)\n",
    "sit = sit_cbm_factory.initialize_sit(sit_data=sit_data, config=sit_config)\n",
    "classifiers, inventory = sit_cbm_factory.initialize_inventory(sit)\n",
    "cbm_output = CBMOutput(classifier_map=sit.classifier_value_names,\n",
    "                       disturbance_type_map=sit.disturbance_name_map)\n",
    "with sit_cbm_factory.initialize_cbm(sit) as cbm:\n",
    "    # Create a function to apply rule based disturbance events and transition rules based on the SIT input\n",
    "    rule_based_processor = sit_cbm_factory.create_sit_rule_based_processor(sit, cbm)\n",
    "    # The following line of code spins up the CBM inventory and runs it through 200 timesteps.\n",
    "    cbm_simulator.simulate(cbm,\n",
    "                           n_steps=n_steps,\n",
    "                           classifiers=classifiers,\n",
    "                           inventory=inventory,\n",
    "                           pre_dynamics_func=rule_based_processor.pre_dynamics_func,\n",
    "                           reporting_func=cbm_output.append_simulation_result,\n",
    "                           backend_type=BackendType.numpy)\n",
    "pi = cbm_output.classifiers.to_pandas().merge(cbm_output.pools.to_pandas(), \n",
    "                                              left_on=[\"identifier\", \"timestep\"], \n",
    "                                              right_on=[\"identifier\", \"timestep\"])\n",
    "biomass_pools = ['SoftwoodMerch','SoftwoodFoliage', 'SoftwoodOther', 'SoftwoodCoarseRoots','SoftwoodFineRoots',                        \n",
    "                 'HardwoodMerch', 'HardwoodFoliage', 'HardwoodOther', 'HardwoodCoarseRoots', 'HardwoodFineRoots']\n",
    "dom_pools = ['AboveGroundVeryFastSoil', 'BelowGroundVeryFastSoil', 'AboveGroundFastSoil', 'BelowGroundFastSoil',\n",
    "             'MediumSoil', 'AboveGroundSlowSoil', 'BelowGroundSlowSoil', 'SoftwoodStemSnag', 'SoftwoodBranchSnag',\n",
    "             'HardwoodStemSnag', 'HardwoodBranchSnag']"
   ]
  },
  {
   "cell_type": "code",
   "execution_count": null,
   "id": "53b3ad24-e990-49ec-a54e-a833f8fbdb51",
   "metadata": {},
   "outputs": [],
   "source": [
    "sit_config"
   ]
  },
  {
   "cell_type": "code",
   "execution_count": null,
   "id": "2abb36bc-877f-4b52-a00d-26f153a51f79",
   "metadata": {},
   "outputs": [],
   "source": [
    "sit_tables"
   ]
  },
  {
   "cell_type": "code",
   "execution_count": null,
   "id": "b1dd924f-55e4-4ecc-876b-f82cde875582",
   "metadata": {},
   "outputs": [],
   "source": [
    "n_steps"
   ]
  },
  {
   "cell_type": "code",
   "execution_count": null,
   "id": "c0d05155-9b33-49c8-8320-ad9acbafda13",
   "metadata": {
    "tags": []
   },
   "outputs": [],
   "source": [
    "# Define Time Steps\n",
    "n_steps = fm.horizon * fm.period_length\n",
    "\n",
    "# Run CBM and Generate CBM 0utputs\n",
    "cbm_output = run_cbm_emissionstock(sit_config, sit_tables, n_steps)"
   ]
  },
  {
   "cell_type": "code",
   "execution_count": null,
   "id": "3c774241-5bab-4552-8707-ee475e18a79b",
   "metadata": {},
   "outputs": [],
   "source": [
    "# Define Carbon Pools\n",
    "biomass_pools = ['SoftwoodMerch','SoftwoodFoliage', 'SoftwoodOther', 'SoftwoodCoarseRoots','SoftwoodFineRoots',                    \n",
    "                 'HardwoodMerch', 'HardwoodFoliage', 'HardwoodOther', 'HardwoodCoarseRoots', 'HardwoodFineRoots']\n",
    "dom_pools = ['AboveGroundVeryFastSoil', 'BelowGroundVeryFastSoil', 'AboveGroundFastSoil', 'BelowGroundFastSoil',\n",
    "             'MediumSoil', 'AboveGroundSlowSoil', 'BelowGroundSlowSoil', 'SoftwoodStemSnag', 'SoftwoodBranchSnag',\n",
    "             'HardwoodStemSnag', 'HardwoodBranchSnag']\n",
    "emissions_pools = ['CO2', 'CH4', 'CO', 'NO2']\n",
    "products_pools = ['Products']\n",
    "ecosystem_pools = biomass_pools + dom_pools\n",
    "all_pools = biomass_pools + dom_pools + emissions_pools + products_pools"
   ]
  },
  {
   "cell_type": "markdown",
   "id": "c6d27b60-bd78-42af-9bc3-f81ad77fd9ad",
   "metadata": {},
   "source": [
    "Emissions from all biomass components only resulting from fire disturbance, while these from all DOM pools resulting from annual decay processes and fire disturbance."
   ]
  },
  {
   "cell_type": "code",
   "execution_count": null,
   "id": "c5c842f1-a9ab-4602-81a3-668325e6f2eb",
   "metadata": {
    "tags": []
   },
   "outputs": [],
   "source": [
    "# Define Carbon Fluxes\n",
    "annual_process_fluxes = [\n",
    "    'DecayDOMCO2Emission',\n",
    "    'DeltaBiomass_AG',\n",
    "    'DeltaBiomass_BG',\n",
    "    'TurnoverMerchLitterInput',\n",
    "    'TurnoverFolLitterInput',\n",
    "    'TurnoverOthLitterInput',\n",
    "    'TurnoverCoarseLitterInput',\n",
    "    'TurnoverFineLitterInput',\n",
    "    'DecayVFastAGToAir',\n",
    "    'DecayVFastBGToAir',\n",
    "    'DecayFastAGToAir',\n",
    "    'DecayFastBGToAir',\n",
    "    'DecayMediumToAir',\n",
    "    'DecaySlowAGToAir',\n",
    "    'DecaySlowBGToAir',\n",
    "    'DecaySWStemSnagToAir',\n",
    "    'DecaySWBranchSnagToAir',\n",
    "    'DecayHWStemSnagToAir',\n",
    "    'DecayHWBranchSnagToAir'\n",
    "]\n",
    "\n",
    "npp_fluxes=[\n",
    "    'DeltaBiomass_AG', \n",
    "    'DeltaBiomass_BG'\n",
    "]\n",
    "\n",
    "decay_emissions_fluxes = [\n",
    "    'DecayVFastAGToAir',\n",
    "    'DecayVFastBGToAir',\n",
    "    'DecayFastAGToAir',\n",
    "    'DecayFastBGToAir',\n",
    "    'DecayMediumToAir',\n",
    "    'DecaySlowAGToAir',\n",
    "    'DecaySlowBGToAir',\n",
    "    'DecaySWStemSnagToAir',\n",
    "    'DecaySWBranchSnagToAir',\n",
    "    'DecayHWStemSnagToAir',\n",
    "    'DecayHWBranchSnagToAir'\n",
    "]\n",
    "\n",
    "disturbance_production_fluxes = [\n",
    "    'DisturbanceSoftProduction',\n",
    "    'DisturbanceHardProduction',\n",
    "    'DisturbanceDOMProduction'   \n",
    "]\n",
    "\n",
    "disturbance_emissions_fluxes = [\n",
    "    'DisturbanceMerchToAir',\n",
    "    'DisturbanceFolToAir',\n",
    "    'DisturbanceOthToAir',\n",
    "    'DisturbanceCoarseToAir',\n",
    "    'DisturbanceFineToAir',\n",
    "    'DisturbanceVFastAGToAir',\n",
    "    'DisturbanceVFastBGToAir',\n",
    "    'DisturbanceFastAGToAir',\n",
    "    'DisturbanceFastBGToAir',\n",
    "    'DisturbanceMediumToAir',\n",
    "    'DisturbanceSlowAGToAir',\n",
    "    'DisturbanceSlowBGToAir',\n",
    "    'DisturbanceSWStemSnagToAir',\n",
    "    'DisturbanceSWBranchSnagToAir',\n",
    "    'DisturbanceHWStemSnagToAir',\n",
    "    'DisturbanceHWBranchSnagToAir'   \n",
    "]\n",
    "\n",
    "all_fluxes = [\n",
    "    'DisturbanceCO2Production',\n",
    "    'DisturbanceCH4Production',\n",
    "    'DisturbanceCOProduction',\n",
    "    'DisturbanceBioCO2Emission',\n",
    "    'DisturbanceBioCH4Emission',\n",
    "    'DisturbanceBioCOEmission',\n",
    "    'DecayDOMCO2Emission',\n",
    "    'DisturbanceSoftProduction',\n",
    "    'DisturbanceHardProduction',\n",
    "    'DisturbanceDOMProduction',\n",
    "    'DeltaBiomass_AG',\n",
    "    'DeltaBiomass_BG',\n",
    "    'TurnoverMerchLitterInput',\n",
    "    'TurnoverFolLitterInput',\n",
    "    'TurnoverOthLitterInput',\n",
    "    'TurnoverCoarseLitterInput',\n",
    "    'TurnoverFineLitterInput',\n",
    "    'DecayVFastAGToAir',\n",
    "    'DecayVFastBGToAir',\n",
    "    'DecayFastAGToAir',\n",
    "    'DecayFastBGToAir',\n",
    "    'DecayMediumToAir',\n",
    "    'DecaySlowAGToAir',\n",
    "    'DecaySlowBGToAir',\n",
    "    'DecaySWStemSnagToAir',\n",
    "    'DecaySWBranchSnagToAir',\n",
    "    'DecayHWStemSnagToAir',\n",
    "    'DecayHWBranchSnagToAir',\n",
    "    'DisturbanceMerchToAir',\n",
    "    'DisturbanceFolToAir',\n",
    "    'DisturbanceOthToAir',\n",
    "    'DisturbanceCoarseToAir',\n",
    "    'DisturbanceFineToAir',\n",
    "    'DisturbanceDOMCO2Emission',\n",
    "    'DisturbanceDOMCH4Emission',\n",
    "    'DisturbanceDOMCOEmission',\n",
    "    'DisturbanceMerchLitterInput',\n",
    "    'DisturbanceFolLitterInput',\n",
    "    'DisturbanceOthLitterInput',\n",
    "    'DisturbanceCoarseLitterInput',\n",
    "    'DisturbanceFineLitterInput',\n",
    "    'DisturbanceVFastAGToAir',\n",
    "    'DisturbanceVFastBGToAir',\n",
    "    'DisturbanceFastAGToAir',\n",
    "    'DisturbanceFastBGToAir',\n",
    "    'DisturbanceMediumToAir',\n",
    "    'DisturbanceSlowAGToAir',\n",
    "    'DisturbanceSlowBGToAir',\n",
    "    'DisturbanceSWStemSnagToAir',\n",
    "    'DisturbanceSWBranchSnagToAir',\n",
    "    'DisturbanceHWStemSnagToAir',\n",
    "    'DisturbanceHWBranchSnagToAir'\n",
    "]\n",
    "\n",
    "grossgrowth_ag = [\n",
    "    \"DeltaBiomass_AG\",\n",
    "    \"TurnoverMerchLitterInput\",\n",
    "    \"TurnoverFolLitterInput\",\n",
    "    \"TurnoverOthLitterInput\",\n",
    "]\n",
    "\n",
    "grossgrowth_bg = [\n",
    "    \"DeltaBiomass_BG\",\n",
    "    \"TurnoverCoarseLitterInput\",\n",
    "    \"TurnoverFineLitterInput\",\n",
    "]\n",
    "\n",
    "product_flux = [\n",
    "     \"DisturbanceSoftProduction\",\n",
    "     \"DisturbanceHardProduction\",\n",
    "     \"DisturbanceDOMProduction\",\n",
    "]"
   ]
  },
  {
   "cell_type": "code",
   "execution_count": null,
   "id": "10ca892e-2e13-4286-9c77-f0be60fd7313",
   "metadata": {
    "tags": []
   },
   "outputs": [],
   "source": [
    "# Define Sum Carbon Pools and Sum Carbon Fluxes\n",
    "total_emission = decay_emissions_fluxes + disturbance_emissions_fluxes\n",
    "gross_growth = grossgrowth_ag + grossgrowth_bg\n",
    "\n",
    "sum_pools = ['ecosystem', 'biomass', 'DOM']\n",
    "sum_fluxes = ['total_emission', 'gross_growth', 'net_emission']"
   ]
  },
  {
   "cell_type": "code",
   "execution_count": null,
   "id": "21fa6c07-3c87-415a-bbd7-377d7488f56e",
   "metadata": {},
   "outputs": [],
   "source": [
    "def cbm_report(fm, cbm_output, biomass_pools, dom_pools, total_emission, gross_growth, production, n_steps):\n",
    "    \n",
    "    # Add carbon pools indicators \n",
    "    pi = cbm_output.classifiers.to_pandas().merge(cbm_output.pools.to_pandas(), \n",
    "                                                  left_on=[\"identifier\", \"timestep\"], \n",
    "                                                  right_on=[\"identifier\", \"timestep\"])\n",
    "\n",
    "    annual_carbon_stock = pd.DataFrame({'Year': pi['timestep'],\n",
    "                                        'Biomass': pi[biomass_pools].sum(axis=1),\n",
    "                                        'DOM': pi[dom_pools].sum(axis=1),\n",
    "                                        'Ecosystem': pi[biomass_pools + dom_pools].sum(axis=1)})\n",
    "\n",
    "    fi = cbm_output.classifiers.to_pandas().merge(cbm_output.flux.to_pandas(), \n",
    "                                                  left_on=[\"identifier\", \"timestep\"], \n",
    "                                                  right_on=[\"identifier\", \"timestep\"])\n",
    "\n",
    "    annual_all_emission = pd.DataFrame({'Year': fi['timestep'],\n",
    "                                        'All_Emissions': fi[total_emission].sum(axis=1)})\n",
    "\n",
    "    # Calculating gross growth fluxes\n",
    "    annual_gross_growth = pd.DataFrame({'Year': fi['timestep'],\n",
    "                                        'Gross_Growth': fi[gross_growth].sum(axis=1)})\n",
    "    \n",
    "    # Calculating HWPs carbon\n",
    "    annual_harvested_carbon = pd.DataFrame({'Year': fi['timestep'],\n",
    "                                            'Harvested_Carbon': fi[production].sum(axis=1)})\n",
    "\n",
    "\n",
    "    # Calculating net emissions (All_Emissions - Gross_Growth)\n",
    "    annual_net_emission = pd.DataFrame({'Year': fi['timestep'],\n",
    "                                        'Net_Emissions': annual_all_emission['All_Emissions'] - annual_gross_growth['Gross_Growth']})\n",
    "\n",
    "    df_cs = annual_carbon_stock.groupby('Year').sum()\n",
    "    df_ae = annual_all_emission.groupby('Year').sum()\n",
    "    df_gg = annual_gross_growth.groupby('Year').sum()  # Updated to Gross Growth\n",
    "    df_ne = annual_net_emission.groupby('Year').sum()\n",
    "    df_hc = annual_harvested_carbon.groupby('Year').sum()\n",
    "\n",
    "    # Merging all dataframes, now including net emissions and gross growth\n",
    "    merged_df = pd.merge(pd.merge(pd.merge(pd.merge(df_cs, df_ae, left_index=True, right_index=True, how='outer'),\n",
    "                                           df_gg, left_index=True, right_index=True, how='outer'),\n",
    "                                  df_ne, left_index=True, right_index=True, how='outer'),\n",
    "                         df_hc, left_index=True, right_index=True, how='outer')\n",
    "\n",
    "    # Calculating stock change\n",
    "    merged_df['Stock_Change'] = merged_df['Ecosystem'].diff() * (-1)\n",
    "    merged_df.at[0, 'Stock_Change'] = 0\n",
    "\n",
    "    # Calculating (Stock Change - Harvested Carbon)\n",
    "    merged_df['Stock_Change_minus_Harvested_Carbon'] = merged_df['Stock_Change'] - merged_df['Harvested_Carbon']\n",
    "\n",
    "    # Plotting the graphs\n",
    "    fig, axs = plt.subplots(8, 1, figsize=(10, 40))\n",
    "\n",
    "    # Plot 1: Biomass Stock\n",
    "    axs[0].plot(merged_df.index, merged_df['Biomass'], label='Biomass Stock', color='green')\n",
    "    axs[0].set_title(\"Annual Biomass Stock\")\n",
    "    axs[0].set_xlabel(\"Year\")\n",
    "    axs[0].set_ylabel(\"Stock (ton C)\")\n",
    "    axs[0].set_xlim(0, n_steps)\n",
    "\n",
    "    # Plot 2: DOM Stock\n",
    "    axs[1].plot(merged_df.index, merged_df['DOM'], label='DOM Stock', color='brown')\n",
    "    axs[1].set_title(\"Annual DOM Stock\")\n",
    "    axs[1].set_xlabel(\"Year\")\n",
    "    axs[1].set_ylabel(\"Stock (ton C)\")\n",
    "    axs[1].set_xlim(0, n_steps)\n",
    "\n",
    "    # Plot 3: Ecosystem Stock\n",
    "    axs[2].plot(merged_df.index, merged_df['Ecosystem'], label='Ecosystem Stock', color='blue')\n",
    "    axs[2].set_title(\"Annual Ecosystem Stock\")\n",
    "    axs[2].set_xlabel(\"Year\")\n",
    "    axs[2].set_ylabel(\"Stock (ton C)\")\n",
    "    axs[2].set_xlim(0, n_steps)\n",
    "\n",
    "    # Plot 4: All Emissions\n",
    "    axs[3].plot(merged_df.index, merged_df['All_Emissions'], label='All Emissions', color='red')\n",
    "    axs[3].set_title(\"Annual Total Ecosystem Carbon Emissions\")\n",
    "    axs[3].set_xlabel(\"Year\")\n",
    "    axs[3].set_ylabel(\"Emissions (ton C)\")\n",
    "    axs[3].set_xlim(0, n_steps)\n",
    "\n",
    "    # Plot 5: Gross Growth\n",
    "    axs[4].plot(merged_df.index, merged_df['Gross_Growth'], label='Gross Growth', color='purple')\n",
    "    axs[4].set_title(\"Annual Gross Growth\")\n",
    "    axs[4].set_xlabel(\"Year\")\n",
    "    axs[4].set_ylabel(\"Growth (ton C)\")\n",
    "    axs[4].set_xlim(0, n_steps)\n",
    "\n",
    "    # Plot 6: Net Emissions\n",
    "    axs[5].plot(merged_df.index, merged_df['Net_Emissions'], label='Net Emissions', color='orange')\n",
    "    axs[5].set_title(\"Annual Net Ecosystem Carbon Emissions\")\n",
    "    axs[5].set_xlabel(\"Year\")\n",
    "    axs[5].set_ylabel(\"Emissions (ton C)\")\n",
    "    axs[5].set_xlim(0, n_steps)\n",
    "\n",
    "    # Plot 7: Stock Change\n",
    "    axs[6].plot(merged_df.index, merged_df['Stock_Change'], label='Stock Change', color='cyan')\n",
    "    axs[6].set_title(\"Annual Ecosystem Carbon Stock Change\")\n",
    "    axs[6].set_xlabel(\"Year\")\n",
    "    axs[6].set_ylabel(\"Stock Change (ton C)\")\n",
    "    axs[6].set_xlim(0, n_steps)\n",
    "\n",
    "    # Plot 8: Harvested Carbon\n",
    "    axs[7].plot(merged_df.index, merged_df['Harvested_Carbon'], label='Harvested Carbon', color='magenta')\n",
    "    axs[7].set_title(\"Annual Harvested Carbon\")\n",
    "    axs[7].set_xlabel(\"Year\")\n",
    "    axs[7].set_ylabel(\"Harvested Carbon (ton C)\")\n",
    "    axs[7].set_xlim(0, n_steps)\n",
    "\n",
    "    # Comparison plot for Net Emissions vs (Stock Change - Harvested Carbon)\n",
    "    plt.figure(figsize=(10, 6))\n",
    "    plt.plot(merged_df.index, merged_df['Net_Emissions'], label='Net Emissions', color='orange', linestyle='--')\n",
    "    plt.plot(merged_df.index, merged_df['Stock_Change_minus_Harvested_Carbon'], \n",
    "             label='Stock Change - Harvested Carbon', color='blue')\n",
    "    plt.title(\"Comparison of Annual Net Emissions and Annual (Stock Change - Harvested Carbon)\")\n",
    "    plt.xlabel(\"Year\")\n",
    "    plt.ylabel(\"Carbon (ton C)\")\n",
    "    plt.legend()\n",
    "\n",
    "    # Tight layout for better spacing\n",
    "    plt.tight_layout()\n",
    "    plt.show()\n",
    "\n",
    "    return merged_df"
   ]
  },
  {
   "cell_type": "markdown",
   "id": "500bf810-8018-40ff-9d8e-d06f9daa3889",
   "metadata": {},
   "source": [
    "### No-harvesting"
   ]
  },
  {
   "cell_type": "code",
   "execution_count": null,
   "id": "86543977-c142-45c9-a129-e37778c434c4",
   "metadata": {},
   "outputs": [],
   "source": [
    "cbm_report(fm, cbm_output, biomass_pools, dom_pools, total_emission, gross_growth, disturbance_production_fluxes, n_steps)"
   ]
  },
  {
   "cell_type": "markdown",
   "id": "2dd6060c-6b96-4f0e-99ca-78705b8569ff",
   "metadata": {
    "tags": []
   },
   "source": [
    "## Generate and Add Carbon Yield Curves"
   ]
  },
  {
   "cell_type": "markdown",
   "id": "ac47eb95-a3d7-4808-a6bf-94bc6a42df70",
   "metadata": {
    "tags": []
   },
   "source": [
    "Rebuild the inventory table. Set age to 1 and area to 1.0 ha."
   ]
  },
  {
   "cell_type": "markdown",
   "id": "cdabd370-c2c2-4f0f-b2d2-ca1d0edd2f4b",
   "metadata": {
    "tags": []
   },
   "source": [
    "The `sit_events` table should be empty."
   ]
  },
  {
   "cell_type": "code",
   "execution_count": null,
   "id": "6cd7c84c-7d3a-4ae5-bd43-365ccd883f31",
   "metadata": {},
   "outputs": [],
   "source": [
    "sit_yield = sit_tables['sit_yield']\n",
    "sit_yield"
   ]
  },
  {
   "cell_type": "code",
   "execution_count": null,
   "id": "0bc2901a-852e-447f-9e4c-cbcba49516d6",
   "metadata": {
    "tags": []
   },
   "outputs": [],
   "source": [
    "sit_events = sit_tables['sit_events']"
   ]
  },
  {
   "cell_type": "code",
   "execution_count": null,
   "id": "40af26a7-e082-4c69-8370-0e3e390e5c65",
   "metadata": {},
   "outputs": [],
   "source": [
    "sit_events"
   ]
  },
  {
   "cell_type": "code",
   "execution_count": null,
   "id": "62bfe553-8a08-47f0-800d-b66165ee9f60",
   "metadata": {},
   "outputs": [],
   "source": [
    "sit_inventory = sit_tables['sit_inventory']"
   ]
  },
  {
   "cell_type": "code",
   "execution_count": null,
   "id": "d11827d4-a3ca-4239-8893-5927db7536ea",
   "metadata": {},
   "outputs": [],
   "source": [
    "sit_inventory"
   ]
  },
  {
   "cell_type": "code",
   "execution_count": null,
   "id": "53d0904e-1243-4257-880f-debfbb5de0a7",
   "metadata": {
    "tags": []
   },
   "outputs": [],
   "source": [
    "# Set Age and Area to 1 and 1.0\n",
    "df = sit_inventory\n",
    "df['age'] = df['age'].apply(lambda x: 1)\n",
    "df['area'] = df['area'].apply(lambda x: 1.0)\n",
    "df = df.drop_duplicates(ignore_index=True)\n",
    "df"
   ]
  },
  {
   "cell_type": "markdown",
   "id": "e93a7534-8f68-4425-904e-76b7fb5ef798",
   "metadata": {},
   "source": [
    "Use the following code if any of the developments have no harvesting circumstances."
   ]
  },
  {
   "cell_type": "code",
   "execution_count": null,
   "id": "6412df15-5b48-4cc2-9a32-f615c19c3942",
   "metadata": {
    "tags": []
   },
   "outputs": [],
   "source": [
    "# # Replace the Sit Inventory File in the Sit Table\n",
    "sit_tables['sit_inventory'] = df"
   ]
  },
  {
   "cell_type": "code",
   "execution_count": null,
   "id": "eba6f7f5-a3a9-4acc-bbcf-44bb98afb713",
   "metadata": {
    "tags": []
   },
   "outputs": [],
   "source": [
    "# Run CBM and Generate CBM 0utputs\n",
    "cbm_output_curves = run_cbm_emissionstock(sit_config, sit_tables, n_steps=700)"
   ]
  },
  {
   "cell_type": "code",
   "execution_count": null,
   "id": "f9c6845d-04b2-4846-ac85-2758d8d176af",
   "metadata": {
    "tags": []
   },
   "outputs": [],
   "source": [
    "# Generate Carbon Pool and Flux Indicators\n",
    "pi = cbm_output_curves.classifiers.to_pandas().merge(cbm_output_curves.pools.to_pandas(), \n",
    "                                              left_on=[\"identifier\", \"timestep\"], \n",
    "                                              right_on=[\"identifier\", \"timestep\"])\n",
    "fi = cbm_output_curves.classifiers.to_pandas().merge(cbm_output_curves.flux.to_pandas(), \n",
    "                                              left_on=[\"identifier\", \"timestep\"], \n",
    "                                              right_on=[\"identifier\", \"timestep\"])"
   ]
  },
  {
   "cell_type": "code",
   "execution_count": null,
   "id": "8a914974-ff21-45fd-945e-d0ec4e18ee88",
   "metadata": {
    "tags": []
   },
   "outputs": [],
   "source": [
    "# Define Development Type Keys\n",
    "pi['dtype_key'] = pi.apply(lambda r: '%s %s %s %s %s %s' % (r['theme0'], r['theme1'], r['theme2'], r['theme3'], r['theme4'], r['theme5']), axis=1)\n",
    "fi['dtype_key'] = fi.apply(lambda r: '%s %s %s %s %s %s' % (r['theme0'], r['theme1'], r['theme2'], r['theme3'], r['theme4'], r['theme5']), axis=1)"
   ]
  },
  {
   "cell_type": "code",
   "execution_count": null,
   "id": "95f5e867-c95b-4106-953c-b97f3569f1b9",
   "metadata": {},
   "outputs": [],
   "source": [
    "\n",
    "file_directory = \"./data/curves\"\n",
    "os.makedirs(file_directory, exist_ok=True)\n",
    "\n",
    "file_data = {\n",
    "    \"pi.csv\": pi,\n",
    "    \"fi.csv\": fi\n",
    "}\n",
    "\n",
    "for filename, data in file_data.items():\n",
    "    file_path = os.path.join(file_directory, filename)\n",
    "    # Assuming data is a dictionary or a list of dictionaries\n",
    "    # if isinstance(data, dict):\n",
    "    #     df = pd.DataFrame.from_dict(data, orient='index')\n",
    "    # elif isinstance(data, list):\n",
    "    #     df = pd.DataFrame(data)\n",
    "    # else:\n",
    "    #     raise ValueError(f\"Unsupported data type for {filename}\")\n",
    "    \n",
    "    data.to_csv(file_path, index=True)  # Save as CSV\n",
    "    print(f\"File saved at {file_path}\")\n"
   ]
  },
  {
   "cell_type": "code",
   "execution_count": null,
   "id": "37c70745-c7f5-4458-8861-d48094850ab2",
   "metadata": {
    "tags": []
   },
   "outputs": [],
   "source": [
    "# Generate Carbon Pool anf Flux Curves\n",
    "c_curves_p = pi.groupby(['dtype_key', 'timestep'], as_index=True)[ecosystem_pools].sum()\n",
    "c_curves_f = fi.groupby(['dtype_key', 'timestep'], as_index=True)[all_fluxes].sum()"
   ]
  },
  {
   "cell_type": "code",
   "execution_count": null,
   "id": "0c98036e-58f5-4f61-88ef-e1f47d31d7f5",
   "metadata": {
    "tags": []
   },
   "outputs": [],
   "source": [
    "# Generate sum carbon pool curves\n",
    "c_curves_p['ecosystem'] = c_curves_p[ecosystem_pools].sum(axis=1)\n",
    "c_curves_p['biomass'] = c_curves_p[biomass_pools].sum(axis=1)\n",
    "c_curves_p['DOM'] = c_curves_p[dom_pools].sum(axis=1)"
   ]
  },
  {
   "cell_type": "code",
   "execution_count": null,
   "id": "96204142-44ee-4ae1-a27b-e157e0249290",
   "metadata": {},
   "outputs": [],
   "source": [
    "c_curves_p"
   ]
  },
  {
   "cell_type": "code",
   "execution_count": null,
   "id": "f8133633-038b-412d-8eca-743aa33f4cd9",
   "metadata": {},
   "outputs": [],
   "source": [
    "c_curves_f['total_emission'] = 44/12 * c_curves_f[total_emission].sum(axis=1)\n",
    "c_curves_f['gross_growth'] = 44/12 * c_curves_f[gross_growth].sum(axis=1)\n",
    "c_curves_f['net_emission'] = c_curves_f['total_emission'] - c_curves_f['gross_growth']"
   ]
  },
  {
   "cell_type": "code",
   "execution_count": null,
   "id": "b0cdde58-45f2-432b-8678-cc6c460c7a10",
   "metadata": {
    "tags": []
   },
   "outputs": [],
   "source": [
    "# Curvs Calibration\n",
    "# c_curves_p = c_curves_p.iloc[:,-3:].apply(lambda x: x*1.03) # Calibrate the carbon yield curvest for total ecosystem pools\n",
    "# c_curves_f = c_curves_f.iloc[:,-2:].apply(lambda x: x*1.03) # Calibrate the carbon yield curvest for net carbon flux"
   ]
  },
  {
   "cell_type": "code",
   "execution_count": null,
   "id": "3b3f16be-191f-4f5d-93a7-ffd956fdec82",
   "metadata": {},
   "outputs": [],
   "source": [
    "c_curves_f.loc[c_curves_f.index.get_level_values('timestep') == 0] = c_curves_f.loc[c_curves_f.index.get_level_values('timestep') == 1].values"
   ]
  },
  {
   "cell_type": "code",
   "execution_count": null,
   "id": "32f77445-8c3a-48dd-8043-051983ff5f44",
   "metadata": {},
   "outputs": [],
   "source": [
    "c_curves_f"
   ]
  },
  {
   "cell_type": "raw",
   "id": "f2b68939-d959-454d-8926-640845e91e5d",
   "metadata": {},
   "source": [
    "# Use pickle.dump, to store the curves\n",
    "file_directory = \"./inputs/curves\"\n",
    "os.makedirs(file_directory, exist_ok=True)\n",
    "\n",
    "file_data = {\n",
    "    f\"{case_study}_c_curves_p.pkl\": c_curves_p,\n",
    "    f\"{case_study}_c_curves_f.pkl\": c_curves_f\n",
    "}\n",
    "\n",
    "for filename, data in file_data.items():\n",
    "    file_path = os.path.join(file_directory, filename)\n",
    "    with open(file_path, 'wb') as file:\n",
    "        pickle.dump(data, file)\n",
    "    print(f\"File saved at {file_path}\")\n"
   ]
  },
  {
   "cell_type": "raw",
   "id": "b8a72043-b481-4a69-b6a9-2fe10ebfe679",
   "metadata": {},
   "source": [
    "\n",
    "file_directory = \"./data/curves\"\n",
    "os.makedirs(file_directory, exist_ok=True)\n",
    "\n",
    "file_data = {\n",
    "    \"c_curves_p.csv\": c_curves_p,\n",
    "    \"c_curves_f.csv\": c_curves_f\n",
    "}\n",
    "\n",
    "for filename, data in file_data.items():\n",
    "    file_path = os.path.join(file_directory, filename)\n",
    "    # Assuming data is a dictionary or a list of dictionaries\n",
    "    # if isinstance(data, dict):\n",
    "    #     df = pd.DataFrame.from_dict(data, orient='index')\n",
    "    # elif isinstance(data, list):\n",
    "    #     df = pd.DataFrame(data)\n",
    "    # else:\n",
    "    #     raise ValueError(f\"Unsupported data type for {filename}\")\n",
    "    \n",
    "    data.to_csv(file_path, index=True)  # Save as CSV\n",
    "    print(f\"File saved at {file_path}\")\n"
   ]
  },
  {
   "cell_type": "code",
   "execution_count": null,
   "id": "02cca223-1cd5-4ec4-a421-ec04d856ee51",
   "metadata": {},
   "outputs": [],
   "source": [
    "len(list(fm.dtypes))"
   ]
  },
  {
   "cell_type": "code",
   "execution_count": null,
   "id": "a3195bdb-1475-4455-b602-afd508d8b787",
   "metadata": {},
   "outputs": [],
   "source": [
    "def plugin_c_curves(fm, c_curves_p, c_curves_f, pools, fluxes):\n",
    "    # Dictionary to track registered curves for each dtype_key\n",
    "    registered_curves = {}\n",
    "\n",
    "    for dtype_key in fm.dtypes:\n",
    "        dt = fm.dt(dtype_key)\n",
    "        # mask = ('?', '?', dtype_key[2], '?', dtype_key[4], '?')\n",
    "        mask = ('?', '?', dtype_key[2], '?', dtype_key[4], dtype_key[5])\n",
    "        \n",
    "        for _mask, ytype, curves in fm.yields:\n",
    "            if _mask != mask: \n",
    "                continue  # Only proceed if the mask matches\n",
    "\n",
    "            print('found match for mask', mask)\n",
    "\n",
    "            # Initialize the tracking of registered curves for the dtype_key if not already done\n",
    "            if dtype_key not in registered_curves:\n",
    "                registered_curves[dtype_key] = set()\n",
    "\n",
    "            # Register pool curves\n",
    "            pool_data = c_curves_p.loc[' '.join(dtype_key)]\n",
    "            for yname in pools:\n",
    "                if yname not in registered_curves[dtype_key]:  # Check if curve is already registered\n",
    "                    points = list(zip(pool_data.index.values, pool_data[yname]))\n",
    "                    curve = fm.register_curve(ws3.core.Curve(yname, \n",
    "                                                             points=points, \n",
    "                                                             type='a', \n",
    "                                                             is_volume=False,\n",
    "                                                             xmax=fm.max_age,\n",
    "                                                             period_length=fm.period_length))\n",
    "                    curves.append((yname, curve))\n",
    "                    dt.add_ycomp('a', yname, curve)\n",
    "\n",
    "                    # Mark the curve as registered\n",
    "                    registered_curves[dtype_key].add(yname)\n",
    "\n",
    "            # Register flux curves\n",
    "            flux_data = c_curves_f.loc[' '.join(dtype_key)]\n",
    "            for yname in fluxes:\n",
    "                if yname not in registered_curves[dtype_key]:  # Check if curve is already registered\n",
    "                    points = list(zip(flux_data.index.values, flux_data[yname]))\n",
    "                    curve = fm.register_curve(ws3.core.Curve(yname, \n",
    "                                                             points=points, \n",
    "                                                             type='a', \n",
    "                                                             is_volume=False,\n",
    "                                                             xmax=fm.max_age,\n",
    "                                                             period_length=fm.period_length))\n",
    "                    curves.append((yname, curve))\n",
    "                    dt.add_ycomp('a', yname, curve)\n",
    "\n",
    "                    # Mark the curve as registered\n",
    "                    registered_curves[dtype_key].add(yname)\n"
   ]
  },
  {
   "cell_type": "code",
   "execution_count": null,
   "id": "ce1777eb-eff1-430c-b8be-39c310225c5c",
   "metadata": {
    "tags": []
   },
   "outputs": [],
   "source": [
    "# Plug carbon yield curves into forest model\n",
    "# plugin_c_curves_both(fm, c_curves_p, c_curves_f)\n",
    "plugin_c_curves(fm, c_curves_p, c_curves_f, sum_pools, sum_fluxes)"
   ]
  },
  {
   "cell_type": "code",
   "execution_count": null,
   "id": "641489b5-796b-4583-b7eb-298a968ae837",
   "metadata": {
    "scrolled": true,
    "tags": []
   },
   "outputs": [],
   "source": [
    "# Check if all carbon yield curves are plugged in well.\n",
    "fm.yields"
   ]
  },
  {
   "cell_type": "code",
   "execution_count": null,
   "id": "bfe191b6-369e-4e86-bb8f-edcb27ecc7b3",
   "metadata": {},
   "outputs": [],
   "source": [
    "def compare_ws3_cbm(fm, cbm_output, disturbance_type_mapping, biomass_pools, dom_pools, total_emission, gross_growth, production, plots):\n",
    "    eco_pools = biomass_pools + dom_pools\n",
    "    pi = cbm_output.classifiers.to_pandas().merge(cbm_output.pools.to_pandas(), \n",
    "                                                  left_on=[\"identifier\", \"timestep\"], \n",
    "                                                  right_on=[\"identifier\", \"timestep\"])\n",
    "    fi = cbm_output.classifiers.to_pandas().merge(cbm_output.flux.to_pandas(), \n",
    "                                                  left_on=[\"identifier\", \"timestep\"], \n",
    "                                                  right_on=[\"identifier\", \"timestep\"])\n",
    "\n",
    "    df_cbm = pd.DataFrame({\n",
    "        'period': pi[\"timestep\"] * 0.1, \n",
    "        'biomass_stock': pi[biomass_pools].sum(axis=1),\n",
    "        'dom_stock': pi[dom_pools].sum(axis=1),\n",
    "        'eco_stock': pi[eco_pools].sum(axis=1),\n",
    "        'total_emission': 44/12 * fi[total_emission].sum(axis=1),\n",
    "        'gross_growth': 44/12 * fi[gross_growth].sum(axis=1),\n",
    "        'harvested_carbon': fi[production].sum(axis=1)\n",
    "    }).groupby('period').sum().iloc[1::10, :].reset_index()\n",
    "\n",
    "    df_cbm['period'] = (df_cbm['period'] + 0.9).astype(int)\n",
    "    df_cbm['net_emission'] = df_cbm['total_emission'] - df_cbm['gross_growth']\n",
    "    # df_cbm['eco_stock_change'] = df_cbm['eco_stock'].diff() * -1\n",
    "    # df_cbm.at[0, 'eco_stock_change'] = 0.\n",
    "    # df_cbm['sc-pr'] = df_cbm['eco_stock_change'] - df_cbm['harvested_carbon']\n",
    "\n",
    "    df_ws3 = pd.DataFrame({\n",
    "        'period': fm.periods,\n",
    "        'biomass_stock': [fm.inventory(period, 'biomass') for period in fm.periods],\n",
    "        'dom_stock': [fm.inventory(period, 'DOM') for period in fm.periods],\n",
    "        'eco_stock': [fm.inventory(period, 'ecosystem') for period in fm.periods],\n",
    "        'net_emission': [fm.inventory(period, 'net_emission') for period in fm.periods],\n",
    "        'harvested_carbon': [fm.compile_product(period, 'totvol * 0.85', acode='harvest') * 0.23 for period in fm.periods]\n",
    "    })\n",
    "\n",
    "    # df_ws3['eco_stock_change'] = df_ws3['eco_stock'].diff() * -1\n",
    "    # df_ws3.at[0, 'eco_stock_change'] = 0.\n",
    "    # df_ws3['sc-pr'] = df_ws3['eco_stock_change'] - df_ws3['harvested_carbon']\n",
    "\n",
    "    if plots == \"whole\":\n",
    "        # Create a figure for all comparisons in one plot\n",
    "        plt.figure(figsize=(10, 6))\n",
    "\n",
    "        # Plotting the ecosystem stock comparison\n",
    "        plt.plot(df_cbm['period'], df_cbm['eco_stock'], label='CBM Ecosystem Stock')\n",
    "        plt.plot(df_ws3['period'], df_ws3['eco_stock'], label='WS3 Ecosystem Stock')\n",
    "\n",
    "        # Plotting the biomass stock comparison\n",
    "        plt.plot(df_cbm['period'], df_cbm['biomass_stock'], label='CBM Biomass Stock')\n",
    "        plt.plot(df_ws3['period'], df_ws3['biomass_stock'], label='WS3 Biomass Stock')\n",
    "\n",
    "        # Plotting the DOM stock comparison\n",
    "        plt.plot(df_cbm['period'], df_cbm['dom_stock'], label='CBM DOM Stock')\n",
    "        plt.plot(df_ws3['period'], df_ws3['dom_stock'], label='WS3 DOM Stock')\n",
    "\n",
    "        # # Plotting the ecosystem carbon stock change comparison\n",
    "        # plt.plot(df_cbm['period'], df_cbm['eco_stock_change'], label='CBM Ecosystem Carbon Stock Change')\n",
    "        # plt.plot(df_ws3['period'], df_ws3['eco_stock_change'], label='WS3 Ecosystem Carbon Stock Change')\n",
    "\n",
    "        # Plotting the harvested carbon comparison\n",
    "        plt.plot(df_cbm['period'], df_cbm['harvested_carbon'], label='CBM Harvested Carbon')\n",
    "        plt.plot(df_ws3['period'], df_ws3['harvested_carbon'], label='WS3 Harvested Carbon')\n",
    "\n",
    "        # # Plotting the stock change minus harvested wood product (HWP) carbon\n",
    "        # plt.plot(df_cbm['period'], df_cbm['sc-pr'], label='CBM Stock Change - HWPs Carbon')\n",
    "        # plt.plot(df_ws3['period'], df_ws3['sc-pr'], label='WS3 Stock Change - HWPs Carbon')\n",
    "\n",
    "        # Plotting the net ecosystem carbon emission comparison\n",
    "        plt.plot(df_cbm['period'], df_cbm['net_emission'], label='CBM Net Ecosystem Emission')\n",
    "        plt.plot(df_ws3['period'], df_ws3['net_emission'], label='WS3 Net Ecosystem Emission')\n",
    "\n",
    "        # Set labels and title\n",
    "        plt.xlabel('Period')\n",
    "        plt.ylabel('Stock (ton C)')\n",
    "        plt.ylim(0, None)  # Ensure y-axis starts from 0\n",
    "\n",
    "        # Customize x-axis ticks to show every 2 periods\n",
    "        ticks = np.arange(df_cbm['period'].min() - 1, df_cbm['period'].max() + 1, 2)\n",
    "        plt.xticks(ticks)\n",
    "\n",
    "        # Add a legend to differentiate the lines\n",
    "        plt.legend()\n",
    "\n",
    "    if plots == \"individual\":\n",
    "        # Create a figure with subplots\n",
    "        fig, axs = plt.subplots(5, 1, figsize=(10, 16))  # Increase figure size for 7 subplots (added harvested carbon)\n",
    "\n",
    "        # Define x-axis ticks (0 to 20 with a step of 2)\n",
    "        ticks = np.arange(df_cbm['period'].min() - 1, df_cbm['period'].max() + 1, 2)\n",
    "\n",
    "        # Ecosystem stock comparison\n",
    "        axs[0].plot(df_cbm['period'], df_cbm['eco_stock'], label='CBM Ecosystem Stock')\n",
    "        axs[0].plot(df_ws3['period'], df_ws3['eco_stock'], label='WS3 Ecosystem Stock')\n",
    "        axs[0].set_xlabel('Period')\n",
    "        axs[0].set_ylabel('Stock (ton C)')\n",
    "        axs[0].set_xticks(ticks)\n",
    "        axs[0].legend()\n",
    "\n",
    "        # Biomass stock comparison\n",
    "        axs[1].plot(df_cbm['period'], df_cbm['biomass_stock'], label='CBM Biomass Stock')\n",
    "        axs[1].plot(df_ws3['period'], df_ws3['biomass_stock'], label='WS3 Biomass Stock')\n",
    "        axs[1].set_xlabel('Period')\n",
    "        axs[1].set_ylabel('Stock (ton C)')\n",
    "        axs[1].set_xticks(ticks)\n",
    "        axs[1].legend()\n",
    "\n",
    "        # DOM stock comparison\n",
    "        axs[2].plot(df_cbm['period'], df_cbm['dom_stock'], label='CBM DOM Stock')\n",
    "        axs[2].plot(df_ws3['period'], df_ws3['dom_stock'], label='WS3 DOM Stock')\n",
    "        axs[2].set_xlabel('Period')\n",
    "        axs[2].set_ylabel('Stock (ton C)')\n",
    "        axs[2].set_xticks(ticks)\n",
    "        axs[2].legend()\n",
    "\n",
    "        # # Ecosystem carbon stock change comparison\n",
    "        # axs[3].plot(df_cbm['period'], df_cbm['eco_stock_change'], label='CBM Ecosystem Carbon Stock Change')\n",
    "        # axs[3].plot(df_ws3['period'], df_ws3['eco_stock_change'], label='WS3 Ecosystem Carbon Stock Change')\n",
    "        # axs[3].set_xlabel('Period')\n",
    "        # axs[3].set_ylabel('Stock Change (ton C)')\n",
    "        # axs[3].set_xticks(ticks)\n",
    "        # axs[3].legend()\n",
    "\n",
    "        # Harvested carbon comparison\n",
    "        axs[3].plot(df_cbm['period'], df_cbm['harvested_carbon'], label='CBM Harvested Carbon')\n",
    "        axs[3].plot(df_ws3['period'], df_ws3['harvested_carbon'], label='WS3 Harvested Carbon')\n",
    "        axs[3].set_xlabel('Period')\n",
    "        axs[3].set_ylabel('Harvested Carbon (ton C)')\n",
    "        axs[3].set_xticks(ticks)\n",
    "        axs[3].legend()\n",
    "\n",
    "        # # Stock change minus harvested wood product (HWP) carbon comparison\n",
    "        # axs[5].plot(df_cbm['period'], df_cbm['sc-pr'], label='CBM Stock Change - HWPs Carbon')\n",
    "        # axs[5].plot(df_ws3['period'], df_ws3['sc-pr'], label='WS3 Stock Change - HWPs Carbon')\n",
    "        # axs[5].set_xlabel('Period')\n",
    "        # axs[5].set_ylabel('Stock Change (ton C)')\n",
    "        # axs[5].set_xticks(ticks)\n",
    "        # axs[5].legend()\n",
    "\n",
    "        # Net ecosystem carbon emission comparison\n",
    "        axs[4].plot(df_cbm['period'], df_cbm['net_emission'], label='CBM Net Ecosystem Emission')\n",
    "        axs[4].plot(df_ws3['period'], df_ws3['net_emission'], label='WS3 Net Ecosystem Emission')\n",
    "        axs[4].set_xlabel('Period')\n",
    "        axs[4].set_ylabel('Emission (ton C)')\n",
    "        axs[4].set_xticks(ticks)\n",
    "        axs[4].legend()\n",
    "\n",
    "    # Adjust layout to prevent overlap\n",
    "    plt.tight_layout()\n",
    "\n",
    "    # Show the combined plot\n",
    "    plt.show()\n",
    "\n",
    "    return df_cbm, df_ws3"
   ]
  },
  {
   "cell_type": "code",
   "execution_count": null,
   "id": "d3b14520-9cd8-4d7c-9d01-e76e566d0fd8",
   "metadata": {},
   "outputs": [],
   "source": [
    "compare_ws3_cbm(fm, cbm_output, disturbance_type_mapping, biomass_pools, dom_pools, total_emission, gross_growth, disturbance_production_fluxes, plots='individual')"
   ]
  },
  {
   "cell_type": "code",
   "execution_count": null,
   "id": "5ce10ae0-d9af-4d80-9f1d-ae18fb4c76ec",
   "metadata": {},
   "outputs": [],
   "source": []
  }
 ],
 "metadata": {
  "kernelspec": {
   "display_name": "Python 3 (venv:foo)",
   "language": "python",
   "name": "foo"
  },
  "language_info": {
   "codemirror_mode": {
    "name": "ipython",
    "version": 3
   },
   "file_extension": ".py",
   "mimetype": "text/x-python",
   "name": "python",
   "nbconvert_exporter": "python",
   "pygments_lexer": "ipython3",
   "version": "3.10.12"
  }
 },
 "nbformat": 4,
 "nbformat_minor": 5
}
