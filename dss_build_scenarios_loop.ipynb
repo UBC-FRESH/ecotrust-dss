{
 "cells": [
  {
   "cell_type": "markdown",
   "id": "1a5d44a5-2160-4043-aff7-eecad3db2ce0",
   "metadata": {
    "tags": []
   },
   "source": [
    "# Description\n",
    "\n",
    "The notebook automates the process of pushing a pair of scenarios (baseline and alternative) through the simulation and optimization pipeline, comparing outputs for each scenario. Key outputs include harvested area (hectares), harvested volume (m³), and growth (m³). The notebook also reports stand age class distribution, old growth attributes, and tree species diversity at the beginning and end of the planning horizon for each scenario. Additionally, it calculates biodiversity and socioeconomic indicators, while quantifying differences between baseline and alternative scenarios in terms of carbon stocks and net emissions over a customizable simulation horizon, set to 100 years by default (the system can easily be parametrized to simulate shorter or longer horizons)."
   ]
  },
  {
   "cell_type": "code",
   "execution_count": 1,
   "id": "140881ed-6be4-4f69-9cfa-c4ac6d0e2601",
   "metadata": {},
   "outputs": [],
   "source": [
    "%load_ext autoreload\n",
    "%autoreload 2"
   ]
  },
  {
   "cell_type": "code",
   "execution_count": 2,
   "id": "213247ec-412e-4f98-9141-7de4cc19d042",
   "metadata": {
    "tags": []
   },
   "outputs": [],
   "source": [
    "import numpy as np\n",
    "import math\n",
    "import matplotlib.pyplot as plt\n",
    "import pandas as pd\n",
    "import ipywidgets as widgets\n",
    "from IPython.display import display\n",
    "import ws3.forest\n",
    "import time\n",
    "import gurobipy as grb\n",
    "import pickle\n",
    "import libcbm\n",
    "import os\n",
    "from util import compile_events, cbm_report, compile_scenario_maxstock, plot_scenario_maxstock, run_cbm_emissionstock, run_scenario, plugin_c_curves, plugin_c_curves, cbm_report_both, compare_ws3_cbm, compare_ws3_cbm_both, track_system_stock, track_system_emission, compile_scenario_minemission, plot_scenario_minemission, kpi_age, kpi_species, cmp_c_ss, cmp_c_se, results_scenarios, bootstrap_ogi, compare_kpi_age, epsilon_computer, tradeoff_biodiversity_cs, tradeoff_hv_cs, tradeoff_hv_biodiversity"
   ]
  },
  {
   "cell_type": "code",
   "execution_count": 3,
   "id": "9da9f01d-ce2e-4224-a188-180fa185a5a4",
   "metadata": {},
   "outputs": [],
   "source": [
    "# Initialize the input parameters\n",
    "base_year = 2020\n",
    "horizon = 10\n",
    "period_length = 10\n",
    "max_age = 1000\n",
    "n_steps = 100\n",
    "tvy_name = 'totvol'\n",
    "max_harvest = 1.0"
   ]
  },
  {
   "cell_type": "code",
   "execution_count": 4,
   "id": "0d1aeef2-56b4-4ce5-8bba-9bc364accc6d",
   "metadata": {},
   "outputs": [
    {
     "name": "stdout",
     "output_type": "stream",
     "text": [
      "{'tsa01': 500000, 'tsa02': 670142, 'tsa03': 840331, 'tsa04': 119791, 'tsa05': 808000, 'tsa07': 485000, 'tsa08': 2582350, 'tsa09': 424800, 'tsa10': 329024, 'tsa11': 2100000, 'tsa12': 1087000, 'tsa13': 550000, 'tsa14': 970000, 'tsa15': 375000, 'tsa16': 2321476, 'tsa17': 337574, 'tsa18': 1200000, 'tsa20': 1576043, 'tsa22': 2462800, 'tsa23': 967805, 'tsa24': 6935023, 'tsa25': 272061, 'tsa26': 2607000, 'tsa27': 225000, 'tsa29': 2937509, 'tsa30': 1220808, 'tsa31': 368276, 'tsa38': 315694, 'tsa39': 1050000, 'tsa40': 2115000, 'tsa41': 1791846, 'tsa43': 865000, 'tsa44': 845286, 'tsa45': 346920}\n"
     ]
    }
   ],
   "source": [
    "# Load the CSV file\n",
    "file_path = \"./data/AACs.csv\"  # Update with your file path if needed\n",
    "df = pd.read_csv(file_path)\n",
    "\n",
    "# Convert to dictionary where TSA is the key and AAC is the value\n",
    "aac_dict = dict(zip(df['TSA'], df['AAC']))\n",
    "\n",
    "# Display the resulting dictionary\n",
    "print(aac_dict)\n"
   ]
  },
  {
   "cell_type": "code",
   "execution_count": 5,
   "id": "000a14e6-4717-4a0f-882f-80a32bd5594d",
   "metadata": {},
   "outputs": [
    {
     "data": {
      "application/vnd.jupyter.widget-view+json": {
       "model_id": "35d1d509a0154edc9a51d6e02346f82a",
       "version_major": 2,
       "version_minor": 0
      },
      "text/plain": [
       "Dropdown(description='Case Study:', index=1, options=('test', 'ecotrust'), value='ecotrust')"
      ]
     },
     "metadata": {},
     "output_type": "display_data"
    },
    {
     "data": {
      "application/vnd.jupyter.widget-view+json": {
       "model_id": "86bfd5409454481d9eef8c8c63e88fa2",
       "version_major": 2,
       "version_minor": 0
      },
      "text/plain": [
       "Dropdown(description='Scenario:', options=('lowest carbon stock', 'business as usual', '40% of highest carbon …"
      ]
     },
     "metadata": {},
     "output_type": "display_data"
    },
    {
     "data": {
      "application/vnd.jupyter.widget-view+json": {
       "model_id": "0068e17e2c2a4dbc886e3e406ea995f8",
       "version_major": 2,
       "version_minor": 0
      },
      "text/plain": [
       "Dropdown(description='Objective:', options=('max_hv', 'min_ha', 'max_st', 'min_em'), value='max_hv')"
      ]
     },
     "metadata": {},
     "output_type": "display_data"
    }
   ],
   "source": [
    "# Define scenario options based on case study\n",
    "\n",
    "\n",
    "scenario_options = {\n",
    "\n",
    "    'test': ['evenflow_cons', 'no_cons'],\n",
    "    'ecotrust': ['lowest carbon stock', 'business as usual', '40% of highest carbon stock', '60% of highest carbon stock', '20% of highest carbon stock', 'highest carbon stock']\n",
    "}\n",
    "# scenario_options = {\n",
    "\n",
    "#     'test': ['evenflow_cons'],\n",
    "#     'ecotrust': ['business as usual', '40% of highest carbon stock']\n",
    "# }\n",
    "# Function to handle case study selection and update scenario dropdown\n",
    "def select_case_study(case_study):\n",
    "    print(f\"Selected case study: {case_study}\")\n",
    "    # Update the scenario dropdown based on the selected case study\n",
    "    scenario_dropdown.options = scenario_options.get(case_study, [])\n",
    "    scenario_dropdown.value = scenario_options[case_study][0]  # Set a default value\n",
    "\n",
    "\n",
    "case_study_dropdown = widgets.Dropdown(\n",
    "    options=['test', 'ecotrust'],\n",
    "    value='ecotrust',\n",
    "    description='Case Study:'\n",
    ")\n",
    "case_study_dropdown.observe(lambda change: select_case_study(change['new']), names='value')\n",
    "display(case_study_dropdown)\n",
    "\n",
    "# Function to handle scenario selection\n",
    "def select_scenario(scenario_name):\n",
    "    print(f\"Selected scenario: {scenario_name}\")\n",
    "\n",
    "# Scenario dropdown\n",
    "scenario_dropdown = widgets.Dropdown(\n",
    "    options=scenario_options['ecotrust'],  # Set initial options based on default case study\n",
    "    value=scenario_options['ecotrust'][0],  # Set initial value\n",
    "    description='Scenario:'\n",
    ")\n",
    "scenario_dropdown.observe(lambda change: select_scenario(change['new']), names='value')\n",
    "display(scenario_dropdown)\n",
    "\n",
    "# Function to handle objective functon\n",
    "def select_obj(obj_mode):\n",
    "    print(f\"Selected objective: {obj_mode}\")\n",
    "obj_dropdown = widgets.Dropdown(\n",
    "    options=['max_hv', 'min_ha', 'max_st', 'min_em'],\n",
    "    value='max_hv',\n",
    "    description='Objective:'\n",
    ")\n",
    "display(obj_dropdown)\n",
    "obj_dropdown.observe(lambda change: select_obj(change['new']), names='value')"
   ]
  },
  {
   "cell_type": "code",
   "execution_count": 6,
   "id": "19c621a4-5845-4dba-b8e3-034c74e038d7",
   "metadata": {
    "scrolled": true
   },
   "outputs": [
    {
     "data": {
      "application/vnd.jupyter.widget-view+json": {
       "model_id": "e7720efddf82437f9a1bf24ae410544b",
       "version_major": 2,
       "version_minor": 0
      },
      "text/plain": [
       "VBox(children=(FloatSlider(value=0.0, description='HWP_effect', layout=Layout(margin='10px 0'), max=1.0, step=…"
      ]
     },
     "metadata": {},
     "output_type": "display_data"
    }
   ],
   "source": [
    "# Initialize main widget components \n",
    "hwp_pool_effect = widgets.FloatSlider(min=0, max=1, step=1, description='HWP_effect', value=0, layout=widgets.Layout(margin='10px 0'))\n",
    "release_immediately = widgets.FloatSlider(min=0, max=1, step=1, description='Release immediately', value=0, layout=widgets.Layout(margin='10px 0'))\n",
    "displacement_effect = widgets.FloatSlider(min=0, max=1, step=1, description='Displacement', value=1, layout=widgets.Layout(margin='10px 0'))\n",
    "clt_percentage = widgets.FloatSlider(min=0, max=1, step=0.1, description='CLT_percent:', value=0.5, layout=widgets.Layout(margin='10px 0'))\n",
    "credibility = widgets.FloatSlider(min=0, max=1, step=0.1, description='Credibility:', value=1, layout=widgets.Layout(margin='10px 0'))\n",
    "# max_harvest = widgets.FloatSlider(min=0, max=1, step=0.05, description='Max_harvest:', value=1.0, layout=widgets.Layout(margin='10px 0'))\n",
    "budget_input = widgets.FloatText(value=10000000, description='Budget:', layout=widgets.Layout(margin='10px 0'))\n",
    "\n",
    "release_immediately.layout.display = 'none' if hwp_pool_effect.value != 0 else 'block'\n",
    "displacement_effect.layout.display = 'block' if hwp_pool_effect.value != 0 else 'none'\n",
    "clt_percentage.layout.display = 'block' if hwp_pool_effect.value != 0 and displacement_effect.value != 0 else 'none'\n",
    "credibility.layout.display = 'block' if hwp_pool_effect.value != 0 and displacement_effect.value != 0 else 'none'\n",
    "\n",
    "container = widgets.VBox([\n",
    "    hwp_pool_effect, release_immediately, displacement_effect, clt_percentage, credibility, budget_input  \n",
    "    # ,max_harvest\n",
    "])\n",
    "\n",
    "display(container)\n",
    "\n",
    "def update_widgets(change):\n",
    "    hwp_pool_effect_value = hwp_pool_effect.value\n",
    "    displacement_effect_value = displacement_effect.value\n",
    "\n",
    "    release_immediately.layout.display = 'block' if hwp_pool_effect_value == 0 else 'none'\n",
    "    displacement_effect.layout.display = 'block' if hwp_pool_effect_value != 0 else 'none'\n",
    "\n",
    "    clt_percentage.layout.display = 'block' if hwp_pool_effect_value != 0 and displacement_effect_value != 0 else 'none'\n",
    "    credibility.layout.display = 'block' if hwp_pool_effect_value != 0 and displacement_effect_value != 0 else 'none'\n",
    "\n",
    "hwp_pool_effect.observe(update_widgets, names='value')\n",
    "displacement_effect.observe(update_widgets, names='value')"
   ]
  },
  {
   "cell_type": "code",
   "execution_count": 7,
   "id": "632481e8-eb47-46f5-af23-4f32f63db683",
   "metadata": {},
   "outputs": [],
   "source": [
    "#Start Calculating the Running Time\n",
    "Start = time.time()"
   ]
  },
  {
   "cell_type": "code",
   "execution_count": 8,
   "id": "df62df41-071c-4ec8-8eed-34500311a8c4",
   "metadata": {},
   "outputs": [],
   "source": [
    "case_study = case_study_dropdown.value\n",
    "scenario_name = scenario_dropdown.value\n",
    "obj_mode = obj_dropdown.value\n",
    "hwp_pool_effect_value = hwp_pool_effect.value\n",
    "release_immediately_value = release_immediately.value if hwp_pool_effect_value == 0 else 0\n",
    "displacement_effect = displacement_effect.value if hwp_pool_effect_value != 0 else 0\n",
    "clt_percentage = clt_percentage.value if displacement_effect != 0 else 0\n",
    "credibility = credibility.value if displacement_effect != 0 else 0\n",
    "# max_harvest = max_harvest.value\n",
    "budget_input = budget_input.value"
   ]
  },
  {
   "cell_type": "code",
   "execution_count": 9,
   "id": "e7eca225-4f62-4ca9-85f8-5a5499dbd011",
   "metadata": {},
   "outputs": [
    {
     "data": {
      "text/plain": [
       "'lowest carbon stock'"
      ]
     },
     "execution_count": 9,
     "metadata": {},
     "output_type": "execute_result"
    }
   ],
   "source": [
    "scenario_name"
   ]
  },
  {
   "cell_type": "code",
   "execution_count": 10,
   "id": "353e30d6-f430-4fa1-ab14-aec181d8b192",
   "metadata": {},
   "outputs": [
    {
     "data": {
      "text/plain": [
       "'max_hv'"
      ]
     },
     "execution_count": 10,
     "metadata": {},
     "output_type": "execute_result"
    }
   ],
   "source": [
    "obj_mode"
   ]
  },
  {
   "cell_type": "code",
   "execution_count": 11,
   "id": "f5dd5328-8ebe-4e54-8c5f-f7c84b59b569",
   "metadata": {},
   "outputs": [],
   "source": [
    "# Define case study mappings and retrieve model details based on case study\n",
    "case_study_options = {\n",
    "    'test': {\n",
    "        'model_name': 'ecotrust',\n",
    "        'model_path': './data/woodstock_model_files_ecotrust'\n",
    "    },\n",
    "    'ecotrust': {\n",
    "        'model_name': 'ecotrust',\n",
    "        'model_path': './data/woodstock_model_files_ecotrust'\n",
    "    }\n",
    "}\n",
    "\n",
    "model_info = case_study_options.get(case_study)\n",
    "\n",
    "if model_info:\n",
    "    model_name = model_info['model_name']\n",
    "    model_path = model_info['model_path']\n",
    "else:\n",
    "    print('The case study name is not valid')\n"
   ]
  },
  {
   "cell_type": "raw",
   "id": "e186c369-83b9-4867-bff2-b366927e8652",
   "metadata": {},
   "source": [
    "# Define case study mappings and retrieve model details based on case study\n",
    "case_study_options = {\n",
    "    'test': {\n",
    "        'model_name': 'ecotrust',\n",
    "        'model_path': './data/woodstock_model_files_ecotrust_test_24'\n",
    "    },\n",
    "    'ecotrust': {\n",
    "        'model_name': 'ecotrust',\n",
    "        'model_path': './data/woodstock_model_files_ecotrust_test_24'\n",
    "    }\n",
    "}\n",
    "\n",
    "model_info = case_study_options.get(case_study)\n",
    "\n",
    "if model_info:\n",
    "    model_name = model_info['model_name']\n",
    "    model_path = model_info['model_path']\n",
    "else:\n",
    "    print('The case study name is not valid')\n"
   ]
  },
  {
   "cell_type": "code",
   "execution_count": 12,
   "id": "21205949-5636-4bef-8d49-247687514ec2",
   "metadata": {
    "tags": []
   },
   "outputs": [],
   "source": [
    "# Create and Run `ForestModel` instance\n",
    "fm = ws3.forest.ForestModel(model_name=model_name,\n",
    "                            model_path=model_path,\n",
    "                            base_year=base_year,\n",
    "                            horizon=horizon,\n",
    "                            period_length=period_length,\n",
    "                            max_age=max_age)\n",
    "fm.import_landscape_section()\n",
    "fm.import_areas_section()\n",
    "fm.import_yields_section()\n",
    "fm.import_actions_section()\n",
    "fm.import_transitions_section()\n",
    "fm.initialize_areas()\n",
    "fm.add_null_action()\n",
    "fm.reset_actions()\n",
    "fm.grow()"
   ]
  },
  {
   "cell_type": "code",
   "execution_count": 13,
   "id": "c254d4d0-35ac-45cf-885c-7d8ba844f29c",
   "metadata": {},
   "outputs": [],
   "source": [
    "# Define Disturance Types\n",
    "disturbance_type_mapping = [{'user_dist_type': 'harvest', 'default_dist_type': 'Clearcut harvesting without salvage'},\n",
    "                            {'user_dist_type': 'fire', 'default_dist_type': 'Wildfire'}]\n",
    "for dtype_key in fm.dtypes:\n",
    "    fm.dt(dtype_key).last_pass_disturbance = 'fire' if dtype_key[2] == dtype_key[4] else 'harvest'"
   ]
  },
  {
   "cell_type": "code",
   "execution_count": 14,
   "id": "99fecc4c-b981-44f5-b6b0-1f14a15eb861",
   "metadata": {},
   "outputs": [],
   "source": [
    "sit_config, sit_tables = fm.to_cbm_sit(softwood_volume_yname='swdvol', \n",
    "                                       hardwood_volume_yname='hwdvol', \n",
    "                                       admin_boundary='British Columbia', \n",
    "                                       eco_boundary='Montane Cordillera',\n",
    "                                       disturbance_type_mapping=disturbance_type_mapping,\n",
    "                                       include_empty_dtypes=True)"
   ]
  },
  {
   "cell_type": "raw",
   "id": "452d6991-9918-4c39-9d4b-2b30d3f5c50a",
   "metadata": {},
   "source": [
    "contributing_area_path = './data/woodstock_model_files_ecotrust/aoi.txt'\n",
    "with open(contributing_area_path, 'r') as file:\n",
    "    aoi_contributing_area = float(file.read().strip())"
   ]
  },
  {
   "cell_type": "raw",
   "id": "abdad534-028a-4422-9ed0-c2fbf28170b4",
   "metadata": {},
   "source": [
    "\n",
    "# Load the CSV file\n",
    "contributing_area_path = './data/woodstock_model_files_ecotrust/aoi.csv'\n",
    "aoi_df = pd.read_csv(contributing_area_path)\n",
    "\n",
    "# Check if the dataframe is empty\n",
    "if aoi_df.empty:\n",
    "    print(\"The CSV file is empty!\")\n",
    "else:\n",
    "    print(\"The CSV file is not empty!\")\n",
    "    print(aoi_df.head())\n"
   ]
  },
  {
   "cell_type": "raw",
   "id": "a0422bb9-0ae8-4f3f-bac3-65b206651344",
   "metadata": {},
   "source": [
    "# Getting AAC for the area of interest\n",
    "def aac_computer(fm, aac_dict):\n",
    "    regions = fm.themecodes(0)\n",
    "    for i in regions:\n",
    "        aac += \n",
    "        "
   ]
  },
  {
   "cell_type": "code",
   "execution_count": 15,
   "id": "b5f68734-e67c-4bc5-9100-a99862e4567c",
   "metadata": {
    "tags": []
   },
   "outputs": [],
   "source": [
    "# Flag 'harvest' as a harvesting action in the ws3 model\n",
    "harvest_acode='harvest'\n",
    "fm.actions[harvest_acode].is_harvest = True"
   ]
  },
  {
   "cell_type": "code",
   "execution_count": 16,
   "id": "285e9732-4ca2-4ee4-9d43-37bd046eb620",
   "metadata": {},
   "outputs": [],
   "source": [
    "# Define Carbon Pools\n",
    "biomass_pools = ['SoftwoodMerch','SoftwoodFoliage', 'SoftwoodOther', 'SoftwoodCoarseRoots','SoftwoodFineRoots',                    \n",
    "                 'HardwoodMerch', 'HardwoodFoliage', 'HardwoodOther', 'HardwoodCoarseRoots', 'HardwoodFineRoots']\n",
    "dom_pools = ['AboveGroundVeryFastSoil', 'BelowGroundVeryFastSoil', 'AboveGroundFastSoil', 'BelowGroundFastSoil',\n",
    "             'MediumSoil', 'AboveGroundSlowSoil', 'BelowGroundSlowSoil', 'SoftwoodStemSnag', 'SoftwoodBranchSnag',\n",
    "             'HardwoodStemSnag', 'HardwoodBranchSnag']\n",
    "emissions_pools = ['CO2', 'CH4', 'CO', 'NO2']\n",
    "products_pools = ['Products']\n",
    "ecosystem_pools = biomass_pools + dom_pools\n",
    "all_pools = biomass_pools + dom_pools + emissions_pools + products_pools"
   ]
  },
  {
   "cell_type": "markdown",
   "id": "d476d561-98a3-4caf-9204-4cc0a1a32502",
   "metadata": {},
   "source": [
    "Emissions from all biomass components only resulting from fire disturbance, while these from all DOM pools resulting from annual decay processes and fire disturbance."
   ]
  },
  {
   "cell_type": "code",
   "execution_count": 17,
   "id": "e6d64414-4fc0-4476-a0c1-d359a94b4619",
   "metadata": {
    "tags": []
   },
   "outputs": [],
   "source": [
    "# Define Carbon Fluxes\n",
    "annual_process_fluxes = [\n",
    "    'DecayDOMCO2Emission',\n",
    "    'DeltaBiomass_AG',\n",
    "    'DeltaBiomass_BG',\n",
    "    'TurnoverMerchLitterInput',\n",
    "    'TurnoverFolLitterInput',\n",
    "    'TurnoverOthLitterInput',\n",
    "    'TurnoverCoarseLitterInput',\n",
    "    'TurnoverFineLitterInput',\n",
    "    'DecayVFastAGToAir',\n",
    "    'DecayVFastBGToAir',\n",
    "    'DecayFastAGToAir',\n",
    "    'DecayFastBGToAir',\n",
    "    'DecayMediumToAir',\n",
    "    'DecaySlowAGToAir',\n",
    "    'DecaySlowBGToAir',\n",
    "    'DecaySWStemSnagToAir',\n",
    "    'DecaySWBranchSnagToAir',\n",
    "    'DecayHWStemSnagToAir',\n",
    "    'DecayHWBranchSnagToAir'\n",
    "]\n",
    "\n",
    "npp_fluxes=[\n",
    "    'DeltaBiomass_AG', \n",
    "    'DeltaBiomass_BG'\n",
    "]\n",
    "\n",
    "decay_emissions_fluxes = [\n",
    "    'DecayVFastAGToAir',\n",
    "    'DecayVFastBGToAir',\n",
    "    'DecayFastAGToAir',\n",
    "    'DecayFastBGToAir',\n",
    "    'DecayMediumToAir',\n",
    "    'DecaySlowAGToAir',\n",
    "    'DecaySlowBGToAir',\n",
    "    'DecaySWStemSnagToAir',\n",
    "    'DecaySWBranchSnagToAir',\n",
    "    'DecayHWStemSnagToAir',\n",
    "    'DecayHWBranchSnagToAir'\n",
    "]\n",
    "\n",
    "disturbance_production_fluxes = [\n",
    "    'DisturbanceSoftProduction',\n",
    "    'DisturbanceHardProduction',\n",
    "    'DisturbanceDOMProduction'   \n",
    "]\n",
    "\n",
    "disturbance_emissions_fluxes = [\n",
    "    'DisturbanceMerchToAir',\n",
    "    'DisturbanceFolToAir',\n",
    "    'DisturbanceOthToAir',\n",
    "    'DisturbanceCoarseToAir',\n",
    "    'DisturbanceFineToAir',\n",
    "    'DisturbanceVFastAGToAir',\n",
    "    'DisturbanceVFastBGToAir',\n",
    "    'DisturbanceFastAGToAir',\n",
    "    'DisturbanceFastBGToAir',\n",
    "    'DisturbanceMediumToAir',\n",
    "    'DisturbanceSlowAGToAir',\n",
    "    'DisturbanceSlowBGToAir',\n",
    "    'DisturbanceSWStemSnagToAir',\n",
    "    'DisturbanceSWBranchSnagToAir',\n",
    "    'DisturbanceHWStemSnagToAir',\n",
    "    'DisturbanceHWBranchSnagToAir'   \n",
    "]\n",
    "\n",
    "all_fluxes = [\n",
    "    'DisturbanceCO2Production',\n",
    "    'DisturbanceCH4Production',\n",
    "    'DisturbanceCOProduction',\n",
    "    'DisturbanceBioCO2Emission',\n",
    "    'DisturbanceBioCH4Emission',\n",
    "    'DisturbanceBioCOEmission',\n",
    "    'DecayDOMCO2Emission',\n",
    "    'DisturbanceSoftProduction',\n",
    "    'DisturbanceHardProduction',\n",
    "    'DisturbanceDOMProduction',\n",
    "    'DeltaBiomass_AG',\n",
    "    'DeltaBiomass_BG',\n",
    "    'TurnoverMerchLitterInput',\n",
    "    'TurnoverFolLitterInput',\n",
    "    'TurnoverOthLitterInput',\n",
    "    'TurnoverCoarseLitterInput',\n",
    "    'TurnoverFineLitterInput',\n",
    "    'DecayVFastAGToAir',\n",
    "    'DecayVFastBGToAir',\n",
    "    'DecayFastAGToAir',\n",
    "    'DecayFastBGToAir',\n",
    "    'DecayMediumToAir',\n",
    "    'DecaySlowAGToAir',\n",
    "    'DecaySlowBGToAir',\n",
    "    'DecaySWStemSnagToAir',\n",
    "    'DecaySWBranchSnagToAir',\n",
    "    'DecayHWStemSnagToAir',\n",
    "    'DecayHWBranchSnagToAir',\n",
    "    'DisturbanceMerchToAir',\n",
    "    'DisturbanceFolToAir',\n",
    "    'DisturbanceOthToAir',\n",
    "    'DisturbanceCoarseToAir',\n",
    "    'DisturbanceFineToAir',\n",
    "    'DisturbanceDOMCO2Emission',\n",
    "    'DisturbanceDOMCH4Emission',\n",
    "    'DisturbanceDOMCOEmission',\n",
    "    'DisturbanceMerchLitterInput',\n",
    "    'DisturbanceFolLitterInput',\n",
    "    'DisturbanceOthLitterInput',\n",
    "    'DisturbanceCoarseLitterInput',\n",
    "    'DisturbanceFineLitterInput',\n",
    "    'DisturbanceVFastAGToAir',\n",
    "    'DisturbanceVFastBGToAir',\n",
    "    'DisturbanceFastAGToAir',\n",
    "    'DisturbanceFastBGToAir',\n",
    "    'DisturbanceMediumToAir',\n",
    "    'DisturbanceSlowAGToAir',\n",
    "    'DisturbanceSlowBGToAir',\n",
    "    'DisturbanceSWStemSnagToAir',\n",
    "    'DisturbanceSWBranchSnagToAir',\n",
    "    'DisturbanceHWStemSnagToAir',\n",
    "    'DisturbanceHWBranchSnagToAir'\n",
    "]\n",
    "\n",
    "grossgrowth_ag = [\n",
    "    \"DeltaBiomass_AG\",\n",
    "    \"TurnoverMerchLitterInput\",\n",
    "    \"TurnoverFolLitterInput\",\n",
    "    \"TurnoverOthLitterInput\",\n",
    "]\n",
    "\n",
    "grossgrowth_bg = [\n",
    "    \"DeltaBiomass_BG\",\n",
    "    \"TurnoverCoarseLitterInput\",\n",
    "    \"TurnoverFineLitterInput\",\n",
    "]\n",
    "\n",
    "product_flux = [\n",
    "     \"DisturbanceSoftProduction\",\n",
    "     \"DisturbanceHardProduction\",\n",
    "     \"DisturbanceDOMProduction\",\n",
    "]"
   ]
  },
  {
   "cell_type": "code",
   "execution_count": 18,
   "id": "c91b61f0-307c-43e3-8dc1-82beaaeaebe7",
   "metadata": {},
   "outputs": [],
   "source": [
    "# Define Sum Carbon Pools and Sum Carbon Fluxes\n",
    "total_emission = decay_emissions_fluxes + disturbance_emissions_fluxes\n",
    "gross_growth = grossgrowth_ag + grossgrowth_bg\n",
    "\n",
    "sum_pools = ['ecosystem', 'biomass', 'DOM']\n",
    "sum_fluxes = ['total_emission', 'gross_growth', 'net_emission']"
   ]
  },
  {
   "cell_type": "code",
   "execution_count": 19,
   "id": "d9087a25-66e5-4057-8a95-7fe25ebeadea",
   "metadata": {},
   "outputs": [],
   "source": [
    "# Read carbon curves\n",
    "# file_directory = \"./data/curves\"\n",
    "file_names = [\"pi.csv\", \"fi.csv\"]\n",
    "# loaded_data = {}\n",
    "file_path = [\"./data/curves/pi.csv\", \"./data/curves/fi.csv\"] \n",
    "pi = pd.read_csv(file_path[0], index_col=0)\n",
    "fi = pd.read_csv(file_path[1], index_col=0)\n",
    "# for filename in file_names:\n",
    "#     file_path = os.path.join(file_directory, filename)\n",
    "#     with open(file_path, 'rb') as file:\n",
    "#         loaded_data[filename] = pickle.load(file)\n",
    "#     print(f\"Loaded data from {file_path}\")\n",
    "\n",
    "# c_curves_p = loaded_data.get(f\"{case_study}_c_curves_p.pkl\")\n",
    "# c_curves_f = loaded_data.get(f\"{case_study}_c_curves_f.pkl\")"
   ]
  },
  {
   "cell_type": "code",
   "execution_count": 20,
   "id": "ef530d4e-bf99-486f-82f6-e89bdceefe93",
   "metadata": {},
   "outputs": [],
   "source": [
    "# Generate Carbon Pool anf Flux Curves\n",
    "c_curves_p = pi.groupby(['dtype_key', 'timestep'], as_index=True)[ecosystem_pools].sum()\n",
    "c_curves_f = fi.groupby(['dtype_key', 'timestep'], as_index=True)[all_fluxes].sum()"
   ]
  },
  {
   "cell_type": "code",
   "execution_count": 21,
   "id": "489b5f68-2a96-4550-92e1-228804b84e28",
   "metadata": {},
   "outputs": [],
   "source": [
    "# Generate sum carbon pool curves\n",
    "c_curves_p['ecosystem'] = c_curves_p[ecosystem_pools].sum(axis=1)\n",
    "c_curves_p['biomass'] = c_curves_p[biomass_pools].sum(axis=1)\n",
    "c_curves_p['DOM'] = c_curves_p[dom_pools].sum(axis=1)"
   ]
  },
  {
   "cell_type": "code",
   "execution_count": 22,
   "id": "f613600c-7af6-402c-9e12-fcf32dac0976",
   "metadata": {},
   "outputs": [],
   "source": [
    "c_curves_f['total_emission'] = 44/12 * c_curves_f[total_emission].sum(axis=1)\n",
    "c_curves_f['gross_growth'] = 44/12 * c_curves_f[gross_growth].sum(axis=1)\n",
    "c_curves_f['net_emission'] = c_curves_f['total_emission'] - c_curves_f['gross_growth']"
   ]
  },
  {
   "cell_type": "code",
   "execution_count": 23,
   "id": "9fcd56a3-7bb1-44c5-975a-95a2e31163d0",
   "metadata": {},
   "outputs": [],
   "source": [
    "c_curves_f.loc[c_curves_f.index.get_level_values('timestep') == 0] = c_curves_f.loc[c_curves_f.index.get_level_values('timestep') == 1].values"
   ]
  },
  {
   "cell_type": "code",
   "execution_count": 24,
   "id": "ce1777eb-eff1-430c-b8be-39c310225c5c",
   "metadata": {
    "tags": []
   },
   "outputs": [],
   "source": [
    "# Plug carbon and old groth yield curves into forest model\n",
    "plugin_c_curves(fm, c_curves_p, c_curves_f)\n",
    "bootstrap_ogi(fm)"
   ]
  },
  {
   "cell_type": "raw",
   "id": "6c1e3ab8-09f5-4c94-a118-b6134e28bc56",
   "metadata": {},
   "source": [
    "Start = time.time()\n",
    "\n",
    "epsilon, cs_max = epsilon_computer(fm, clt_percentage, hwp_pool_effect_value, displacement_effect, release_immediately_value, n=10, solver=ws3.opt.SOLVER_PULP)\n",
    "scenario_names = scenario_options.get(case_study, [])\n",
    "for scenario_name in scenario_names:\n",
    "    print(f\"Running for {case_study}_{obj_mode}_{scenario_name}...\")\n",
    "    results_scenarios(fm, \n",
    "                      clt_percentage, \n",
    "                      credibility, \n",
    "                      budget_input, \n",
    "                      n_steps, \n",
    "                      max_harvest, \n",
    "                      scenario_name, \n",
    "                      displacement_effect, \n",
    "                      hwp_pool_effect_value, \n",
    "                      release_immediately_value, \n",
    "                      case_study, \n",
    "                      obj_mode, \n",
    "                      epsilon,\n",
    "                      cs_max,\n",
    "                      pickle_output_base=False, \n",
    "                      pickle_output_alter=False)\n",
    "print('It took', round((time.time() - Start) / 60, 1), \"minutes to run all scenarios.\")"
   ]
  },
  {
   "cell_type": "code",
   "execution_count": 25,
   "id": "f2214a18-d7c0-452b-b171-692108e699a1",
   "metadata": {},
   "outputs": [
    {
     "name": "stdout",
     "output_type": "stream",
     "text": [
      "6788534.263521082\n",
      "[166810.52525544004, 180703.075604463, 193457.0654028025, 205590.96045404076]\n",
      "[5148721.781306599, 5558674.902713277, 5968628.023028642, 6378581.1430104505]\n"
     ]
    },
    {
     "data": {
      "image/png": "[encoded data removed]",
      "text/plain": [
       "<Figure size 800x500 with 1 Axes>"
      ]
     },
     "metadata": {},
     "output_type": "display_data"
    }
   ],
   "source": [
    "tradeoff_biodiversity_cs(fm, clt_percentage, hwp_pool_effect_value, displacement_effect, release_immediately_value, n=4, solver=ws3.opt.SOLVER_PULP)"
   ]
  },
  {
   "cell_type": "code",
   "execution_count": 26,
   "id": "d42d110b-1ff2-49d6-9c79-dbfbe0795052",
   "metadata": {},
   "outputs": [
    {
     "name": "stdout",
     "output_type": "stream",
     "text": [
      "[2.0881443021890847e-07, 1067479.6963857089, 1970443.0875319818, 2721018.21554178, 3102813.999968493]\n",
      "[6788534.263521202, 6378581.14325321, 5968628.022652297, 5558674.902151043, 5211929.325424933]\n"
     ]
    },
    {
     "data": {
      "image/png": "[encoded data removed]",
      "text/plain": [
       "<Figure size 800x500 with 1 Axes>"
      ]
     },
     "metadata": {},
     "output_type": "display_data"
    }
   ],
   "source": [
    "epsilon, cs_max = epsilon_computer(fm, clt_percentage, hwp_pool_effect_value, displacement_effect, release_immediately_value, n=4, solver=ws3.opt.SOLVER_PULP)\n",
    "tradeoff_hv_cs(fm, clt_percentage, hwp_pool_effect_value, displacement_effect, release_immediately_value, epsilon, cs_max, n=4, solver=ws3.opt.SOLVER_PULP)"
   ]
  },
  {
   "cell_type": "code",
   "execution_count": 27,
   "id": "4c4c658c-a5fc-4afb-bbc0-63afdc96ea24",
   "metadata": {},
   "outputs": [
    {
     "data": {
      "image/png": "[encoded data removed]",
      "text/plain": [
       "<Figure size 800x500 with 1 Axes>"
      ]
     },
     "metadata": {},
     "output_type": "display_data"
    }
   ],
   "source": [
    "tradeoff_hv_biodiversity(fm, clt_percentage, hwp_pool_effect_value, displacement_effect, release_immediately_value, n=4, solver=ws3.opt.SOLVER_PULP)"
   ]
  }
 ],
 "metadata": {
  "kernelspec": {
   "display_name": "Python 3 (venv:foo)",
   "language": "python",
   "name": "foo"
  },
  "language_info": {
   "codemirror_mode": {
    "name": "ipython",
    "version": 3
   },
   "file_extension": ".py",
   "mimetype": "text/x-python",
   "name": "python",
   "nbconvert_exporter": "python",
   "pygments_lexer": "ipython3",
   "version": "3.10.12"
  }
 },
 "nbformat": 4,
 "nbformat_minor": 5
}
