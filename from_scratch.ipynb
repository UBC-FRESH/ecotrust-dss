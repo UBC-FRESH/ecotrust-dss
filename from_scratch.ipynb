{
 "cells": [
  {
   "cell_type": "markdown",
   "id": "2952d534-038b-4367-9b3f-7603076adc1e",
   "metadata": {
    "jp-MarkdownHeadingCollapsed": true
   },
   "source": [
    "##### Overview\n",
    "\n",
    "This notebook imports raw ws3 input data, reformats and monkey-patches the data, and exports Woodstock formatted input data files (which we will use in other DSS notebooks for this case as the input data files). "
   ]
  },
  {
   "cell_type": "markdown",
   "id": "59e8c11e-dbc1-48f1-996c-4109720d5efe",
   "metadata": {},
   "source": [
    "# Set up environment"
   ]
  },
  {
   "cell_type": "code",
   "execution_count": null,
   "id": "2f49e412-0429-4b54-aa90-b3b1ce485693",
   "metadata": {
    "tags": []
   },
   "outputs": [],
   "source": [
    "%load_ext autoreload\n",
    "%autoreload 2"
   ]
  },
  {
   "cell_type": "code",
   "execution_count": null,
   "id": "23141f45-1925-43df-8bd4-0dfe8c3fc8c6",
   "metadata": {
    "tags": []
   },
   "outputs": [],
   "source": [
    "import matplotlib.pyplot as plt\n",
    "import pandas as pd\n",
    "import geopandas as gpd\n",
    "import ws3.forest, ws3.core\n",
    "import csv\n",
    "import numpy as np\n",
    "import time\n",
    "from functools import partial, wraps\n",
    "import distance\n",
    "import operator\n",
    "import shutil\n",
    "import os"
   ]
  },
  {
   "cell_type": "markdown",
   "id": "3dd44bc0-6b66-4dd1-9137-8ab51ec3b6b0",
   "metadata": {},
   "source": [
    "Define some key model parameters (will get used but defined here up top for convenience)."
   ]
  },
  {
   "cell_type": "code",
   "execution_count": null,
   "id": "1e46e712-2b73-41ee-bdb7-767683a16d92",
   "metadata": {
    "tags": []
   },
   "outputs": [],
   "source": [
    "base_year = 2020\n",
    "horizon = 10\n",
    "period_length = 10\n",
    "max_age = 1000\n",
    "n_steps = 100\n",
    "tvy_name = 'totvol'"
   ]
  },
  {
   "cell_type": "markdown",
   "id": "46ac1076-f791-4bbc-af1e-65037c58056a",
   "metadata": {},
   "source": [
    "Define paths required in the code to read and write"
   ]
  },
  {
   "cell_type": "code",
   "execution_count": null,
   "id": "9078df09-2f9a-42ac-9b06-e390da3cdfe8",
   "metadata": {},
   "outputs": [],
   "source": [
    "# Input paths\n",
    "shapefile_path = './data/shp_files/tsa17.shp/stands selection.shp'\n",
    "\n",
    "# Output paths\n",
    "stands_csv_path = './data/stands.csv'\n",
    "curve_points_table_csv_path = './data/curve_points_table.csv'\n",
    "\n",
    "yldmerged_csv_path = './data/yldmerged.csv'\n",
    "\n",
    "woodstock_model_files_lan_path = './data/woodstock_model_files_ecotrust/ecotrust.lan'\n",
    "woodstock_model_files_are_path = './data/woodstock_model_files_ecotrust/ecotrust.are'\n",
    "woodstock_model_files_yld_path = './data/woodstock_model_files_ecotrust/ecotrust.yld'\n",
    "woodstock_model_files_act_path = './data/woodstock_model_files_ecotrust/ecotrust.act'\n",
    "woodstock_model_files_trn_path = './data/woodstock_model_files_ecotrust/ecotrust.trn'\n",
    "contributing_area_path = './data/woodstock_model_files_ecotrust/aoi.txt'\n",
    "\n"
   ]
  },
  {
   "cell_type": "markdown",
   "id": "ab22316a-e1b1-4aff-8cb7-acdb520e985d",
   "metadata": {},
   "source": [
    "# Import and reformat inventory and yield input data"
   ]
  },
  {
   "cell_type": "markdown",
   "id": "5167c8e8-ac87-4e9d-9a18-06d967d7949a",
   "metadata": {},
   "source": [
    "Read forest inventory data into memory (vector polygon GIS data layer with attribute table, in ESRI Shapefile format). This dataset represents timber supply area (TSA) in British Columbia. We monkey-patch the inventory data here to make it line up nicely with what we need downstream as input for the ws3 model (i.e., changes we make here to the in-memory dataset are not saved to the original dataset on disk). Most of what we are doing here is setting up the _theme_ columns in the attribute table, which should help newer ws3 users make the connection between input data and the landscape themes in ws3 model further down."
   ]
  },
  {
   "cell_type": "code",
   "execution_count": null,
   "id": "b7495ef3-e0db-458f-a94d-c31b02219e64",
   "metadata": {},
   "outputs": [],
   "source": [
    "stands_org = gpd.read_file(shapefile_path)\n"
   ]
  },
  {
   "cell_type": "code",
   "execution_count": null,
   "id": "c74024eb-0605-4278-9976-2f52bd78b71b",
   "metadata": {},
   "outputs": [],
   "source": [
    "stands_org['forest_type'] = stands_org.apply(\n",
    "    lambda row: 1 if row['age2015'] > (60 + 10) else 2,\n",
    "    axis=1\n",
    ")\n"
   ]
  },
  {
   "cell_type": "markdown",
   "id": "20712755-95da-481a-aef1-ffc28044d636",
   "metadata": {},
   "source": [
    "Import CANFI tree species lookup table (associates tree species names with integer numerical values, which we use as theme data values in the ws3 model), and insert species code values into the yield curve dataframe."
   ]
  },
  {
   "cell_type": "code",
   "execution_count": null,
   "id": "b02d8619-9d3e-476f-94fa-7e21a9e3a66c",
   "metadata": {},
   "outputs": [],
   "source": [
    "columns_to_keep = ['theme0', 'thlb', 'au', 'ldspp', 'age2015', 'shape_area', 'geometry','forest_type']\n",
    "stands = stands_org[columns_to_keep].copy()\n",
    "# stands['theme0'] = 'tsa01'\n",
    "columns = ['theme0'] + \\\n",
    "          [col for col in stands.columns if col not in ['theme0', 'forest_type']]  # Exclude these two\n",
    "columns.insert(4, 'forest_type')  # Insert 'primary_forest' at the 4th position\n",
    "stands = stands[columns]  # Apply new order"
   ]
  },
  {
   "cell_type": "code",
   "execution_count": null,
   "id": "d582f4b6-100f-4c4e-b1e6-7a9382752aed",
   "metadata": {},
   "outputs": [],
   "source": [
    "stands = stands.rename(columns={'thlb': 'theme1', 'au': 'theme2', 'ldspp': 'theme3', 'forest_type': 'theme5', 'age2015': 'age', 'shape_area': 'area' })"
   ]
  },
  {
   "cell_type": "raw",
   "id": "9757a395-3b49-488a-97bf-907a12b05acb",
   "metadata": {},
   "source": [
    "def ensure_missing_values(df):\n",
    "    new_rows = []\n",
    "    for value in df[\"theme2\"].unique():\n",
    "        # Filter rows where theme1 == 1 and theme2 matches the current value\n",
    "        subset = df[(df[\"theme2\"] == value) & (df[\"theme1\"] == 1)]\n",
    "        \n",
    "        if subset.empty:\n",
    "            continue  # Skip if no rows with theme1 == 1 for this theme2\n",
    "        \n",
    "        possible_values = {1, 2}\n",
    "        existing_values = set(subset[\"theme5\"])\n",
    "        missing_values = possible_values - existing_values\n",
    "        \n",
    "        for missing_value in missing_values:\n",
    "            # Use values from the first row in the subset as defaults\n",
    "            default_theme0 = subset[\"theme0\"].iloc[0]\n",
    "            default_theme3 = subset[\"theme3\"].iloc[0]\n",
    "            default_theme1 = subset[\"theme1\"].iloc[0]\n",
    "            default_theme4 = subset[\"theme4\"].iloc[0]\n",
    "            \n",
    "            new_row = {\n",
    "                \"theme0\": default_theme0,\n",
    "                \"theme1\": default_theme1,\n",
    "                \"theme2\": value,\n",
    "                \"theme3\": default_theme3,\n",
    "                \"theme4\": default_theme4,\n",
    "                \"theme5\": missing_value,\n",
    "                \"age\": 0,  # Default or placeholder value\n",
    "                \"area\": 1,  # Default or placeholder value\n",
    "            }\n",
    "            new_rows.append(new_row)\n",
    "    \n",
    "    # Append new rows to the DataFrame\n",
    "    df = pd.concat([df, pd.DataFrame(new_rows)], ignore_index=True)\n",
    "    return df"
   ]
  },
  {
   "cell_type": "code",
   "execution_count": null,
   "id": "bddac590-1e3a-481a-b565-c5d7add8d3bc",
   "metadata": {},
   "outputs": [],
   "source": [
    "stands['area'] = stands.geometry.area * 0.0001\n",
    "# This code changes the type of \"theme2\" into integer\n",
    "stands['theme2'] = stands['theme2'].astype(int)\n",
    "# stands = ensure_missing_values(stands)\n",
    "stands.insert(4, 'theme4', stands['theme2'])\n"
   ]
  },
  {
   "cell_type": "code",
   "execution_count": null,
   "id": "6d42fcac-bff3-4972-81ca-38ebf5c07cc5",
   "metadata": {},
   "outputs": [],
   "source": [
    "aoi_contributing_areas = stands[stands['theme1'] == 1]['area'].sum()\n"
   ]
  },
  {
   "cell_type": "markdown",
   "id": "8e22c180-b7a8-47ca-ab3d-a8730dcd32ae",
   "metadata": {},
   "source": [
    "Read yield data from a CSV file and recast AU column data type to integer."
   ]
  },
  {
   "cell_type": "code",
   "execution_count": null,
   "id": "e0ee6900-4209-47ba-ada0-09b6720df5b0",
   "metadata": {},
   "outputs": [],
   "source": [
    "# Reading yld table and changing AU column type into integer\n",
    "yld = pd.read_csv('./data/yld.csv')\n",
    "yld['AU'] = yld['AU'].astype(int)\n"
   ]
  },
  {
   "cell_type": "markdown",
   "id": "803e2533-1e41-437a-b539-811f6ecc2aa4",
   "metadata": {},
   "source": [
    "Create analysis unit (AU) dataframe from stands dataframe data."
   ]
  },
  {
   "cell_type": "code",
   "execution_count": null,
   "id": "4aa23ab8-4073-437a-a312-b04652110247",
   "metadata": {},
   "outputs": [],
   "source": [
    "# Creating AU table from stands table and renaming the column to AU. The AU table is then joined with yld table.\n",
    "AU = pd.DataFrame(stands['theme2']).drop_duplicates()\n",
    "AU.rename(columns = {'theme2':'AU'},inplace=True)"
   ]
  },
  {
   "cell_type": "code",
   "execution_count": null,
   "id": "ee88fff3-4ff7-4610-9af0-907eeb9a54b6",
   "metadata": {},
   "outputs": [],
   "source": [
    "# Inner joining AU and yld tables. The results of the code will be a yield table (yldmerged) that has AU column.\n",
    "yldmerged = pd.merge(AU, yld, on=['AU'], how='inner')"
   ]
  },
  {
   "cell_type": "markdown",
   "id": "391b8d9d-0342-4e26-b196-4b8710d41c37",
   "metadata": {},
   "source": [
    "Import CANFI tree species lookup table (associates tree species names with integer numerical values, which we use as theme data values in the ws3 model), and insert species code values into the yield curve dataframe."
   ]
  },
  {
   "cell_type": "code",
   "execution_count": null,
   "id": "f5930b67-0792-432b-b062-6bfc7ddd3251",
   "metadata": {
    "tags": []
   },
   "outputs": [],
   "source": [
    "# Getting names and codes of canfi_species. This table will be used to add canfi_species column into yldmerged\n",
    "canf = pd.read_csv('data/canfi_species_revised.csv')\n",
    "canf = canf[['name','canfi_species']].set_index('name')"
   ]
  },
  {
   "cell_type": "markdown",
   "id": "f7d69a4f-dc3a-4ee1-a940-24a4d62e6020",
   "metadata": {},
   "source": [
    "Burn CANFI species codes into stand and yield data tables."
   ]
  },
  {
   "cell_type": "raw",
   "id": "0acb5c7a-3f62-4722-bc7f-1e54ebca0359",
   "metadata": {
    "tags": []
   },
   "source": [
    "# Adding codes of leading species under canfi_species in the yldmerged\n",
    "for index, row in yldmerged.iterrows():\n",
    "    yldmerged.at[index,'canfi_species'] = canf.loc[row['LDSPP'],'canfi_species']  "
   ]
  },
  {
   "cell_type": "code",
   "execution_count": null,
   "id": "573cda50-32da-405b-b5cf-79ebc156e017",
   "metadata": {},
   "outputs": [],
   "source": [
    "yldmerged['canfi_species'] = yldmerged.apply(lambda row: canf.loc[row['LDSPP'], 'canfi_species'], axis=1)"
   ]
  },
  {
   "cell_type": "code",
   "execution_count": null,
   "id": "c59a7c33-cbbe-4796-8338-606a46bb0587",
   "metadata": {},
   "outputs": [],
   "source": [
    "# replacing leading species names with their codes\n",
    "for index, row in stands.iterrows():\n",
    "    stands.at[index,'theme6'] = canf.loc[row['theme3'],'canfi_species']\n",
    "stands['theme3'] = stands['theme6']\n",
    "# stands = stands.drop('theme6',axis=1)\n",
    "# stands['theme4'] = stands['theme2']\n",
    "stands['theme3'] = stands['theme3'] .astype(int)"
   ]
  },
  {
   "cell_type": "code",
   "execution_count": null,
   "id": "fc1aa237-cd5a-46ec-a71e-3b03ebc189ed",
   "metadata": {},
   "outputs": [],
   "source": [
    "# stands = ensure_missing_values(stands)\n",
    "# stands.insert(5, 'theme5', stands['theme4'])\n",
    "total_area = stands[stands['theme1'] == 1]['area'].sum()\n"
   ]
  },
  {
   "cell_type": "code",
   "execution_count": null,
   "id": "dfb3bbed-7510-48f6-a7fc-a4a74cb2ed8d",
   "metadata": {},
   "outputs": [],
   "source": [
    "curve_points_table = yldmerged\n",
    "# Adding 'curve_id' and 'canfi_species' columns to curve_points_table\n",
    "curve_points_table ['curve_id'] = curve_points_table ['AU']\n",
    "curve_points_table ['canfi_species'] = yldmerged ['canfi_species'].astype(int)"
   ]
  },
  {
   "cell_type": "raw",
   "id": "01580ae6-28a6-4f0b-a866-830cb84c1b1f",
   "metadata": {},
   "source": [
    "\n",
    "new_rows = curve_points_table.copy()\n",
    "new_rows[\"curve_id\"] += 1\n",
    "\n",
    "# Combine original and new rows\n",
    "curve_points_table = pd.concat([curve_points_table, new_rows]).sort_index().reset_index(drop=True)\n"
   ]
  },
  {
   "cell_type": "code",
   "execution_count": null,
   "id": "3853e772-d0ab-476d-9189-8281c965748d",
   "metadata": {},
   "outputs": [],
   "source": [
    "columns_to_index_yld = ['AU']"
   ]
  },
  {
   "cell_type": "code",
   "execution_count": null,
   "id": "1f63ce79-7245-4c7b-b4f2-f8141d32c980",
   "metadata": {},
   "outputs": [],
   "source": [
    "curve_points_table = curve_points_table.set_index(columns_to_index_yld)"
   ]
  },
  {
   "cell_type": "markdown",
   "id": "0fa16d12-9999-4fcf-a692-dff0eace518e",
   "metadata": {},
   "source": [
    "Save reformatted data to CSV files. "
   ]
  },
  {
   "cell_type": "code",
   "execution_count": null,
   "id": "fa255222-d89d-498f-9e72-208229bd23e0",
   "metadata": {},
   "outputs": [],
   "source": [
    "# stands_.to_csv(stands_csv_path, index=False)\n",
    "# stands_mdf.to_csv(stands_mdf_csv_path, index=False)\n",
    "# yld_vdyp.to_csv(yld_vdyp_csv_path, index=False)\n",
    "yldmerged.to_csv(yldmerged_csv_path, header=True, index=False)\n",
    "stands.to_csv(stands_csv_path, header=True, index=False)\n",
    "curve_points_table.to_csv(curve_points_table_csv_path, header=True, index=False)"
   ]
  },
  {
   "cell_type": "code",
   "execution_count": null,
   "id": "1bc2f67a-680e-4d07-ba75-c3be6b8b55bb",
   "metadata": {},
   "outputs": [],
   "source": [
    "theme_cols=['theme0', # TSA \n",
    "            'theme1', # THLB\n",
    "            'theme2', # AUs\n",
    "            'theme3', # leading species code\n",
    "            'theme4',  # yield curve ID\n",
    "            'theme5',  # forest type\n",
    "           ]\n",
    "basecodes = [list(map(lambda x: str(x), stands[tc].unique())) for tc in theme_cols]\n",
    "basecodes[2] = list(set(basecodes[2] + list(stands['theme2'].astype(str))))\n",
    "basecodes[3] = list(set(basecodes[3] + list(stands['theme3'].astype(str))))\n",
    "# basecodes[4] = list(set(basecodes[4] + list((stands['theme2'] * 1000 + 1).astype(str)) + list((stands['theme2'] * 1000 + 2).astype(str))))\n",
    "basecodes[4] = list(set(basecodes[4] + list(stands['theme4'].astype(str))))\n",
    "basecodes[5] = list(set(basecodes[5] + list(stands['theme5'].astype(str))))"
   ]
  },
  {
   "cell_type": "code",
   "execution_count": null,
   "id": "cbdb2d40-1004-4ee9-b037-4242b3861c62",
   "metadata": {},
   "outputs": [],
   "source": [
    "fm = ws3.forest.ForestModel(model_name='ecotest',\n",
    "                            model_path='data',\n",
    "                            base_year=base_year,\n",
    "                            horizon=horizon,\n",
    "                            period_length=period_length,\n",
    "                            max_age=max_age)"
   ]
  },
  {
   "cell_type": "code",
   "execution_count": null,
   "id": "7636a84b-a5f2-45bf-95ac-8a04b4c254c6",
   "metadata": {},
   "outputs": [],
   "source": [
    "for ti, t in enumerate(theme_cols):\n",
    "    fm.add_theme(t, basecodes[ti])"
   ]
  },
  {
   "cell_type": "code",
   "execution_count": null,
   "id": "78cf87ae-1249-47f1-aa8e-89ea78e6b2ed",
   "metadata": {},
   "outputs": [],
   "source": [
    "gstands = stands.groupby(theme_cols+['age'])"
   ]
  },
  {
   "cell_type": "code",
   "execution_count": null,
   "id": "d5a705cf-abd6-4fa5-acc6-7e739f384e9a",
   "metadata": {},
   "outputs": [],
   "source": [
    "age_cutoff = 600\n",
    "for name, group in gstands:\n",
    "    dtk, age, area = tuple(map(lambda x: str(x), name[:-1])), int(name[-1]), group['area'].sum()\n",
    "    if dtk not in fm.dtypes:\n",
    "        fm.dtypes[dtk] = ws3.forest.DevelopmentType(dtk, fm)\n",
    "    fm.dtypes[dtk].area(0, age, area)"
   ]
  },
  {
   "cell_type": "code",
   "execution_count": null,
   "id": "e8b300af-fba1-4ce2-bd71-beee2eb2d581",
   "metadata": {},
   "outputs": [],
   "source": [
    "curve_points_table['forest_type'] = 1\n",
    "new_rows = curve_points_table.copy()\n",
    "new_rows[\"forest_type\"] += 1\n",
    "\n",
    "# Combine original and new rows\n",
    "curve_points_table = pd.concat([curve_points_table, new_rows]).sort_index().reset_index(drop=True)\n"
   ]
  },
  {
   "cell_type": "code",
   "execution_count": null,
   "id": "1ec57c7d-315c-4f97-97e0-632f01726e30",
   "metadata": {},
   "outputs": [],
   "source": [
    "tot=[]\n",
    "swd=[]\n",
    "hwd=[]\n",
    "for AU, au_row in curve_points_table.iterrows():\n",
    "    yname = 's%04d' % int(au_row.canfi_species)    \n",
    "    curve_id = au_row.curve_id\n",
    "    forest_type = au_row.forest_type\n",
    "    mask = ('?', '?', str(curve_id), '?', str(curve_id), str(forest_type))\n",
    "    points = [(x*10, au_row['X%i' % (x*10)]) for x in range(36)]\n",
    "    c = fm.register_curve(ws3.core.Curve(yname, points=points, type='a', is_volume=True, xmax=max_age, period_length=period_length))\n",
    "    # print('*Y', ' '.join(v for v in mask), file=file)\n",
    "    # print(yname, '1', ' '.join(str(int(c[x])) for x in range(0, 350, 10)), file=file)\n",
    "    fm.yields.append((mask, 'a', [(yname, c)])) # only if not already present?\n",
    "    fm.ynames.add(yname) \n",
    "    for dtk in fm.unmask(mask): \n",
    "        fm.dtypes[dtk].add_ycomp('a', yname, c)\n",
    "    \n",
    "    if yname not in tot:\n",
    "        tot.append(yname)\n",
    "    if int(au_row.canfi_species) > 1200:\n",
    "        if yname not in hwd: hwd.append(yname)\n",
    "    else:\n",
    "        if yname not in swd: swd.append(yname)"
   ]
  },
  {
   "cell_type": "code",
   "execution_count": null,
   "id": "4a85d362-5041-4001-a044-65aa0ed898ca",
   "metadata": {},
   "outputs": [],
   "source": [
    "expr = '_SUM(%s)' % ', '.join(fm.ynames)\n",
    "expr_h = '_SUM(%s)' % ', '.join(hwd)\n",
    "expr_s = '_SUM(%s)' % ', '.join(swd)\n",
    "ycomps = [(tvy_name, expr), ('swdvol', expr_s), ('hwdvol', expr_h)]\n",
    "fm.yields.append((('?', '?', '?', '?', '?', '?'), 'c', ycomps))\n",
    "fm.ynames.update([tvy_name, 'swdvol', 'hwdvol'])\n",
    "# for dtk in fm.dtypes.keys(): fm.dtypes[dtk].add_ycomp('c', tvy_name, expr)  \n",
    "for k in fm.unmask(('?', '?', '?', '?', '?', '?')):\n",
    "    for yname, ycomp in ycomps:\n",
    "        fm.dtypes[k].add_ycomp('c', yname, ycomp)"
   ]
  },
  {
   "cell_type": "code",
   "execution_count": null,
   "id": "3b4c3f19-32e8-46c9-853f-4938505d008e",
   "metadata": {},
   "outputs": [],
   "source": [
    "\n",
    "acode = 'harvest'\n",
    "oe = '_age >= 90 and _age <= 600' # operability expression\n",
    "# print('*CASE', acode, file=file)\n",
    "fm.transitions[acode] = {}\n",
    "record_au = set()\n",
    "for au_id, au_row in stands.iterrows():\n",
    "    if au_row.theme2 in record_au: continue\n",
    "    if not au_row.theme1: continue\n",
    "    au = au_row.theme2\n",
    "    target_curve_id = au\n",
    "    # primary_determinant = au_row.theme5\n",
    "    # smask = ' '.join(('?', '?', '?', '?', '?', str(target_curve_id)))\n",
    "    # tmask = ' '.join(('?', '?' , '?', '?', str(target_curve_id), '?'))\n",
    "    # smask_primary = ' '.join(('?', '?' , str(target_curve_id), '?', '?', '1'))\n",
    "    # tmask_primary = ' '.join(('?', '?' , '?', '?', str(target_curve_id), '0'))\n",
    "    # smask_secondary = ' '.join(('?', '?' , str(target_curve_id), '?', '?', '0'))\n",
    "    # tmask_secondary = ' '.join(('?', '?' , '?', '?', str(target_curve_id), '0'))\n",
    "    smask = ('?', '1' , str(au), '?', '?', '?')\n",
    "    tmask = ('?', '?' , '?', '?', str(target_curve_id), '2')\n",
    "    # smask = ' '.join(('?', '1' , str(au), '?', '?', '?'))\n",
    "    # tmask = ' '.join(('?', '?' , '?', '?', str(target_curve_id), '2'))\n",
    "    target = [(tmask, 1.0, None, None, None, None, None)] # list of one (single target... not modelling \"divergent\" transitions)\n",
    "    fm.actions[acode] = ws3.forest.Action(acode, targetage=0, is_harvest=True)\n",
    "    fm.oper_expr[acode] = {smask:oe}        \n",
    "    fm.transitions[acode].update({smask:{'':target}}) # the '' is a blank source \n",
    "\n",
    "\n",
    "    record_au.add(au_row.theme2)\n",
    "    for dtk in fm.unmask(smask):\n",
    "        dt = fm.dtypes[dtk]\n",
    "        dt.oper_expr[acode] = [oe]\n",
    "        for age in range(1, fm.max_age):\n",
    "            if not dt.is_operable(acode, 1, age): continue\n",
    "            #if dtk == ('tsa24_clipped', '1', '2402000', '100', '2402000'):\n",
    "            #    print('setting transition for', dtk, age, 'to', target)\n",
    "            fm.dtypes[dtk].transitions[acode, age] = target    "
   ]
  },
  {
   "cell_type": "code",
   "execution_count": null,
   "id": "ac0d45ca-c24e-4a77-a463-92d5e4df1263",
   "metadata": {},
   "outputs": [],
   "source": [
    "fig, ax = plt.subplots(3, 1, figsize=(8, 12), sharex=True)\n",
    "\n",
    "cvol = c\n",
    "ccai = c.cai()\n",
    "cmai = c.mai()\n",
    "cmaiytp = c.mai().ytp()\n",
    "x_cmai = cmaiytp.lookup(0) # optimal rotation age (i.e., culmination of MAI curve)\n",
    "labels = 'total volume', 'MAI (and CAI)', 'MAI YTP'\n",
    "\n",
    "ax[0].plot(*zip(*c.points()))\n",
    "ax[0].plot([0, x_cmai], [0., cvol[x_cmai]], linestyle='--', color='green')\n",
    "\n",
    "ax[1].plot(*zip(*c.mai().points()))\n",
    "ax[1].plot(*zip(*c.cai().points()), linestyle=':')\n",
    "\n",
    "ax[2].plot(*zip(*c.mai().ytp().points()))\n",
    "ax[2].axhline(0, color='black')\n",
    "\n",
    "for i in range(len(ax)):\n",
    "    ax[i].set_ylabel(labels[i])\n",
    "    ax[i].set_ylim(0, None)\n",
    "    ax[i].axvline(x_cmai, color='red')\n",
    "plt.xlim(0, 300)"
   ]
  },
  {
   "cell_type": "markdown",
   "id": "f22e1d51-ba25-4e3e-a4bf-37444679bfae",
   "metadata": {},
   "source": [
    "## Carbon curves"
   ]
  },
  {
   "cell_type": "code",
   "execution_count": null,
   "id": "f92cce92-fa4e-47b2-a5e0-eb1f68c1809c",
   "metadata": {},
   "outputs": [],
   "source": [
    "import numpy as np\n",
    "import math\n",
    "import matplotlib.pyplot as plt\n",
    "import pandas as pd\n",
    "import ipywidgets as widgets\n",
    "from IPython.display import display\n",
    "import ws3.forest\n",
    "import time\n",
    "import gurobipy as grb\n",
    "import pickle\n",
    "import os\n",
    "from util import compile_scenario_maxstock, plot_scenario_maxstock, run_cbm_emissionstock, cbm_report, plugin_c_curves, compare_ws3_cbm, compile_events, plugin_c_curves_both, cbm_report_both, compare_ws3_cbm_both"
   ]
  },
  {
   "cell_type": "code",
   "execution_count": null,
   "id": "e3e19769-f48d-4771-a6e2-136a2a781efe",
   "metadata": {},
   "outputs": [],
   "source": [
    "fm.initialize_areas()\n",
    "fm.add_null_action()\n",
    "fm.reset_actions()\n",
    "fm.grow()"
   ]
  },
  {
   "cell_type": "code",
   "execution_count": null,
   "id": "94059976-dfc0-4985-932c-e7837d3e2dbe",
   "metadata": {
    "tags": []
   },
   "outputs": [],
   "source": [
    "# Define Disturance Types\n",
    "disturbance_type_mapping = [{'user_dist_type': 'harvest', 'default_dist_type': 'Clearcut harvesting without salvage'},\n",
    "                            {'user_dist_type': 'fire', 'default_dist_type': 'Wildfire'}]\n",
    "for dtype_key in fm.dtypes:\n",
    "    fm.dt(dtype_key).last_pass_disturbance = 'fire' if dtype_key[2] == dtype_key[4] else 'harvest'"
   ]
  },
  {
   "cell_type": "markdown",
   "id": "cf37ce5f-abbe-4462-9a42-2a809fe53b8e",
   "metadata": {},
   "source": [
    "Here are other two ways to generate sit tables. But they are only suitbale for small forest model since they take too much running time and memory"
   ]
  },
  {
   "cell_type": "code",
   "execution_count": null,
   "id": "46a3f0ee-df18-4c5e-b8b9-d9f4fef4508d",
   "metadata": {},
   "outputs": [],
   "source": [
    "sit_config, sit_tables = fm.to_cbm_sit(softwood_volume_yname='swdvol', \n",
    "                                       hardwood_volume_yname='hwdvol', \n",
    "                                       admin_boundary='British Columbia', \n",
    "                                       eco_boundary='Montane Cordillera',\n",
    "                                       disturbance_type_mapping=disturbance_type_mapping,\n",
    "                                       include_empty_dtypes=True)"
   ]
  },
  {
   "cell_type": "code",
   "execution_count": null,
   "id": "d342fce7-d095-4624-8ef9-6c0dde44f46b",
   "metadata": {},
   "outputs": [],
   "source": [
    "sit_tables['sit_inventory']"
   ]
  },
  {
   "cell_type": "code",
   "execution_count": null,
   "id": "c49cbb3f-5cdf-4b9a-a96f-00e33a69dc89",
   "metadata": {},
   "outputs": [],
   "source": [
    "len(list(fm.dtypes))"
   ]
  },
  {
   "cell_type": "code",
   "execution_count": null,
   "id": "6df423a3-ab10-4498-8e54-3ba917874ca3",
   "metadata": {},
   "outputs": [],
   "source": [
    "list(fm.dtypes)"
   ]
  },
  {
   "cell_type": "code",
   "execution_count": null,
   "id": "d72431ca-35af-41d2-b97d-bc88bb42ee83",
   "metadata": {},
   "outputs": [],
   "source": [
    "sit_config"
   ]
  },
  {
   "cell_type": "code",
   "execution_count": null,
   "id": "aa7126b3-973e-4e77-a408-676768aeeac3",
   "metadata": {},
   "outputs": [],
   "source": [
    "sit_tables"
   ]
  },
  {
   "cell_type": "code",
   "execution_count": null,
   "id": "46b06d29-4795-4c37-ab2d-6523ecae22f5",
   "metadata": {},
   "outputs": [],
   "source": [
    "n_steps"
   ]
  },
  {
   "cell_type": "code",
   "execution_count": null,
   "id": "6b80c408-184c-4228-816f-012b03d85bfb",
   "metadata": {},
   "outputs": [],
   "source": [
    "sit_tables['sit_transitions'].to_csv('./data/transitions.csv', header=True, index=False)"
   ]
  },
  {
   "cell_type": "code",
   "execution_count": null,
   "id": "b67c6af0-9757-47f8-82b5-714f21147523",
   "metadata": {
    "tags": []
   },
   "outputs": [],
   "source": [
    "# Define Time Steps\n",
    "n_steps = fm.horizon * fm.period_length\n",
    "\n",
    "# Run CBM and Generate CBM 0utputs\n",
    "cbm_output = run_cbm_emissionstock(sit_config, sit_tables, n_steps)"
   ]
  },
  {
   "cell_type": "code",
   "execution_count": null,
   "id": "9aada0d2-cb24-48f9-948d-11dbf7de3621",
   "metadata": {},
   "outputs": [],
   "source": [
    "# Define Carbon Pools\n",
    "biomass_pools = ['SoftwoodMerch','SoftwoodFoliage', 'SoftwoodOther', 'SoftwoodCoarseRoots','SoftwoodFineRoots',                    \n",
    "                 'HardwoodMerch', 'HardwoodFoliage', 'HardwoodOther', 'HardwoodCoarseRoots', 'HardwoodFineRoots']\n",
    "dom_pools = ['AboveGroundVeryFastSoil', 'BelowGroundVeryFastSoil', 'AboveGroundFastSoil', 'BelowGroundFastSoil',\n",
    "             'MediumSoil', 'AboveGroundSlowSoil', 'BelowGroundSlowSoil', 'SoftwoodStemSnag', 'SoftwoodBranchSnag',\n",
    "             'HardwoodStemSnag', 'HardwoodBranchSnag']\n",
    "emissions_pools = ['CO2', 'CH4', 'CO', 'NO2']\n",
    "products_pools = ['Products']\n",
    "ecosystem_pools = biomass_pools + dom_pools\n",
    "all_pools = biomass_pools + dom_pools + emissions_pools + products_pools"
   ]
  },
  {
   "cell_type": "markdown",
   "id": "ab827f10-4148-4a45-8541-54e075f667c1",
   "metadata": {},
   "source": [
    "Emissions from all biomass components only resulting from fire disturbance, while these from all DOM pools resulting from annual decay processes and fire disturbance."
   ]
  },
  {
   "cell_type": "code",
   "execution_count": null,
   "id": "af36c35c-59d3-4580-bced-0ec6033e156f",
   "metadata": {
    "tags": []
   },
   "outputs": [],
   "source": [
    "# Define Carbon Fluxes\n",
    "annual_process_fluxes = [\n",
    "    'DecayDOMCO2Emission',\n",
    "    'DeltaBiomass_AG',\n",
    "    'DeltaBiomass_BG',\n",
    "    'TurnoverMerchLitterInput',\n",
    "    'TurnoverFolLitterInput',\n",
    "    'TurnoverOthLitterInput',\n",
    "    'TurnoverCoarseLitterInput',\n",
    "    'TurnoverFineLitterInput',\n",
    "    'DecayVFastAGToAir',\n",
    "    'DecayVFastBGToAir',\n",
    "    'DecayFastAGToAir',\n",
    "    'DecayFastBGToAir',\n",
    "    'DecayMediumToAir',\n",
    "    'DecaySlowAGToAir',\n",
    "    'DecaySlowBGToAir',\n",
    "    'DecaySWStemSnagToAir',\n",
    "    'DecaySWBranchSnagToAir',\n",
    "    'DecayHWStemSnagToAir',\n",
    "    'DecayHWBranchSnagToAir'\n",
    "]\n",
    "\n",
    "npp_fluxes=[\n",
    "    'DeltaBiomass_AG', \n",
    "    'DeltaBiomass_BG'\n",
    "]\n",
    "\n",
    "decay_emissions_fluxes = [\n",
    "    'DecayVFastAGToAir',\n",
    "    'DecayVFastBGToAir',\n",
    "    'DecayFastAGToAir',\n",
    "    'DecayFastBGToAir',\n",
    "    'DecayMediumToAir',\n",
    "    'DecaySlowAGToAir',\n",
    "    'DecaySlowBGToAir',\n",
    "    'DecaySWStemSnagToAir',\n",
    "    'DecaySWBranchSnagToAir',\n",
    "    'DecayHWStemSnagToAir',\n",
    "    'DecayHWBranchSnagToAir'\n",
    "]\n",
    "\n",
    "disturbance_production_fluxes = [\n",
    "    'DisturbanceSoftProduction',\n",
    "    'DisturbanceHardProduction',\n",
    "    'DisturbanceDOMProduction'   \n",
    "]\n",
    "\n",
    "disturbance_emissions_fluxes = [\n",
    "    'DisturbanceMerchToAir',\n",
    "    'DisturbanceFolToAir',\n",
    "    'DisturbanceOthToAir',\n",
    "    'DisturbanceCoarseToAir',\n",
    "    'DisturbanceFineToAir',\n",
    "    'DisturbanceVFastAGToAir',\n",
    "    'DisturbanceVFastBGToAir',\n",
    "    'DisturbanceFastAGToAir',\n",
    "    'DisturbanceFastBGToAir',\n",
    "    'DisturbanceMediumToAir',\n",
    "    'DisturbanceSlowAGToAir',\n",
    "    'DisturbanceSlowBGToAir',\n",
    "    'DisturbanceSWStemSnagToAir',\n",
    "    'DisturbanceSWBranchSnagToAir',\n",
    "    'DisturbanceHWStemSnagToAir',\n",
    "    'DisturbanceHWBranchSnagToAir'   \n",
    "]\n",
    "\n",
    "all_fluxes = [\n",
    "    'DisturbanceCO2Production',\n",
    "    'DisturbanceCH4Production',\n",
    "    'DisturbanceCOProduction',\n",
    "    'DisturbanceBioCO2Emission',\n",
    "    'DisturbanceBioCH4Emission',\n",
    "    'DisturbanceBioCOEmission',\n",
    "    'DecayDOMCO2Emission',\n",
    "    'DisturbanceSoftProduction',\n",
    "    'DisturbanceHardProduction',\n",
    "    'DisturbanceDOMProduction',\n",
    "    'DeltaBiomass_AG',\n",
    "    'DeltaBiomass_BG',\n",
    "    'TurnoverMerchLitterInput',\n",
    "    'TurnoverFolLitterInput',\n",
    "    'TurnoverOthLitterInput',\n",
    "    'TurnoverCoarseLitterInput',\n",
    "    'TurnoverFineLitterInput',\n",
    "    'DecayVFastAGToAir',\n",
    "    'DecayVFastBGToAir',\n",
    "    'DecayFastAGToAir',\n",
    "    'DecayFastBGToAir',\n",
    "    'DecayMediumToAir',\n",
    "    'DecaySlowAGToAir',\n",
    "    'DecaySlowBGToAir',\n",
    "    'DecaySWStemSnagToAir',\n",
    "    'DecaySWBranchSnagToAir',\n",
    "    'DecayHWStemSnagToAir',\n",
    "    'DecayHWBranchSnagToAir',\n",
    "    'DisturbanceMerchToAir',\n",
    "    'DisturbanceFolToAir',\n",
    "    'DisturbanceOthToAir',\n",
    "    'DisturbanceCoarseToAir',\n",
    "    'DisturbanceFineToAir',\n",
    "    'DisturbanceDOMCO2Emission',\n",
    "    'DisturbanceDOMCH4Emission',\n",
    "    'DisturbanceDOMCOEmission',\n",
    "    'DisturbanceMerchLitterInput',\n",
    "    'DisturbanceFolLitterInput',\n",
    "    'DisturbanceOthLitterInput',\n",
    "    'DisturbanceCoarseLitterInput',\n",
    "    'DisturbanceFineLitterInput',\n",
    "    'DisturbanceVFastAGToAir',\n",
    "    'DisturbanceVFastBGToAir',\n",
    "    'DisturbanceFastAGToAir',\n",
    "    'DisturbanceFastBGToAir',\n",
    "    'DisturbanceMediumToAir',\n",
    "    'DisturbanceSlowAGToAir',\n",
    "    'DisturbanceSlowBGToAir',\n",
    "    'DisturbanceSWStemSnagToAir',\n",
    "    'DisturbanceSWBranchSnagToAir',\n",
    "    'DisturbanceHWStemSnagToAir',\n",
    "    'DisturbanceHWBranchSnagToAir'\n",
    "]\n",
    "\n",
    "grossgrowth_ag = [\n",
    "    \"DeltaBiomass_AG\",\n",
    "    \"TurnoverMerchLitterInput\",\n",
    "    \"TurnoverFolLitterInput\",\n",
    "    \"TurnoverOthLitterInput\",\n",
    "]\n",
    "\n",
    "grossgrowth_bg = [\n",
    "    \"DeltaBiomass_BG\",\n",
    "    \"TurnoverCoarseLitterInput\",\n",
    "    \"TurnoverFineLitterInput\",\n",
    "]\n",
    "\n",
    "product_flux = [\n",
    "     \"DisturbanceSoftProduction\",\n",
    "     \"DisturbanceHardProduction\",\n",
    "     \"DisturbanceDOMProduction\",\n",
    "]"
   ]
  },
  {
   "cell_type": "code",
   "execution_count": null,
   "id": "b1e58179-4a9c-412f-9477-71bf5c46417f",
   "metadata": {
    "tags": []
   },
   "outputs": [],
   "source": [
    "# Define Sum Carbon Pools and Sum Carbon Fluxes\n",
    "total_emission = decay_emissions_fluxes + disturbance_emissions_fluxes\n",
    "gross_growth = grossgrowth_ag + grossgrowth_bg\n",
    "\n",
    "sum_pools = ['ecosystem', 'biomass', 'DOM']\n",
    "sum_fluxes = ['total_emission', 'gross_growth', 'net_emission']"
   ]
  },
  {
   "cell_type": "code",
   "execution_count": null,
   "id": "864d392e-1e30-4288-8b92-7fc6e280cc52",
   "metadata": {},
   "outputs": [],
   "source": [
    "def cbm_report(fm, cbm_output, biomass_pools, dom_pools, total_emission, gross_growth, production, n_steps):\n",
    "    \n",
    "    # Add carbon pools indicators \n",
    "    pi = cbm_output.classifiers.to_pandas().merge(cbm_output.pools.to_pandas(), \n",
    "                                                  left_on=[\"identifier\", \"timestep\"], \n",
    "                                                  right_on=[\"identifier\", \"timestep\"])\n",
    "\n",
    "    annual_carbon_stock = pd.DataFrame({'Year': pi['timestep'],\n",
    "                                        'Biomass': pi[biomass_pools].sum(axis=1),\n",
    "                                        'DOM': pi[dom_pools].sum(axis=1),\n",
    "                                        'Ecosystem': pi[biomass_pools + dom_pools].sum(axis=1)})\n",
    "\n",
    "    fi = cbm_output.classifiers.to_pandas().merge(cbm_output.flux.to_pandas(), \n",
    "                                                  left_on=[\"identifier\", \"timestep\"], \n",
    "                                                  right_on=[\"identifier\", \"timestep\"])\n",
    "\n",
    "    annual_all_emission = pd.DataFrame({'Year': fi['timestep'],\n",
    "                                        'All_Emissions': fi[total_emission].sum(axis=1)})\n",
    "\n",
    "    # Calculating gross growth fluxes\n",
    "    annual_gross_growth = pd.DataFrame({'Year': fi['timestep'],\n",
    "                                        'Gross_Growth': fi[gross_growth].sum(axis=1)})\n",
    "    \n",
    "    # Calculating HWPs carbon\n",
    "    annual_harvested_carbon = pd.DataFrame({'Year': fi['timestep'],\n",
    "                                            'Harvested_Carbon': fi[production].sum(axis=1)})\n",
    "\n",
    "\n",
    "    # Calculating net emissions (All_Emissions - Gross_Growth)\n",
    "    annual_net_emission = pd.DataFrame({'Year': fi['timestep'],\n",
    "                                        'Net_Emissions': annual_all_emission['All_Emissions'] - annual_gross_growth['Gross_Growth']})\n",
    "\n",
    "    df_cs = annual_carbon_stock.groupby('Year').sum()\n",
    "    df_ae = annual_all_emission.groupby('Year').sum()\n",
    "    df_gg = annual_gross_growth.groupby('Year').sum()  # Updated to Gross Growth\n",
    "    df_ne = annual_net_emission.groupby('Year').sum()\n",
    "    df_hc = annual_harvested_carbon.groupby('Year').sum()\n",
    "\n",
    "    # Merging all dataframes, now including net emissions and gross growth\n",
    "    merged_df = pd.merge(pd.merge(pd.merge(pd.merge(df_cs, df_ae, left_index=True, right_index=True, how='outer'),\n",
    "                                           df_gg, left_index=True, right_index=True, how='outer'),\n",
    "                                  df_ne, left_index=True, right_index=True, how='outer'),\n",
    "                         df_hc, left_index=True, right_index=True, how='outer')\n",
    "\n",
    "    # Calculating stock change\n",
    "    merged_df['Stock_Change'] = merged_df['Ecosystem'].diff() * (-1)\n",
    "    merged_df.at[0, 'Stock_Change'] = 0\n",
    "\n",
    "    # Calculating (Stock Change - Harvested Carbon)\n",
    "    merged_df['Stock_Change_minus_Harvested_Carbon'] = merged_df['Stock_Change'] - merged_df['Harvested_Carbon']\n",
    "\n",
    "    # Plotting the graphs\n",
    "    fig, axs = plt.subplots(8, 1, figsize=(10, 40))\n",
    "\n",
    "    # Plot 1: Biomass Stock\n",
    "    axs[0].plot(merged_df.index, merged_df['Biomass'], label='Biomass Stock', color='green')\n",
    "    axs[0].set_title(\"Annual Biomass Stock\")\n",
    "    axs[0].set_xlabel(\"Year\")\n",
    "    axs[0].set_ylabel(\"Stock (ton C)\")\n",
    "    axs[0].set_xlim(0, n_steps)\n",
    "\n",
    "    # Plot 2: DOM Stock\n",
    "    axs[1].plot(merged_df.index, merged_df['DOM'], label='DOM Stock', color='brown')\n",
    "    axs[1].set_title(\"Annual DOM Stock\")\n",
    "    axs[1].set_xlabel(\"Year\")\n",
    "    axs[1].set_ylabel(\"Stock (ton C)\")\n",
    "    axs[1].set_xlim(0, n_steps)\n",
    "\n",
    "    # Plot 3: Ecosystem Stock\n",
    "    axs[2].plot(merged_df.index, merged_df['Ecosystem'], label='Ecosystem Stock', color='blue')\n",
    "    axs[2].set_title(\"Annual Ecosystem Stock\")\n",
    "    axs[2].set_xlabel(\"Year\")\n",
    "    axs[2].set_ylabel(\"Stock (ton C)\")\n",
    "    axs[2].set_xlim(0, n_steps)\n",
    "\n",
    "    # Plot 4: All Emissions\n",
    "    axs[3].plot(merged_df.index, merged_df['All_Emissions'], label='All Emissions', color='red')\n",
    "    axs[3].set_title(\"Annual Total Ecosystem Carbon Emissions\")\n",
    "    axs[3].set_xlabel(\"Year\")\n",
    "    axs[3].set_ylabel(\"Emissions (ton C)\")\n",
    "    axs[3].set_xlim(0, n_steps)\n",
    "\n",
    "    # Plot 5: Gross Growth\n",
    "    axs[4].plot(merged_df.index, merged_df['Gross_Growth'], label='Gross Growth', color='purple')\n",
    "    axs[4].set_title(\"Annual Gross Growth\")\n",
    "    axs[4].set_xlabel(\"Year\")\n",
    "    axs[4].set_ylabel(\"Growth (ton C)\")\n",
    "    axs[4].set_xlim(0, n_steps)\n",
    "\n",
    "    # Plot 6: Net Emissions\n",
    "    axs[5].plot(merged_df.index, merged_df['Net_Emissions'], label='Net Emissions', color='orange')\n",
    "    axs[5].set_title(\"Annual Net Ecosystem Carbon Emissions\")\n",
    "    axs[5].set_xlabel(\"Year\")\n",
    "    axs[5].set_ylabel(\"Emissions (ton C)\")\n",
    "    axs[5].set_xlim(0, n_steps)\n",
    "\n",
    "    # Plot 7: Stock Change\n",
    "    axs[6].plot(merged_df.index, merged_df['Stock_Change'], label='Stock Change', color='cyan')\n",
    "    axs[6].set_title(\"Annual Ecosystem Carbon Stock Change\")\n",
    "    axs[6].set_xlabel(\"Year\")\n",
    "    axs[6].set_ylabel(\"Stock Change (ton C)\")\n",
    "    axs[6].set_xlim(0, n_steps)\n",
    "\n",
    "    # Plot 8: Harvested Carbon\n",
    "    axs[7].plot(merged_df.index, merged_df['Harvested_Carbon'], label='Harvested Carbon', color='magenta')\n",
    "    axs[7].set_title(\"Annual Harvested Carbon\")\n",
    "    axs[7].set_xlabel(\"Year\")\n",
    "    axs[7].set_ylabel(\"Harvested Carbon (ton C)\")\n",
    "    axs[7].set_xlim(0, n_steps)\n",
    "\n",
    "    # Comparison plot for Net Emissions vs (Stock Change - Harvested Carbon)\n",
    "    plt.figure(figsize=(10, 6))\n",
    "    plt.plot(merged_df.index, merged_df['Net_Emissions'], label='Net Emissions', color='orange', linestyle='--')\n",
    "    plt.plot(merged_df.index, merged_df['Stock_Change_minus_Harvested_Carbon'], \n",
    "             label='Stock Change - Harvested Carbon', color='blue')\n",
    "    plt.title(\"Comparison of Annual Net Emissions and Annual (Stock Change - Harvested Carbon)\")\n",
    "    plt.xlabel(\"Year\")\n",
    "    plt.ylabel(\"Carbon (ton C)\")\n",
    "    plt.legend()\n",
    "\n",
    "    # Tight layout for better spacing\n",
    "    plt.tight_layout()\n",
    "    plt.show()\n",
    "\n",
    "    return merged_df"
   ]
  },
  {
   "cell_type": "markdown",
   "id": "08731aaf-311e-4511-9a8e-7a60332bb966",
   "metadata": {},
   "source": [
    "### No-harvesting"
   ]
  },
  {
   "cell_type": "code",
   "execution_count": null,
   "id": "f8cdbae5-f96a-4903-a036-36043d9ba90e",
   "metadata": {},
   "outputs": [],
   "source": [
    "cbm_report(fm, cbm_output, biomass_pools, dom_pools, total_emission, gross_growth, disturbance_production_fluxes, n_steps)"
   ]
  },
  {
   "cell_type": "markdown",
   "id": "4fa2ca21-2560-4844-85eb-37db987e9a59",
   "metadata": {
    "tags": []
   },
   "source": [
    "## Generate and Add Carbon Yield Curves"
   ]
  },
  {
   "cell_type": "markdown",
   "id": "76faf179-ba6c-4aee-a041-556242607fbc",
   "metadata": {
    "tags": []
   },
   "source": [
    "Rebuild the inventory table. Set age to 1 and area to 1.0 ha."
   ]
  },
  {
   "cell_type": "markdown",
   "id": "f6bb8543-9374-4f58-9856-efdbb8a76b38",
   "metadata": {
    "tags": []
   },
   "source": [
    "The `sit_events` table should be empty."
   ]
  },
  {
   "cell_type": "code",
   "execution_count": null,
   "id": "e62f32c6-8fb8-41fd-9217-c5efc483c0a4",
   "metadata": {},
   "outputs": [],
   "source": [
    "sit_yield = sit_tables['sit_yield']\n",
    "sit_yield"
   ]
  },
  {
   "cell_type": "code",
   "execution_count": null,
   "id": "fb9ffeff-7b58-4014-8381-f1c95e8ee279",
   "metadata": {
    "tags": []
   },
   "outputs": [],
   "source": [
    "sit_events = sit_tables['sit_events']"
   ]
  },
  {
   "cell_type": "code",
   "execution_count": null,
   "id": "aaaa597d-f5af-4ba0-8d88-2f74d52e841e",
   "metadata": {},
   "outputs": [],
   "source": [
    "sit_events"
   ]
  },
  {
   "cell_type": "code",
   "execution_count": null,
   "id": "012fd562-2f8e-4f2c-b7c9-627734b2fb4d",
   "metadata": {},
   "outputs": [],
   "source": [
    "sit_inventory = sit_tables['sit_inventory']"
   ]
  },
  {
   "cell_type": "code",
   "execution_count": null,
   "id": "d0df0f33-11bf-4b76-9da6-4c5b04fe4df2",
   "metadata": {},
   "outputs": [],
   "source": [
    "sit_inventory"
   ]
  },
  {
   "cell_type": "code",
   "execution_count": null,
   "id": "a607b9eb-a173-4b9c-a415-df607e8a3e77",
   "metadata": {
    "tags": []
   },
   "outputs": [],
   "source": [
    "# Set Age and Area to 1 and 1.0\n",
    "df = sit_inventory\n",
    "df['age'] = df['age'].apply(lambda x: 1)\n",
    "df['area'] = df['area'].apply(lambda x: 1.0)\n",
    "df = df.drop_duplicates(ignore_index=True)\n",
    "df"
   ]
  },
  {
   "cell_type": "markdown",
   "id": "f6a01c99-8a0c-49e7-95e5-9c17d5905887",
   "metadata": {},
   "source": [
    "Use the following code if any of the developments have no harvesting circumstances."
   ]
  },
  {
   "cell_type": "code",
   "execution_count": null,
   "id": "1ca7c0f5-bb3d-416a-8a94-140e4056fe0b",
   "metadata": {
    "tags": []
   },
   "outputs": [],
   "source": [
    "# # Replace the Sit Inventory File in the Sit Table\n",
    "sit_tables['sit_inventory'] = df"
   ]
  },
  {
   "cell_type": "code",
   "execution_count": null,
   "id": "4f8fc6e9-13dc-42bb-b42c-f80801b1c831",
   "metadata": {
    "tags": []
   },
   "outputs": [],
   "source": [
    "# Run CBM and Generate CBM 0utputs\n",
    "cbm_output_curves = run_cbm_emissionstock(sit_config, sit_tables, n_steps=700)"
   ]
  },
  {
   "cell_type": "code",
   "execution_count": null,
   "id": "ad4af3e8-b442-4faa-b33c-56662da43438",
   "metadata": {
    "tags": []
   },
   "outputs": [],
   "source": [
    "# Generate Carbon Pool and Flux Indicators\n",
    "pi = cbm_output_curves.classifiers.to_pandas().merge(cbm_output_curves.pools.to_pandas(), \n",
    "                                              left_on=[\"identifier\", \"timestep\"], \n",
    "                                              right_on=[\"identifier\", \"timestep\"])\n",
    "fi = cbm_output_curves.classifiers.to_pandas().merge(cbm_output_curves.flux.to_pandas(), \n",
    "                                              left_on=[\"identifier\", \"timestep\"], \n",
    "                                              right_on=[\"identifier\", \"timestep\"])"
   ]
  },
  {
   "cell_type": "code",
   "execution_count": null,
   "id": "ab699277-f3bb-4a94-b839-41a522a44dd0",
   "metadata": {
    "tags": []
   },
   "outputs": [],
   "source": [
    "# Define Development Type Keys\n",
    "pi['dtype_key'] = pi.apply(lambda r: '%s %s %s %s %s %s' % (r['theme0'], r['theme1'], r['theme2'], r['theme3'], r['theme4'], r['theme5']), axis=1)\n",
    "fi['dtype_key'] = fi.apply(lambda r: '%s %s %s %s %s %s' % (r['theme0'], r['theme1'], r['theme2'], r['theme3'], r['theme4'], r['theme5']), axis=1)"
   ]
  },
  {
   "cell_type": "code",
   "execution_count": null,
   "id": "e8c98179-8b2e-4d33-8aa6-7c490b086b08",
   "metadata": {},
   "outputs": [],
   "source": [
    "\n",
    "file_directory = \"./data/curves_scratch\"\n",
    "os.makedirs(file_directory, exist_ok=True)\n",
    "\n",
    "file_data = {\n",
    "    \"pi.csv\": pi,\n",
    "    \"fi.csv\": fi\n",
    "}\n",
    "\n",
    "for filename, data in file_data.items():\n",
    "    file_path = os.path.join(file_directory, filename)\n",
    "    # Assuming data is a dictionary or a list of dictionaries\n",
    "    # if isinstance(data, dict):\n",
    "    #     df = pd.DataFrame.from_dict(data, orient='index')\n",
    "    # elif isinstance(data, list):\n",
    "    #     df = pd.DataFrame(data)\n",
    "    # else:\n",
    "    #     raise ValueError(f\"Unsupported data type for {filename}\")\n",
    "    \n",
    "    data.to_csv(file_path, index=True)  # Save as CSV\n",
    "    print(f\"File saved at {file_path}\")\n"
   ]
  },
  {
   "cell_type": "code",
   "execution_count": null,
   "id": "4e5b61b2-1ce4-40dc-837f-6b346b3a0c4f",
   "metadata": {
    "tags": []
   },
   "outputs": [],
   "source": [
    "# Generate Carbon Pool anf Flux Curves\n",
    "c_curves_p = pi.groupby(['dtype_key', 'timestep'], as_index=True)[ecosystem_pools].sum()\n",
    "c_curves_f = fi.groupby(['dtype_key', 'timestep'], as_index=True)[all_fluxes].sum()"
   ]
  },
  {
   "cell_type": "code",
   "execution_count": null,
   "id": "6d140780-4ccc-46ea-b0a0-26fa9e464c03",
   "metadata": {
    "tags": []
   },
   "outputs": [],
   "source": [
    "# Generate sum carbon pool curves\n",
    "c_curves_p['ecosystem'] = c_curves_p[ecosystem_pools].sum(axis=1)\n",
    "c_curves_p['biomass'] = c_curves_p[biomass_pools].sum(axis=1)\n",
    "c_curves_p['DOM'] = c_curves_p[dom_pools].sum(axis=1)"
   ]
  },
  {
   "cell_type": "code",
   "execution_count": null,
   "id": "a2082ed8-9e62-43c9-b300-5f18b00ba2a2",
   "metadata": {},
   "outputs": [],
   "source": [
    "c_curves_p"
   ]
  },
  {
   "cell_type": "code",
   "execution_count": null,
   "id": "17c5e26d-7d3c-4d14-b38a-5a2057039a00",
   "metadata": {},
   "outputs": [],
   "source": [
    "c_curves_f['total_emission'] = 44/12 * c_curves_f[total_emission].sum(axis=1)\n",
    "c_curves_f['gross_growth'] = 44/12 * c_curves_f[gross_growth].sum(axis=1)\n",
    "c_curves_f['net_emission'] = c_curves_f['total_emission'] - c_curves_f['gross_growth']"
   ]
  },
  {
   "cell_type": "code",
   "execution_count": null,
   "id": "ccc2413d-cead-48e8-8695-e49151845689",
   "metadata": {},
   "outputs": [],
   "source": [
    "c_curves_f.loc[c_curves_f.index.get_level_values('timestep') == 0] = c_curves_f.loc[c_curves_f.index.get_level_values('timestep') == 1].values"
   ]
  },
  {
   "cell_type": "code",
   "execution_count": null,
   "id": "c253a8dc-7e3b-4f49-bac4-cb010629c66f",
   "metadata": {},
   "outputs": [],
   "source": [
    "c_curves_f"
   ]
  },
  {
   "cell_type": "code",
   "execution_count": null,
   "id": "cedbdcfa-ba0b-4bd8-a4f5-47d18d90aaa2",
   "metadata": {},
   "outputs": [],
   "source": [
    "len(list(fm.dtypes))"
   ]
  },
  {
   "cell_type": "code",
   "execution_count": null,
   "id": "432e8908-88b7-4547-8a24-a7190682967c",
   "metadata": {},
   "outputs": [],
   "source": [
    "def plugin_c_curves(fm, c_curves_p, c_curves_f, pools, fluxes):\n",
    "    # Dictionary to track registered curves for each dtype_key\n",
    "    registered_curves = {}\n",
    "\n",
    "    for dtype_key in fm.dtypes:\n",
    "        dt = fm.dt(dtype_key)\n",
    "        # mask = ('?', '?', dtype_key[2], '?', dtype_key[4], '?')\n",
    "        mask = ('?', '?', dtype_key[2], '?', dtype_key[4], dtype_key[5])\n",
    "        \n",
    "        for _mask, ytype, curves in fm.yields:\n",
    "            if _mask != mask: \n",
    "                continue  # Only proceed if the mask matches\n",
    "\n",
    "            print('found match for mask', mask)\n",
    "\n",
    "            # Initialize the tracking of registered curves for the dtype_key if not already done\n",
    "            if dtype_key not in registered_curves:\n",
    "                registered_curves[dtype_key] = set()\n",
    "\n",
    "            # Register pool curves\n",
    "            pool_data = c_curves_p.loc[' '.join(dtype_key)]\n",
    "            for yname in pools:\n",
    "                if yname not in registered_curves[dtype_key]:  # Check if curve is already registered\n",
    "                    points = list(zip(pool_data.index.values, pool_data[yname]))\n",
    "                    curve = fm.register_curve(ws3.core.Curve(yname, \n",
    "                                                             points=points, \n",
    "                                                             type='a', \n",
    "                                                             is_volume=False,\n",
    "                                                             xmax=fm.max_age,\n",
    "                                                             period_length=fm.period_length))\n",
    "                    curves.append((yname, curve))\n",
    "                    dt.add_ycomp('a', yname, curve)\n",
    "\n",
    "                    # Mark the curve as registered\n",
    "                    registered_curves[dtype_key].add(yname)\n",
    "\n",
    "            # Register flux curves\n",
    "            flux_data = c_curves_f.loc[' '.join(dtype_key)]\n",
    "            for yname in fluxes:\n",
    "                if yname not in registered_curves[dtype_key]:  # Check if curve is already registered\n",
    "                    points = list(zip(flux_data.index.values, flux_data[yname]))\n",
    "                    curve = fm.register_curve(ws3.core.Curve(yname, \n",
    "                                                             points=points, \n",
    "                                                             type='a', \n",
    "                                                             is_volume=False,\n",
    "                                                             xmax=fm.max_age,\n",
    "                                                             period_length=fm.period_length))\n",
    "                    curves.append((yname, curve))\n",
    "                    dt.add_ycomp('a', yname, curve)\n",
    "\n",
    "                    # Mark the curve as registered\n",
    "                    registered_curves[dtype_key].add(yname)\n"
   ]
  },
  {
   "cell_type": "code",
   "execution_count": null,
   "id": "830cfcef-2523-40a0-8098-0e8ca59f54c5",
   "metadata": {
    "tags": []
   },
   "outputs": [],
   "source": [
    "# Plug carbon yield curves into forest model\n",
    "# plugin_c_curves_both(fm, c_curves_p, c_curves_f)\n",
    "plugin_c_curves(fm, c_curves_p, c_curves_f, sum_pools, sum_fluxes)"
   ]
  },
  {
   "cell_type": "code",
   "execution_count": null,
   "id": "78a25137-ed3f-428c-a555-f270c6369994",
   "metadata": {
    "scrolled": true,
    "tags": []
   },
   "outputs": [],
   "source": [
    "# Check if all carbon yield curves are plugged in well.\n",
    "fm.yields"
   ]
  },
  {
   "cell_type": "code",
   "execution_count": null,
   "id": "3108f0fa-0122-4e94-afc5-6e8c8c0a98fc",
   "metadata": {},
   "outputs": [],
   "source": [
    "def compare_ws3_cbm(fm, cbm_output, disturbance_type_mapping, biomass_pools, dom_pools, total_emission, gross_growth, production, plots):\n",
    "    eco_pools = biomass_pools + dom_pools\n",
    "    pi = cbm_output.classifiers.to_pandas().merge(cbm_output.pools.to_pandas(), \n",
    "                                                  left_on=[\"identifier\", \"timestep\"], \n",
    "                                                  right_on=[\"identifier\", \"timestep\"])\n",
    "    fi = cbm_output.classifiers.to_pandas().merge(cbm_output.flux.to_pandas(), \n",
    "                                                  left_on=[\"identifier\", \"timestep\"], \n",
    "                                                  right_on=[\"identifier\", \"timestep\"])\n",
    "\n",
    "    df_cbm = pd.DataFrame({\n",
    "        'period': pi[\"timestep\"] * 0.1, \n",
    "        'biomass_stock': pi[biomass_pools].sum(axis=1),\n",
    "        'dom_stock': pi[dom_pools].sum(axis=1),\n",
    "        'eco_stock': pi[eco_pools].sum(axis=1),\n",
    "        'total_emission': 44/12 * fi[total_emission].sum(axis=1),\n",
    "        'gross_growth': 44/12 * fi[gross_growth].sum(axis=1),\n",
    "        'harvested_carbon': fi[production].sum(axis=1)\n",
    "    }).groupby('period').sum().iloc[1::10, :].reset_index()\n",
    "\n",
    "    df_cbm['period'] = (df_cbm['period'] + 0.9).astype(int)\n",
    "    df_cbm['net_emission'] = df_cbm['total_emission'] - df_cbm['gross_growth']\n",
    "    # df_cbm['eco_stock_change'] = df_cbm['eco_stock'].diff() * -1\n",
    "    # df_cbm.at[0, 'eco_stock_change'] = 0.\n",
    "    # df_cbm['sc-pr'] = df_cbm['eco_stock_change'] - df_cbm['harvested_carbon']\n",
    "\n",
    "    df_ws3 = pd.DataFrame({\n",
    "        'period': fm.periods,\n",
    "        'biomass_stock': [fm.inventory(period, 'biomass') for period in fm.periods],\n",
    "        'dom_stock': [fm.inventory(period, 'DOM') for period in fm.periods],\n",
    "        'eco_stock': [fm.inventory(period, 'ecosystem') for period in fm.periods],\n",
    "        'net_emission': [fm.inventory(period, 'net_emission') for period in fm.periods],\n",
    "        'harvested_carbon': [fm.compile_product(period, 'totvol * 0.85', acode='harvest') * 0.23 for period in fm.periods]\n",
    "    })\n",
    "\n",
    "    # df_ws3['eco_stock_change'] = df_ws3['eco_stock'].diff() * -1\n",
    "    # df_ws3.at[0, 'eco_stock_change'] = 0.\n",
    "    # df_ws3['sc-pr'] = df_ws3['eco_stock_change'] - df_ws3['harvested_carbon']\n",
    "\n",
    "    if plots == \"whole\":\n",
    "        # Create a figure for all comparisons in one plot\n",
    "        plt.figure(figsize=(10, 6))\n",
    "\n",
    "        # Plotting the ecosystem stock comparison\n",
    "        plt.plot(df_cbm['period'], df_cbm['eco_stock'], label='CBM Ecosystem Stock')\n",
    "        plt.plot(df_ws3['period'], df_ws3['eco_stock'], label='WS3 Ecosystem Stock')\n",
    "\n",
    "        # Plotting the biomass stock comparison\n",
    "        plt.plot(df_cbm['period'], df_cbm['biomass_stock'], label='CBM Biomass Stock')\n",
    "        plt.plot(df_ws3['period'], df_ws3['biomass_stock'], label='WS3 Biomass Stock')\n",
    "\n",
    "        # Plotting the DOM stock comparison\n",
    "        plt.plot(df_cbm['period'], df_cbm['dom_stock'], label='CBM DOM Stock')\n",
    "        plt.plot(df_ws3['period'], df_ws3['dom_stock'], label='WS3 DOM Stock')\n",
    "\n",
    "        # # Plotting the ecosystem carbon stock change comparison\n",
    "        # plt.plot(df_cbm['period'], df_cbm['eco_stock_change'], label='CBM Ecosystem Carbon Stock Change')\n",
    "        # plt.plot(df_ws3['period'], df_ws3['eco_stock_change'], label='WS3 Ecosystem Carbon Stock Change')\n",
    "\n",
    "        # Plotting the harvested carbon comparison\n",
    "        plt.plot(df_cbm['period'], df_cbm['harvested_carbon'], label='CBM Harvested Carbon')\n",
    "        plt.plot(df_ws3['period'], df_ws3['harvested_carbon'], label='WS3 Harvested Carbon')\n",
    "\n",
    "        # # Plotting the stock change minus harvested wood product (HWP) carbon\n",
    "        # plt.plot(df_cbm['period'], df_cbm['sc-pr'], label='CBM Stock Change - HWPs Carbon')\n",
    "        # plt.plot(df_ws3['period'], df_ws3['sc-pr'], label='WS3 Stock Change - HWPs Carbon')\n",
    "\n",
    "        # Plotting the net ecosystem carbon emission comparison\n",
    "        plt.plot(df_cbm['period'], df_cbm['net_emission'], label='CBM Net Ecosystem Emission')\n",
    "        plt.plot(df_ws3['period'], df_ws3['net_emission'], label='WS3 Net Ecosystem Emission')\n",
    "\n",
    "        # Set labels and title\n",
    "        plt.xlabel('Period')\n",
    "        plt.ylabel('Stock (ton C)')\n",
    "        plt.ylim(0, None)  # Ensure y-axis starts from 0\n",
    "\n",
    "        # Customize x-axis ticks to show every 2 periods\n",
    "        ticks = np.arange(df_cbm['period'].min() - 1, df_cbm['period'].max() + 1, 2)\n",
    "        plt.xticks(ticks)\n",
    "\n",
    "        # Add a legend to differentiate the lines\n",
    "        plt.legend()\n",
    "\n",
    "    if plots == \"individual\":\n",
    "        # Create a figure with subplots\n",
    "        fig, axs = plt.subplots(5, 1, figsize=(10, 16))  # Increase figure size for 7 subplots (added harvested carbon)\n",
    "\n",
    "        # Define x-axis ticks (0 to 20 with a step of 2)\n",
    "        ticks = np.arange(df_cbm['period'].min() - 1, df_cbm['period'].max() + 1, 2)\n",
    "\n",
    "        # Ecosystem stock comparison\n",
    "        axs[0].plot(df_cbm['period'], df_cbm['eco_stock'], label='CBM Ecosystem Stock')\n",
    "        axs[0].plot(df_ws3['period'], df_ws3['eco_stock'], label='WS3 Ecosystem Stock')\n",
    "        axs[0].set_xlabel('Period')\n",
    "        axs[0].set_ylabel('Stock (ton C)')\n",
    "        axs[0].set_xticks(ticks)\n",
    "        axs[0].legend()\n",
    "\n",
    "        # Biomass stock comparison\n",
    "        axs[1].plot(df_cbm['period'], df_cbm['biomass_stock'], label='CBM Biomass Stock')\n",
    "        axs[1].plot(df_ws3['period'], df_ws3['biomass_stock'], label='WS3 Biomass Stock')\n",
    "        axs[1].set_xlabel('Period')\n",
    "        axs[1].set_ylabel('Stock (ton C)')\n",
    "        axs[1].set_xticks(ticks)\n",
    "        axs[1].legend()\n",
    "\n",
    "        # DOM stock comparison\n",
    "        axs[2].plot(df_cbm['period'], df_cbm['dom_stock'], label='CBM DOM Stock')\n",
    "        axs[2].plot(df_ws3['period'], df_ws3['dom_stock'], label='WS3 DOM Stock')\n",
    "        axs[2].set_xlabel('Period')\n",
    "        axs[2].set_ylabel('Stock (ton C)')\n",
    "        axs[2].set_xticks(ticks)\n",
    "        axs[2].legend()\n",
    "\n",
    "        # # Ecosystem carbon stock change comparison\n",
    "        # axs[3].plot(df_cbm['period'], df_cbm['eco_stock_change'], label='CBM Ecosystem Carbon Stock Change')\n",
    "        # axs[3].plot(df_ws3['period'], df_ws3['eco_stock_change'], label='WS3 Ecosystem Carbon Stock Change')\n",
    "        # axs[3].set_xlabel('Period')\n",
    "        # axs[3].set_ylabel('Stock Change (ton C)')\n",
    "        # axs[3].set_xticks(ticks)\n",
    "        # axs[3].legend()\n",
    "\n",
    "        # Harvested carbon comparison\n",
    "        axs[3].plot(df_cbm['period'], df_cbm['harvested_carbon'], label='CBM Harvested Carbon')\n",
    "        axs[3].plot(df_ws3['period'], df_ws3['harvested_carbon'], label='WS3 Harvested Carbon')\n",
    "        axs[3].set_xlabel('Period')\n",
    "        axs[3].set_ylabel('Harvested Carbon (ton C)')\n",
    "        axs[3].set_xticks(ticks)\n",
    "        axs[3].legend()\n",
    "\n",
    "        # # Stock change minus harvested wood product (HWP) carbon comparison\n",
    "        # axs[5].plot(df_cbm['period'], df_cbm['sc-pr'], label='CBM Stock Change - HWPs Carbon')\n",
    "        # axs[5].plot(df_ws3['period'], df_ws3['sc-pr'], label='WS3 Stock Change - HWPs Carbon')\n",
    "        # axs[5].set_xlabel('Period')\n",
    "        # axs[5].set_ylabel('Stock Change (ton C)')\n",
    "        # axs[5].set_xticks(ticks)\n",
    "        # axs[5].legend()\n",
    "\n",
    "        # Net ecosystem carbon emission comparison\n",
    "        axs[4].plot(df_cbm['period'], df_cbm['net_emission'], label='CBM Net Ecosystem Emission')\n",
    "        axs[4].plot(df_ws3['period'], df_ws3['net_emission'], label='WS3 Net Ecosystem Emission')\n",
    "        axs[4].set_xlabel('Period')\n",
    "        axs[4].set_ylabel('Emission (ton C)')\n",
    "        axs[4].set_xticks(ticks)\n",
    "        axs[4].legend()\n",
    "\n",
    "    # Adjust layout to prevent overlap\n",
    "    plt.tight_layout()\n",
    "\n",
    "    # Show the combined plot\n",
    "    plt.show()\n",
    "\n",
    "    return df_cbm, df_ws3"
   ]
  },
  {
   "cell_type": "code",
   "execution_count": null,
   "id": "d77189a3-c761-4b40-ac68-1c292b56d634",
   "metadata": {},
   "outputs": [],
   "source": [
    "compare_ws3_cbm(fm, cbm_output, disturbance_type_mapping, biomass_pools, dom_pools, total_emission, gross_growth, disturbance_production_fluxes, plots='individual')"
   ]
  }
 ],
 "metadata": {
  "kernelspec": {
   "display_name": "Python 3 (venv:foo)",
   "language": "python",
   "name": "foo"
  },
  "language_info": {
   "codemirror_mode": {
    "name": "ipython",
    "version": 3
   },
   "file_extension": ".py",
   "mimetype": "text/x-python",
   "name": "python",
   "nbconvert_exporter": "python",
   "pygments_lexer": "ipython3",
   "version": "3.10.12"
  }
 },
 "nbformat": 4,
 "nbformat_minor": 5
}
