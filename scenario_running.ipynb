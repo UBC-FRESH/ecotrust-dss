{
 "cells": [
  {
   "cell_type": "markdown",
   "id": "1a5d44a5-2160-4043-aff7-eecad3db2ce0",
   "metadata": {
    "tags": []
   },
   "source": [
    "# Description\n",
    "\n",
    "The notebook automates the process of pushing a pair of scenarios (baseline and alternative) through the simulation and optimization pipeline, comparing outputs for each scenario. Key outputs include harvested area (hectares), harvested volume (m³), and growth (m³). The notebook also reports stand age class distribution, old growth attributes, and tree species diversity at the beginning and end of the planning horizon for each scenario. Additionally, it calculates biodiversity and socioeconomic indicators, while quantifying differences between baseline and alternative scenarios in terms of carbon stocks and net emissions over a customizable simulation horizon, set to 100 years by default (the system can easily be parametrized to simulate shorter or longer horizons)."
   ]
  },
  {
   "cell_type": "code",
   "execution_count": null,
   "id": "507940ce-d095-45ec-9527-1499bcaedb85",
   "metadata": {},
   "outputs": [],
   "source": [
    "import numpy as np\n",
    "import math\n",
    "import matplotlib.pyplot as plt\n",
    "import pandas as pd\n",
    "import ipywidgets as widgets\n",
    "from IPython.display import display\n",
    "import time\n",
    "import pickle\n",
    "import os\n",
    "import geopandas as gpd\n",
    "import ws3.forest, ws3.core\n",
    "import csv\n",
    "from functools import partial, wraps\n",
    "import distance\n",
    "import operator\n",
    "import shutil\n",
    "from IPython.display import display\n",
    "import libcbm\n",
    "from util import compile_events, cbm_report, compile_scenario_maxstock, plot_scenario_maxstock, run_cbm_emissionstock, run_scenario, plugin_c_curves, plugin_c_curves, cbm_report_both, compare_ws3_cbm, compare_ws3_cbm_both, track_system_stock, track_system_emission, compile_scenario_minemission, plot_scenario_minemission, kpi_age, kpi_species, cmp_c_ss, cmp_c_se, results_scenarios, bootstrap_ogi, compare_kpi_age, epsilon_computer, tradeoff_biodiversity_cs, tradeoff_hv_cs, tradeoff_hv_biodiversity, inventory_processing, curve_points_generator, fm_bootstrapper, carbon_curve_points"
   ]
  },
  {
   "cell_type": "code",
   "execution_count": null,
   "id": "caa996c0-da39-413b-9e1f-b6529e0fab04",
   "metadata": {},
   "outputs": [],
   "source": [
    "# Input paths\n",
    "# shapefile_path = './data/shp_files/tsa17_test.shp/stands selection.shp'\n",
    "shapefile_path = './data/shp_files/tsa45.shp/stands.shp'\n",
    "# shapefile_path = './data/shp_files/agg/merged_stands.gpkg'\n",
    "# shapefile_path = './data/shp_files/test_1/merged_stands.shp'\n",
    "# shapefile_path = './data/shp_files/aggregated/merged_stands.gpkg'"
   ]
  },
  {
   "cell_type": "code",
   "execution_count": null,
   "id": "69b705e5-bbd9-40dc-a6a6-e75ecbd7163f",
   "metadata": {},
   "outputs": [],
   "source": [
    "stands_org = gpd.read_file(shapefile_path)\n",
    "# stands_org = gpd.read_file(shapefile_path, layer=\"merged_stands\")\n",
    "\n",
    "# stands_org = stands_org.head(800)\n",
    "stands_org "
   ]
  },
  {
   "cell_type": "code",
   "execution_count": null,
   "id": "72947243-9990-4392-9dde-19effc8a2619",
   "metadata": {},
   "outputs": [],
   "source": [
    "# Initialize the input parameters\n",
    "base_year = 2020\n",
    "horizon = 7\n",
    "period_length = 10\n",
    "max_age = 1000\n",
    "n_steps = 100\n",
    "tvy_name = 'totvol'\n",
    "max_harvest = 1.0\n",
    "case_study = 'ecotrust'\n",
    "scenario_names = ['lowest carbon stock', 'business as usual', '40% of highest carbon stock', '60% of highest carbon stock', '20% of highest carbon stock', 'highest carbon stock']\n",
    "obj_mode = 'max_hv'\n",
    "hwp_pool_effect_value = 0\n",
    "release_immediately_value = 0\n",
    "displacement_effect = 0\n",
    "clt_percentage = 0\n",
    "credibility = 0\n",
    "budget_input = 10000000"
   ]
  },
  {
   "cell_type": "code",
   "execution_count": null,
   "id": "b6b1d59b-a5de-46ea-bc5d-3f140005133c",
   "metadata": {},
   "outputs": [],
   "source": [
    "# Reading yld table and changing AU column type into integer\n",
    "yld = pd.read_csv('./data/yld.csv')\n",
    "yld['AU'] = yld['AU'].astype(int)\n",
    "\n",
    "\n",
    "# Getting names and codes of canfi_species. This table will be used to add canfi_species column into yldmerged\n",
    "canf = pd.read_csv('data/canfi_species.csv')\n",
    "canf = canf[['name','canfi_species']].set_index('name')"
   ]
  },
  {
   "cell_type": "code",
   "execution_count": null,
   "id": "a80ba87a-20f0-4b05-90e5-f4bda4595328",
   "metadata": {},
   "outputs": [],
   "source": [
    "stands = inventory_processing(stands_org, canf)"
   ]
  },
  {
   "cell_type": "code",
   "execution_count": null,
   "id": "d4cdd668-4079-4f60-94bd-99825ab13ddf",
   "metadata": {},
   "outputs": [],
   "source": [
    "curve_points_table = curve_points_generator(stands, yld, canf)"
   ]
  },
  {
   "cell_type": "code",
   "execution_count": null,
   "id": "90c1648c-0e40-43b2-aa35-3381b9a83850",
   "metadata": {},
   "outputs": [],
   "source": [
    "fm = fm_bootstrapper(base_year, horizon, period_length, max_age, stands, curve_points_table, tvy_name)"
   ]
  },
  {
   "cell_type": "code",
   "execution_count": null,
   "id": "6cfae7a9-df41-4c0d-b880-e4d455e120a3",
   "metadata": {},
   "outputs": [],
   "source": [
    "c_curves_p, c_curves_f = carbon_curve_points(fm)"
   ]
  },
  {
   "cell_type": "code",
   "execution_count": null,
   "id": "ce1777eb-eff1-430c-b8be-39c310225c5c",
   "metadata": {
    "tags": []
   },
   "outputs": [],
   "source": [
    "# Plug carbon and old groth yield curves into forest model\n",
    "plugin_c_curves(fm, c_curves_p, c_curves_f)\n",
    "bootstrap_ogi(fm)"
   ]
  },
  {
   "cell_type": "code",
   "execution_count": null,
   "id": "240a314a-2719-4b7e-ab9d-6016ed60fd8a",
   "metadata": {},
   "outputs": [],
   "source": [
    "Start = time.time()\n",
    "\n",
    "epsilon, cs_max = epsilon_computer(fm, clt_percentage, hwp_pool_effect_value, displacement_effect, release_immediately_value, n=10, solver=ws3.opt.SOLVER_PULP)\n",
    "# scenario_names = scenario_options.get(case_study, [])\n",
    "for scenario_name in scenario_names:\n",
    "    print(f\"Running for {case_study}_{obj_mode}_{scenario_name}...\")\n",
    "    results_scenarios(fm, \n",
    "                      clt_percentage, \n",
    "                      credibility, \n",
    "                      budget_input, \n",
    "                      n_steps, \n",
    "                      max_harvest, \n",
    "                      scenario_name, \n",
    "                      displacement_effect, \n",
    "                      hwp_pool_effect_value, \n",
    "                      release_immediately_value, \n",
    "                      case_study, \n",
    "                      obj_mode, \n",
    "                      epsilon,\n",
    "                      cs_max,\n",
    "                      pickle_output_base=False, \n",
    "                      pickle_output_alter=False)\n",
    "print('It took', round((time.time() - Start) / 60, 1), \"minutes to run all scenarios.\")"
   ]
  },
  {
   "cell_type": "code",
   "execution_count": null,
   "id": "f2214a18-d7c0-452b-b171-692108e699a1",
   "metadata": {},
   "outputs": [],
   "source": [
    "tradeoff_biodiversity_cs(fm, clt_percentage, hwp_pool_effect_value, displacement_effect, release_immediately_value, n=4, solver=ws3.opt.SOLVER_PULP)"
   ]
  },
  {
   "cell_type": "code",
   "execution_count": null,
   "id": "d42d110b-1ff2-49d6-9c79-dbfbe0795052",
   "metadata": {},
   "outputs": [],
   "source": [
    "epsilon, cs_max = epsilon_computer(fm, clt_percentage, hwp_pool_effect_value, displacement_effect, release_immediately_value, n=4, solver=ws3.opt.SOLVER_PULP)\n",
    "tradeoff_hv_cs(fm, clt_percentage, hwp_pool_effect_value, displacement_effect, release_immediately_value, epsilon, cs_max, n=4, solver=ws3.opt.SOLVER_PULP)"
   ]
  },
  {
   "cell_type": "code",
   "execution_count": null,
   "id": "4c4c658c-a5fc-4afb-bbc0-63afdc96ea24",
   "metadata": {},
   "outputs": [],
   "source": [
    "tradeoff_hv_biodiversity(fm, clt_percentage, hwp_pool_effect_value, displacement_effect, release_immediately_value, n=4, solver=ws3.opt.SOLVER_PULP)"
   ]
  }
 ],
 "metadata": {
  "kernelspec": {
   "display_name": "Python 3.10 (venv-3.10)",
   "language": "python",
   "name": "venv-3.10"
  },
  "language_info": {
   "codemirror_mode": {
    "name": "ipython",
    "version": 3
   },
   "file_extension": ".py",
   "mimetype": "text/x-python",
   "name": "python",
   "nbconvert_exporter": "python",
   "pygments_lexer": "ipython3",
   "version": "3.10.16"
  }
 },
 "nbformat": 4,
 "nbformat_minor": 5
}
