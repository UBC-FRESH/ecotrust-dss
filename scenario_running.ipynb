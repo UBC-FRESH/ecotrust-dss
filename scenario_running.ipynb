{
 "cells": [
  {
   "cell_type": "markdown",
   "id": "1a5d44a5-2160-4043-aff7-eecad3db2ce0",
   "metadata": {
    "tags": []
   },
   "source": [
    "# Description\n",
    "\n",
    "The notebook automates the process of pushing a pair of scenarios (baseline and alternative) through the simulation and optimization pipeline, comparing outputs for each scenario. Key outputs include harvested area (hectares), harvested volume (m³), and growth (m³). The notebook also reports stand age class distribution, old growth attributes, and tree species diversity at the beginning and end of the planning horizon for each scenario. Additionally, it calculates biodiversity and socioeconomic indicators, while quantifying differences between baseline and alternative scenarios in terms of carbon stocks and net emissions over a customizable simulation horizon, set to 100 years by default (the system can easily be parametrized to simulate shorter or longer horizons)."
   ]
  },
  {
   "cell_type": "code",
   "execution_count": 1,
   "id": "507940ce-d095-45ec-9527-1499bcaedb85",
   "metadata": {},
   "outputs": [],
   "source": [
    "import numpy as np\n",
    "import math\n",
    "import matplotlib.pyplot as plt\n",
    "import pandas as pd\n",
    "import ipywidgets as widgets\n",
    "from IPython.display import display\n",
    "import time\n",
    "import pickle\n",
    "import os\n",
    "import geopandas as gpd\n",
    "import ws3.forest, ws3.core\n",
    "import csv\n",
    "from functools import partial, wraps\n",
    "import distance\n",
    "import operator\n",
    "import shutil\n",
    "from IPython.display import display\n",
    "import libcbm\n",
    "from util import compile_events, cbm_report, compile_scenario_maxstock, plot_scenario_maxstock, run_cbm_emissionstock, run_scenario, plugin_c_curves, plugin_c_curves, cbm_report_both, compare_ws3_cbm, compare_ws3_cbm_both, track_system_stock, track_system_emission, compile_scenario_minemission, plot_scenario_minemission, kpi_age, kpi_species, cmp_c_ss, cmp_c_se, results_scenarios, bootstrap_ogi, compare_kpi_age, epsilon_computer, tradeoff_biodiversity_cs, tradeoff_hv_cs, tradeoff_hv_biodiversity, inventory_processing, curve_points_generator, fm_bootstrapper, carbon_curve_points"
   ]
  },
  {
   "cell_type": "code",
   "execution_count": 2,
   "id": "caa996c0-da39-413b-9e1f-b6529e0fab04",
   "metadata": {},
   "outputs": [],
   "source": [
    "# Input paths\n",
    "# shapefile_path = './data/shp_files/tsa17_test.shp/stands selection.shp'\n",
    "shapefile_path = './data/shp_files/tsa45.shp/stands.shp'"
   ]
  },
  {
   "cell_type": "code",
   "execution_count": 3,
   "id": "69b705e5-bbd9-40dc-a6a6-e75ecbd7163f",
   "metadata": {},
   "outputs": [
    {
     "data": {
      "text/html": [
       "<div>\n",
       "<style scoped>\n",
       "    .dataframe tbody tr th:only-of-type {\n",
       "        vertical-align: middle;\n",
       "    }\n",
       "\n",
       "    .dataframe tbody tr th {\n",
       "        vertical-align: top;\n",
       "    }\n",
       "\n",
       "    .dataframe thead th {\n",
       "        text-align: right;\n",
       "    }\n",
       "</style>\n",
       "<table border=\"1\" class=\"dataframe\">\n",
       "  <thead>\n",
       "    <tr style=\"text-align: right;\">\n",
       "      <th></th>\n",
       "      <th>theme0</th>\n",
       "      <th>thlb</th>\n",
       "      <th>au</th>\n",
       "      <th>ldspp</th>\n",
       "      <th>age2015</th>\n",
       "      <th>shape_area</th>\n",
       "      <th>geometry</th>\n",
       "    </tr>\n",
       "  </thead>\n",
       "  <tbody>\n",
       "    <tr>\n",
       "      <th>0</th>\n",
       "      <td>tsa45</td>\n",
       "      <td>1</td>\n",
       "      <td>515</td>\n",
       "      <td>Amabilis fir</td>\n",
       "      <td>10</td>\n",
       "      <td>4.579024e-05</td>\n",
       "      <td>POLYGON ((854570.138 1010944.616, 854592.478 1...</td>\n",
       "    </tr>\n",
       "    <tr>\n",
       "      <th>1</th>\n",
       "      <td>tsa45</td>\n",
       "      <td>1</td>\n",
       "      <td>515</td>\n",
       "      <td>Amabilis fir</td>\n",
       "      <td>13</td>\n",
       "      <td>7.921784e-05</td>\n",
       "      <td>POLYGON ((853897.648 1009113.376, 853897.488 1...</td>\n",
       "    </tr>\n",
       "    <tr>\n",
       "      <th>2</th>\n",
       "      <td>tsa45</td>\n",
       "      <td>1</td>\n",
       "      <td>172</td>\n",
       "      <td>Amabilis fir</td>\n",
       "      <td>5</td>\n",
       "      <td>7.031440e-05</td>\n",
       "      <td>POLYGON ((848195.858 1011350.746, 848224.398 1...</td>\n",
       "    </tr>\n",
       "    <tr>\n",
       "      <th>3</th>\n",
       "      <td>tsa45</td>\n",
       "      <td>1</td>\n",
       "      <td>203</td>\n",
       "      <td>Western hemlock</td>\n",
       "      <td>26</td>\n",
       "      <td>4.812744e-06</td>\n",
       "      <td>POLYGON ((836432.78 1014457.699, 836431.799 10...</td>\n",
       "    </tr>\n",
       "    <tr>\n",
       "      <th>4</th>\n",
       "      <td>tsa45</td>\n",
       "      <td>1</td>\n",
       "      <td>185</td>\n",
       "      <td>Red alder</td>\n",
       "      <td>21</td>\n",
       "      <td>1.496789e-06</td>\n",
       "      <td>POLYGON ((836451.88 1014445.901, 836450.407 10...</td>\n",
       "    </tr>\n",
       "    <tr>\n",
       "      <th>...</th>\n",
       "      <td>...</td>\n",
       "      <td>...</td>\n",
       "      <td>...</td>\n",
       "      <td>...</td>\n",
       "      <td>...</td>\n",
       "      <td>...</td>\n",
       "      <td>...</td>\n",
       "    </tr>\n",
       "    <tr>\n",
       "      <th>95</th>\n",
       "      <td>tsa45</td>\n",
       "      <td>0</td>\n",
       "      <td>354</td>\n",
       "      <td>Paper birch</td>\n",
       "      <td>78</td>\n",
       "      <td>1.903457e-08</td>\n",
       "      <td>POLYGON ((1566901.247 574451.159, 1566838.349 ...</td>\n",
       "    </tr>\n",
       "    <tr>\n",
       "      <th>96</th>\n",
       "      <td>tsa45</td>\n",
       "      <td>0</td>\n",
       "      <td>354</td>\n",
       "      <td>Paper birch</td>\n",
       "      <td>88</td>\n",
       "      <td>2.507140e-08</td>\n",
       "      <td>POLYGON ((1567959.804 575395.55, 1567665.373 5...</td>\n",
       "    </tr>\n",
       "    <tr>\n",
       "      <th>97</th>\n",
       "      <td>tsa45</td>\n",
       "      <td>0</td>\n",
       "      <td>265</td>\n",
       "      <td>Subalpine fir</td>\n",
       "      <td>48</td>\n",
       "      <td>5.141971e-09</td>\n",
       "      <td>POLYGON ((1594382.304 584782.668, 1594382.023 ...</td>\n",
       "    </tr>\n",
       "    <tr>\n",
       "      <th>98</th>\n",
       "      <td>tsa45</td>\n",
       "      <td>0</td>\n",
       "      <td>312</td>\n",
       "      <td>Engelmann spruce</td>\n",
       "      <td>278</td>\n",
       "      <td>2.583513e-05</td>\n",
       "      <td>POLYGON ((1602482.566 645703.62, 1602511.278 6...</td>\n",
       "    </tr>\n",
       "    <tr>\n",
       "      <th>99</th>\n",
       "      <td>tsa45</td>\n",
       "      <td>0</td>\n",
       "      <td>265</td>\n",
       "      <td>Subalpine fir</td>\n",
       "      <td>78</td>\n",
       "      <td>3.100327e-05</td>\n",
       "      <td>POLYGON ((1601331.149 642440.045, 1601304.568 ...</td>\n",
       "    </tr>\n",
       "  </tbody>\n",
       "</table>\n",
       "<p>100 rows × 7 columns</p>\n",
       "</div>"
      ],
      "text/plain": [
       "   theme0  thlb   au             ldspp  age2015    shape_area  \\\n",
       "0   tsa45     1  515      Amabilis fir       10  4.579024e-05   \n",
       "1   tsa45     1  515      Amabilis fir       13  7.921784e-05   \n",
       "2   tsa45     1  172      Amabilis fir        5  7.031440e-05   \n",
       "3   tsa45     1  203   Western hemlock       26  4.812744e-06   \n",
       "4   tsa45     1  185         Red alder       21  1.496789e-06   \n",
       "..    ...   ...  ...               ...      ...           ...   \n",
       "95  tsa45     0  354       Paper birch       78  1.903457e-08   \n",
       "96  tsa45     0  354       Paper birch       88  2.507140e-08   \n",
       "97  tsa45     0  265     Subalpine fir       48  5.141971e-09   \n",
       "98  tsa45     0  312  Engelmann spruce      278  2.583513e-05   \n",
       "99  tsa45     0  265     Subalpine fir       78  3.100327e-05   \n",
       "\n",
       "                                             geometry  \n",
       "0   POLYGON ((854570.138 1010944.616, 854592.478 1...  \n",
       "1   POLYGON ((853897.648 1009113.376, 853897.488 1...  \n",
       "2   POLYGON ((848195.858 1011350.746, 848224.398 1...  \n",
       "3   POLYGON ((836432.78 1014457.699, 836431.799 10...  \n",
       "4   POLYGON ((836451.88 1014445.901, 836450.407 10...  \n",
       "..                                                ...  \n",
       "95  POLYGON ((1566901.247 574451.159, 1566838.349 ...  \n",
       "96  POLYGON ((1567959.804 575395.55, 1567665.373 5...  \n",
       "97  POLYGON ((1594382.304 584782.668, 1594382.023 ...  \n",
       "98  POLYGON ((1602482.566 645703.62, 1602511.278 6...  \n",
       "99  POLYGON ((1601331.149 642440.045, 1601304.568 ...  \n",
       "\n",
       "[100 rows x 7 columns]"
      ]
     },
     "execution_count": 3,
     "metadata": {},
     "output_type": "execute_result"
    }
   ],
   "source": [
    "stands_org = gpd.read_file(shapefile_path)\n",
    "# stands_org = stands_org.head(800)\n",
    "stands_org.head(100)"
   ]
  },
  {
   "cell_type": "code",
   "execution_count": 4,
   "id": "72947243-9990-4392-9dde-19effc8a2619",
   "metadata": {},
   "outputs": [],
   "source": [
    "# Initialize the input parameters\n",
    "base_year = 2020\n",
    "horizon = 7\n",
    "period_length = 10\n",
    "max_age = 1000\n",
    "n_steps = 100\n",
    "tvy_name = 'totvol'\n",
    "max_harvest = 1.0\n",
    "case_study = 'ecotrust'\n",
    "scenario_names = ['lowest carbon stock', 'business as usual', '40% of highest carbon stock', '60% of highest carbon stock', '20% of highest carbon stock', 'highest carbon stock']\n",
    "obj_mode = 'max_hv'\n",
    "hwp_pool_effect_value = 0\n",
    "release_immediately_value = 0\n",
    "displacement_effect = 0\n",
    "clt_percentage = 0\n",
    "credibility = 0\n",
    "budget_input = 10000000"
   ]
  },
  {
   "cell_type": "code",
   "execution_count": 5,
   "id": "b6b1d59b-a5de-46ea-bc5d-3f140005133c",
   "metadata": {},
   "outputs": [],
   "source": [
    "# Reading yld table and changing AU column type into integer\n",
    "yld = pd.read_csv('./data/yld.csv')\n",
    "yld['AU'] = yld['AU'].astype(int)\n",
    "\n",
    "\n",
    "# Getting names and codes of canfi_species. This table will be used to add canfi_species column into yldmerged\n",
    "canf = pd.read_csv('data/canfi_species_revised.csv')\n",
    "canf = canf[['name','canfi_species']].set_index('name')"
   ]
  },
  {
   "cell_type": "code",
   "execution_count": 6,
   "id": "a80ba87a-20f0-4b05-90e5-f4bda4595328",
   "metadata": {},
   "outputs": [],
   "source": [
    "stands = inventory_processing(stands_org, canf)"
   ]
  },
  {
   "cell_type": "code",
   "execution_count": 7,
   "id": "d4cdd668-4079-4f60-94bd-99825ab13ddf",
   "metadata": {},
   "outputs": [],
   "source": [
    "curve_points_table = curve_points_generator(stands, yld, canf)"
   ]
  },
  {
   "cell_type": "code",
   "execution_count": 8,
   "id": "90c1648c-0e40-43b2-aa35-3381b9a83850",
   "metadata": {},
   "outputs": [],
   "source": [
    "fm = fm_bootstrapper(base_year, horizon, period_length, max_age, stands, curve_points_table, tvy_name)"
   ]
  },
  {
   "cell_type": "code",
   "execution_count": 9,
   "id": "6cfae7a9-df41-4c0d-b880-e4d455e120a3",
   "metadata": {},
   "outputs": [
    {
     "name": "stderr",
     "output_type": "stream",
     "text": [
      "/home/salar2/project/ecotrust-dss-/venv-3.10/lib/python3.10/site-packages/libcbm/resources/__init__.py:112: RuntimeWarning: untested linux distribution: Linux-6.11.0-19-generic-x86_64-with-glibc2.39\n",
      "  warnings.warn(message, RuntimeWarning)\n",
      "/home/salar2/project/ecotrust-dss-/venv-3.10/lib/python3.10/site-packages/libcbm/resources/__init__.py:112: RuntimeWarning: untested linux distribution: Linux-6.11.0-19-generic-x86_64-with-glibc2.39\n",
      "  warnings.warn(message, RuntimeWarning)\n"
     ]
    }
   ],
   "source": [
    "c_curves_p, c_curves_f = carbon_curve_points(fm)"
   ]
  },
  {
   "cell_type": "code",
   "execution_count": 10,
   "id": "ce1777eb-eff1-430c-b8be-39c310225c5c",
   "metadata": {
    "tags": []
   },
   "outputs": [
    {
     "ename": "KeyboardInterrupt",
     "evalue": "",
     "output_type": "error",
     "traceback": [
      "\u001b[0;31m---------------------------------------------------------------------------\u001b[0m",
      "\u001b[0;31mKeyboardInterrupt\u001b[0m                         Traceback (most recent call last)",
      "Cell \u001b[0;32mIn[10], line 2\u001b[0m\n\u001b[1;32m      1\u001b[0m \u001b[38;5;66;03m# Plug carbon and old groth yield curves into forest model\u001b[39;00m\n\u001b[0;32m----> 2\u001b[0m \u001b[43mplugin_c_curves\u001b[49m\u001b[43m(\u001b[49m\u001b[43mfm\u001b[49m\u001b[43m,\u001b[49m\u001b[43m \u001b[49m\u001b[43mc_curves_p\u001b[49m\u001b[43m,\u001b[49m\u001b[43m \u001b[49m\u001b[43mc_curves_f\u001b[49m\u001b[43m)\u001b[49m\n\u001b[1;32m      3\u001b[0m bootstrap_ogi(fm)\n",
      "File \u001b[0;32m~/project/ecotrust-dss-/util.py:2764\u001b[0m, in \u001b[0;36mplugin_c_curves\u001b[0;34m(fm, c_curves_p, c_curves_f)\u001b[0m\n\u001b[1;32m   2761\u001b[0m         registered_curves[dtype_key]\u001b[38;5;241m.\u001b[39madd(yname)\n\u001b[1;32m   2763\u001b[0m \u001b[38;5;66;03m# Register flux curves\u001b[39;00m\n\u001b[0;32m-> 2764\u001b[0m flux_data \u001b[38;5;241m=\u001b[39m \u001b[43mc_curves_f\u001b[49m\u001b[38;5;241;43m.\u001b[39;49m\u001b[43mloc\u001b[49m\u001b[43m[\u001b[49m\u001b[38;5;124;43m'\u001b[39;49m\u001b[38;5;124;43m \u001b[39;49m\u001b[38;5;124;43m'\u001b[39;49m\u001b[38;5;241;43m.\u001b[39;49m\u001b[43mjoin\u001b[49m\u001b[43m(\u001b[49m\u001b[43mdtype_key\u001b[49m\u001b[43m)\u001b[49m\u001b[43m]\u001b[49m\n\u001b[1;32m   2765\u001b[0m \u001b[38;5;28;01mfor\u001b[39;00m yname \u001b[38;5;129;01min\u001b[39;00m sum_fluxes:\n\u001b[1;32m   2766\u001b[0m     \u001b[38;5;28;01mif\u001b[39;00m yname \u001b[38;5;129;01mnot\u001b[39;00m \u001b[38;5;129;01min\u001b[39;00m registered_curves[dtype_key]:  \u001b[38;5;66;03m# Check if curve is already registered\u001b[39;00m\n",
      "File \u001b[0;32m~/project/ecotrust-dss-/venv-3.10/lib/python3.10/site-packages/pandas/core/indexing.py:1191\u001b[0m, in \u001b[0;36m_LocationIndexer.__getitem__\u001b[0;34m(self, key)\u001b[0m\n\u001b[1;32m   1189\u001b[0m maybe_callable \u001b[38;5;241m=\u001b[39m com\u001b[38;5;241m.\u001b[39mapply_if_callable(key, \u001b[38;5;28mself\u001b[39m\u001b[38;5;241m.\u001b[39mobj)\n\u001b[1;32m   1190\u001b[0m maybe_callable \u001b[38;5;241m=\u001b[39m \u001b[38;5;28mself\u001b[39m\u001b[38;5;241m.\u001b[39m_check_deprecated_callable_usage(key, maybe_callable)\n\u001b[0;32m-> 1191\u001b[0m \u001b[38;5;28;01mreturn\u001b[39;00m \u001b[38;5;28;43mself\u001b[39;49m\u001b[38;5;241;43m.\u001b[39;49m\u001b[43m_getitem_axis\u001b[49m\u001b[43m(\u001b[49m\u001b[43mmaybe_callable\u001b[49m\u001b[43m,\u001b[49m\u001b[43m \u001b[49m\u001b[43maxis\u001b[49m\u001b[38;5;241;43m=\u001b[39;49m\u001b[43maxis\u001b[49m\u001b[43m)\u001b[49m\n",
      "File \u001b[0;32m~/project/ecotrust-dss-/venv-3.10/lib/python3.10/site-packages/pandas/core/indexing.py:1431\u001b[0m, in \u001b[0;36m_LocIndexer._getitem_axis\u001b[0;34m(self, key, axis)\u001b[0m\n\u001b[1;32m   1429\u001b[0m \u001b[38;5;66;03m# fall thru to straight lookup\u001b[39;00m\n\u001b[1;32m   1430\u001b[0m \u001b[38;5;28mself\u001b[39m\u001b[38;5;241m.\u001b[39m_validate_key(key, axis)\n\u001b[0;32m-> 1431\u001b[0m \u001b[38;5;28;01mreturn\u001b[39;00m \u001b[38;5;28;43mself\u001b[39;49m\u001b[38;5;241;43m.\u001b[39;49m\u001b[43m_get_label\u001b[49m\u001b[43m(\u001b[49m\u001b[43mkey\u001b[49m\u001b[43m,\u001b[49m\u001b[43m \u001b[49m\u001b[43maxis\u001b[49m\u001b[38;5;241;43m=\u001b[39;49m\u001b[43maxis\u001b[49m\u001b[43m)\u001b[49m\n",
      "File \u001b[0;32m~/project/ecotrust-dss-/venv-3.10/lib/python3.10/site-packages/pandas/core/indexing.py:1381\u001b[0m, in \u001b[0;36m_LocIndexer._get_label\u001b[0;34m(self, label, axis)\u001b[0m\n\u001b[1;32m   1379\u001b[0m \u001b[38;5;28;01mdef\u001b[39;00m\u001b[38;5;250m \u001b[39m\u001b[38;5;21m_get_label\u001b[39m(\u001b[38;5;28mself\u001b[39m, label, axis: AxisInt):\n\u001b[1;32m   1380\u001b[0m     \u001b[38;5;66;03m# GH#5567 this will fail if the label is not present in the axis.\u001b[39;00m\n\u001b[0;32m-> 1381\u001b[0m     \u001b[38;5;28;01mreturn\u001b[39;00m \u001b[38;5;28;43mself\u001b[39;49m\u001b[38;5;241;43m.\u001b[39;49m\u001b[43mobj\u001b[49m\u001b[38;5;241;43m.\u001b[39;49m\u001b[43mxs\u001b[49m\u001b[43m(\u001b[49m\u001b[43mlabel\u001b[49m\u001b[43m,\u001b[49m\u001b[43m \u001b[49m\u001b[43maxis\u001b[49m\u001b[38;5;241;43m=\u001b[39;49m\u001b[43maxis\u001b[49m\u001b[43m)\u001b[49m\n",
      "File \u001b[0;32m~/project/ecotrust-dss-/venv-3.10/lib/python3.10/site-packages/pandas/core/generic.py:4331\u001b[0m, in \u001b[0;36mNDFrame.xs\u001b[0;34m(self, key, axis, level, drop_level)\u001b[0m\n\u001b[1;32m   4329\u001b[0m     result \u001b[38;5;241m=\u001b[39m \u001b[38;5;28mself\u001b[39m\u001b[38;5;241m.\u001b[39miloc[:, loc]\n\u001b[1;32m   4330\u001b[0m \u001b[38;5;28;01melse\u001b[39;00m:\n\u001b[0;32m-> 4331\u001b[0m     result \u001b[38;5;241m=\u001b[39m \u001b[38;5;28;43mself\u001b[39;49m\u001b[38;5;241;43m.\u001b[39;49m\u001b[43miloc\u001b[49m\u001b[43m[\u001b[49m\u001b[43mloc\u001b[49m\u001b[43m]\u001b[49m\n\u001b[1;32m   4332\u001b[0m     result\u001b[38;5;241m.\u001b[39mindex \u001b[38;5;241m=\u001b[39m new_index\n\u001b[1;32m   4334\u001b[0m \u001b[38;5;66;03m# this could be a view\u001b[39;00m\n\u001b[1;32m   4335\u001b[0m \u001b[38;5;66;03m# but only in a single-dtyped view sliceable case\u001b[39;00m\n",
      "File \u001b[0;32m~/project/ecotrust-dss-/venv-3.10/lib/python3.10/site-packages/pandas/core/indexing.py:1191\u001b[0m, in \u001b[0;36m_LocationIndexer.__getitem__\u001b[0;34m(self, key)\u001b[0m\n\u001b[1;32m   1189\u001b[0m maybe_callable \u001b[38;5;241m=\u001b[39m com\u001b[38;5;241m.\u001b[39mapply_if_callable(key, \u001b[38;5;28mself\u001b[39m\u001b[38;5;241m.\u001b[39mobj)\n\u001b[1;32m   1190\u001b[0m maybe_callable \u001b[38;5;241m=\u001b[39m \u001b[38;5;28mself\u001b[39m\u001b[38;5;241m.\u001b[39m_check_deprecated_callable_usage(key, maybe_callable)\n\u001b[0;32m-> 1191\u001b[0m \u001b[38;5;28;01mreturn\u001b[39;00m \u001b[38;5;28;43mself\u001b[39;49m\u001b[38;5;241;43m.\u001b[39;49m\u001b[43m_getitem_axis\u001b[49m\u001b[43m(\u001b[49m\u001b[43mmaybe_callable\u001b[49m\u001b[43m,\u001b[49m\u001b[43m \u001b[49m\u001b[43maxis\u001b[49m\u001b[38;5;241;43m=\u001b[39;49m\u001b[43maxis\u001b[49m\u001b[43m)\u001b[49m\n",
      "File \u001b[0;32m~/project/ecotrust-dss-/venv-3.10/lib/python3.10/site-packages/pandas/core/indexing.py:1729\u001b[0m, in \u001b[0;36m_iLocIndexer._getitem_axis\u001b[0;34m(self, key, axis)\u001b[0m\n\u001b[1;32m   1723\u001b[0m     \u001b[38;5;28;01mraise\u001b[39;00m \u001b[38;5;167;01mIndexError\u001b[39;00m(\n\u001b[1;32m   1724\u001b[0m         \u001b[38;5;124m\"\u001b[39m\u001b[38;5;124mDataFrame indexer is not allowed for .iloc\u001b[39m\u001b[38;5;130;01m\\n\u001b[39;00m\u001b[38;5;124m\"\u001b[39m\n\u001b[1;32m   1725\u001b[0m         \u001b[38;5;124m\"\u001b[39m\u001b[38;5;124mConsider using .loc for automatic alignment.\u001b[39m\u001b[38;5;124m\"\u001b[39m\n\u001b[1;32m   1726\u001b[0m     )\n\u001b[1;32m   1728\u001b[0m \u001b[38;5;28;01mif\u001b[39;00m \u001b[38;5;28misinstance\u001b[39m(key, \u001b[38;5;28mslice\u001b[39m):\n\u001b[0;32m-> 1729\u001b[0m     \u001b[38;5;28;01mreturn\u001b[39;00m \u001b[38;5;28;43mself\u001b[39;49m\u001b[38;5;241;43m.\u001b[39;49m\u001b[43m_get_slice_axis\u001b[49m\u001b[43m(\u001b[49m\u001b[43mkey\u001b[49m\u001b[43m,\u001b[49m\u001b[43m \u001b[49m\u001b[43maxis\u001b[49m\u001b[38;5;241;43m=\u001b[39;49m\u001b[43maxis\u001b[49m\u001b[43m)\u001b[49m\n\u001b[1;32m   1731\u001b[0m \u001b[38;5;28;01mif\u001b[39;00m is_iterator(key):\n\u001b[1;32m   1732\u001b[0m     key \u001b[38;5;241m=\u001b[39m \u001b[38;5;28mlist\u001b[39m(key)\n",
      "File \u001b[0;32m~/project/ecotrust-dss-/venv-3.10/lib/python3.10/site-packages/pandas/core/indexing.py:1765\u001b[0m, in \u001b[0;36m_iLocIndexer._get_slice_axis\u001b[0;34m(self, slice_obj, axis)\u001b[0m\n\u001b[1;32m   1763\u001b[0m labels \u001b[38;5;241m=\u001b[39m obj\u001b[38;5;241m.\u001b[39m_get_axis(axis)\n\u001b[1;32m   1764\u001b[0m labels\u001b[38;5;241m.\u001b[39m_validate_positional_slice(slice_obj)\n\u001b[0;32m-> 1765\u001b[0m \u001b[38;5;28;01mreturn\u001b[39;00m \u001b[38;5;28;43mself\u001b[39;49m\u001b[38;5;241;43m.\u001b[39;49m\u001b[43mobj\u001b[49m\u001b[38;5;241;43m.\u001b[39;49m\u001b[43m_slice\u001b[49m\u001b[43m(\u001b[49m\u001b[43mslice_obj\u001b[49m\u001b[43m,\u001b[49m\u001b[43m \u001b[49m\u001b[43maxis\u001b[49m\u001b[38;5;241;43m=\u001b[39;49m\u001b[43maxis\u001b[49m\u001b[43m)\u001b[49m\n",
      "File \u001b[0;32m~/project/ecotrust-dss-/venv-3.10/lib/python3.10/site-packages/pandas/core/generic.py:4369\u001b[0m, in \u001b[0;36mNDFrame._slice\u001b[0;34m(self, slobj, axis)\u001b[0m\n\u001b[1;32m   4367\u001b[0m \u001b[38;5;28;01massert\u001b[39;00m \u001b[38;5;28misinstance\u001b[39m(slobj, \u001b[38;5;28mslice\u001b[39m), \u001b[38;5;28mtype\u001b[39m(slobj)\n\u001b[1;32m   4368\u001b[0m axis \u001b[38;5;241m=\u001b[39m \u001b[38;5;28mself\u001b[39m\u001b[38;5;241m.\u001b[39m_get_block_manager_axis(axis)\n\u001b[0;32m-> 4369\u001b[0m new_mgr \u001b[38;5;241m=\u001b[39m \u001b[38;5;28;43mself\u001b[39;49m\u001b[38;5;241;43m.\u001b[39;49m\u001b[43m_mgr\u001b[49m\u001b[38;5;241;43m.\u001b[39;49m\u001b[43mget_slice\u001b[49m\u001b[43m(\u001b[49m\u001b[43mslobj\u001b[49m\u001b[43m,\u001b[49m\u001b[43m \u001b[49m\u001b[43maxis\u001b[49m\u001b[38;5;241;43m=\u001b[39;49m\u001b[43maxis\u001b[49m\u001b[43m)\u001b[49m\n\u001b[1;32m   4370\u001b[0m result \u001b[38;5;241m=\u001b[39m \u001b[38;5;28mself\u001b[39m\u001b[38;5;241m.\u001b[39m_constructor_from_mgr(new_mgr, axes\u001b[38;5;241m=\u001b[39mnew_mgr\u001b[38;5;241m.\u001b[39maxes)\n\u001b[1;32m   4371\u001b[0m result \u001b[38;5;241m=\u001b[39m result\u001b[38;5;241m.\u001b[39m__finalize__(\u001b[38;5;28mself\u001b[39m)\n",
      "File \u001b[0;32minternals.pyx:871\u001b[0m, in \u001b[0;36mpandas._libs.internals.BlockManager.get_slice\u001b[0;34m()\u001b[0m\n",
      "File \u001b[0;32minternals.pyx:856\u001b[0m, in \u001b[0;36mpandas._libs.internals.BlockManager._slice_mgr_rows\u001b[0;34m()\u001b[0m\n",
      "File \u001b[0;32m~/project/ecotrust-dss-/venv-3.10/lib/python3.10/site-packages/pandas/core/internals/managers.py:913\u001b[0m, in \u001b[0;36mBlockManager.__init__\u001b[0;34m(self, blocks, axes, verify_integrity)\u001b[0m\n\u001b[1;32m    908\u001b[0m ndim \u001b[38;5;241m=\u001b[39m \u001b[38;5;241m2\u001b[39m\n\u001b[1;32m    910\u001b[0m \u001b[38;5;66;03m# ----------------------------------------------------------------\u001b[39;00m\n\u001b[1;32m    911\u001b[0m \u001b[38;5;66;03m# Constructors\u001b[39;00m\n\u001b[0;32m--> 913\u001b[0m \u001b[38;5;28;01mdef\u001b[39;00m\u001b[38;5;250m \u001b[39m\u001b[38;5;21m__init__\u001b[39m(\n\u001b[1;32m    914\u001b[0m     \u001b[38;5;28mself\u001b[39m,\n\u001b[1;32m    915\u001b[0m     blocks: Sequence[Block],\n\u001b[1;32m    916\u001b[0m     axes: Sequence[Index],\n\u001b[1;32m    917\u001b[0m     verify_integrity: \u001b[38;5;28mbool\u001b[39m \u001b[38;5;241m=\u001b[39m \u001b[38;5;28;01mTrue\u001b[39;00m,\n\u001b[1;32m    918\u001b[0m ) \u001b[38;5;241m-\u001b[39m\u001b[38;5;241m>\u001b[39m \u001b[38;5;28;01mNone\u001b[39;00m:\n\u001b[1;32m    919\u001b[0m     \u001b[38;5;28;01mif\u001b[39;00m verify_integrity:\n\u001b[1;32m    920\u001b[0m         \u001b[38;5;66;03m# Assertion disabled for performance\u001b[39;00m\n\u001b[1;32m    921\u001b[0m         \u001b[38;5;66;03m# assert all(isinstance(x, Index) for x in axes)\u001b[39;00m\n\u001b[1;32m    923\u001b[0m         \u001b[38;5;28;01mfor\u001b[39;00m block \u001b[38;5;129;01min\u001b[39;00m blocks:\n",
      "\u001b[0;31mKeyboardInterrupt\u001b[0m: "
     ]
    }
   ],
   "source": [
    "# Plug carbon and old groth yield curves into forest model\n",
    "plugin_c_curves(fm, c_curves_p, c_curves_f)\n",
    "bootstrap_ogi(fm)"
   ]
  },
  {
   "cell_type": "raw",
   "id": "48a0a8a4-cf8c-416f-8bba-7fd067b60c53",
   "metadata": {},
   "source": [
    "Start = time.time()\n",
    "\n",
    "epsilon, cs_max = epsilon_computer(fm, clt_percentage, hwp_pool_effect_value, displacement_effect, release_immediately_value, n=10, solver=ws3.opt.SOLVER_PULP)\n",
    "# scenario_names = scenario_options.get(case_study, [])\n",
    "for scenario_name in scenario_names:\n",
    "    print(f\"Running for {case_study}_{obj_mode}_{scenario_name}...\")\n",
    "    results_scenarios(fm, \n",
    "                      clt_percentage, \n",
    "                      credibility, \n",
    "                      budget_input, \n",
    "                      n_steps, \n",
    "                      max_harvest, \n",
    "                      scenario_name, \n",
    "                      displacement_effect, \n",
    "                      hwp_pool_effect_value, \n",
    "                      release_immediately_value, \n",
    "                      case_study, \n",
    "                      obj_mode, \n",
    "                      epsilon,\n",
    "                      cs_max,\n",
    "                      pickle_output_base=False, \n",
    "                      pickle_output_alter=False)\n",
    "print('It took', round((time.time() - Start) / 60, 1), \"minutes to run all scenarios.\")"
   ]
  },
  {
   "cell_type": "code",
   "execution_count": null,
   "id": "f2214a18-d7c0-452b-b171-692108e699a1",
   "metadata": {},
   "outputs": [],
   "source": [
    "tradeoff_biodiversity_cs(fm, clt_percentage, hwp_pool_effect_value, displacement_effect, release_immediately_value, n=4, solver=ws3.opt.SOLVER_PULP)"
   ]
  },
  {
   "cell_type": "code",
   "execution_count": null,
   "id": "d42d110b-1ff2-49d6-9c79-dbfbe0795052",
   "metadata": {},
   "outputs": [],
   "source": [
    "epsilon, cs_max = epsilon_computer(fm, clt_percentage, hwp_pool_effect_value, displacement_effect, release_immediately_value, n=4, solver=ws3.opt.SOLVER_PULP)\n",
    "tradeoff_hv_cs(fm, clt_percentage, hwp_pool_effect_value, displacement_effect, release_immediately_value, epsilon, cs_max, n=4, solver=ws3.opt.SOLVER_PULP)"
   ]
  },
  {
   "cell_type": "code",
   "execution_count": null,
   "id": "4c4c658c-a5fc-4afb-bbc0-63afdc96ea24",
   "metadata": {},
   "outputs": [],
   "source": [
    "tradeoff_hv_biodiversity(fm, clt_percentage, hwp_pool_effect_value, displacement_effect, release_immediately_value, n=4, solver=ws3.opt.SOLVER_PULP)"
   ]
  }
 ],
 "metadata": {
  "kernelspec": {
   "display_name": "Python 3.10 (venv-3.10)",
   "language": "python",
   "name": "venv-3.10"
  },
  "language_info": {
   "codemirror_mode": {
    "name": "ipython",
    "version": 3
   },
   "file_extension": ".py",
   "mimetype": "text/x-python",
   "name": "python",
   "nbconvert_exporter": "python",
   "pygments_lexer": "ipython3",
   "version": "3.10.16"
  }
 },
 "nbformat": 4,
 "nbformat_minor": 5
}
