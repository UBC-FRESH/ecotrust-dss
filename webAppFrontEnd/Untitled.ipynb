{
 "cells": [
  {
   "cell_type": "code",
   "execution_count": 1,
   "id": "f5b45888-87d2-4d9a-9e3b-dc21862c1a89",
   "metadata": {},
   "outputs": [
    {
     "name": "stdout",
     "output_type": "stream",
     "text": [
      "xxx00yyy\n",
      "xxx01yyy\n",
      "xxx02yyy\n",
      "xxx03yyy\n",
      "xxx04yyy\n",
      "xxx05yyy\n",
      "xxx06yyy\n",
      "xxx07yyy\n",
      "xxx08yyy\n",
      "xxx09yyy\n"
     ]
    }
   ],
   "source": [
    "for i in range(10):\n",
    "    print('xxx%02dyyy' % i)"
   ]
  },
  {
   "cell_type": "code",
   "execution_count": null,
   "id": "ef246f9e-d8ed-484a-a91d-d80112f2be6f",
   "metadata": {},
   "outputs": [],
   "source": [
    "gen-ub_010_cgen_cs"
   ]
  },
  {
   "cell_type": "code",
   "execution_count": 6,
   "id": "fd9b8cff-dbed-4be2-b2f4-d7ab4d3bb9fc",
   "metadata": {},
   "outputs": [
    {
     "name": "stdout",
     "output_type": "stream",
     "text": [
      "gen-ub_015_cgen_cs\n"
     ]
    }
   ],
   "source": [
    "print('gen-ub_%03d_cgen_cs' % 15) "
   ]
  },
  {
   "cell_type": "code",
   "execution_count": null,
   "id": "6ce7eaaa-4f8e-4737-ac4f-4745baed8e00",
   "metadata": {},
   "outputs": [],
   "source": []
  }
 ],
 "metadata": {
  "kernelspec": {
   "display_name": "Python 3 (ipykernel)",
   "language": "python",
   "name": "python3"
  },
  "language_info": {
   "codemirror_mode": {
    "name": "ipython",
    "version": 3
   },
   "file_extension": ".py",
   "mimetype": "text/x-python",
   "name": "python",
   "nbconvert_exporter": "python",
   "pygments_lexer": "ipython3",
   "version": "3.12.3"
  }
 },
 "nbformat": 4,
 "nbformat_minor": 5
}
